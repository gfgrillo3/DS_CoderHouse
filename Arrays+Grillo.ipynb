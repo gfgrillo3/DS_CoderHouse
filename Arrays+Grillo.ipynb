{
 "cells": [
  {
   "cell_type": "markdown",
   "id": "marine-nigeria",
   "metadata": {},
   "source": [
    "### Grillo, Gian Franco."
   ]
  },
  {
   "cell_type": "markdown",
   "id": "noted-scanning",
   "metadata": {},
   "source": [
    "# "
   ]
  },
  {
   "cell_type": "markdown",
   "id": "million-contributor",
   "metadata": {},
   "source": [
    "Imports para los ejercicios"
   ]
  },
  {
   "cell_type": "code",
   "execution_count": 1,
   "id": "automated-neutral",
   "metadata": {},
   "outputs": [],
   "source": [
    "import numpy as np\n",
    "import pandas as pd"
   ]
  },
  {
   "cell_type": "markdown",
   "id": "simplified-somerset",
   "metadata": {},
   "source": [
    "# "
   ]
  },
  {
   "cell_type": "markdown",
   "id": "accompanied-beaver",
   "metadata": {},
   "source": [
    "# 1"
   ]
  },
  {
   "cell_type": "markdown",
   "id": "different-homework",
   "metadata": {},
   "source": [
    "Generar un array aleatorio de 100 elementos. Calcular la mediana correspondiente"
   ]
  },
  {
   "cell_type": "code",
   "execution_count": 2,
   "id": "executed-wisconsin",
   "metadata": {},
   "outputs": [
    {
     "data": {
      "text/plain": [
       "array([55, 88, 72, 87, 60, 60, 23, 65, 70, 31, 74, 38, 91, 98, 57, 79, 49,\n",
       "       66, 53, 80, 87, 76, 25, 30, 51, 97, 26, 16, 26,  0,  9, 72, 95, 82,\n",
       "       27, 82, 72, 86, 24, 62, 83, 34, 63, 40, 29, 64, 96, 87, 31, 18, 96,\n",
       "        7, 98, 16, 88, 93, 46,  1, 91, 83, 90, 48, 89, 21,  8, 27,  6, 57,\n",
       "       49, 59, 33, 67, 36, 84, 70, 32, 75,  9, 82, 42, 95, 65, 54, 65,  9,\n",
       "       16, 89, 71, 93, 80, 53, 13, 62, 68, 71, 13, 90, 69, 92, 62])"
      ]
     },
     "execution_count": 2,
     "metadata": {},
     "output_type": "execute_result"
    }
   ],
   "source": [
    "#Array de 100 enteros aleatorios entre 0 y 100.\n",
    "\n",
    "random_100elem_array = np.random.randint(100, size=100)\n",
    "\n",
    "random_100elem_array"
   ]
  },
  {
   "cell_type": "code",
   "execution_count": 3,
   "id": "animal-employer",
   "metadata": {},
   "outputs": [
    {
     "name": "stdout",
     "output_type": "stream",
     "text": [
      "Mediana = 62.5\n"
     ]
    }
   ],
   "source": [
    "print(\"Mediana =\", np.median(random_100elem_array))"
   ]
  },
  {
   "cell_type": "markdown",
   "id": "minute-september",
   "metadata": {},
   "source": [
    "# "
   ]
  },
  {
   "cell_type": "markdown",
   "id": "russian-maker",
   "metadata": {},
   "source": [
    "# 2"
   ]
  },
  {
   "cell_type": "markdown",
   "id": "disturbed-jersey",
   "metadata": {},
   "source": [
    "Recordar los ejercicios con funciones para cálculo de factorial y suma de serie de la Clase 02. Repetir ambos ejercicios, pero ahora utilizar las nuevas operaciones aprendidas con los ndarrays."
   ]
  },
  {
   "cell_type": "markdown",
   "id": "essential-nursery",
   "metadata": {},
   "source": [
    "## 2.A \n",
    "Escribir una función para calcular el factorial de un número cualquiera."
   ]
  },
  {
   "cell_type": "code",
   "execution_count": 4,
   "id": "light-stylus",
   "metadata": {},
   "outputs": [],
   "source": [
    "def factorial(num):\n",
    "    return np.prod(range(1,num+1))"
   ]
  },
  {
   "cell_type": "code",
   "execution_count": 5,
   "id": "accompanied-orbit",
   "metadata": {},
   "outputs": [
    {
     "name": "stdout",
     "output_type": "stream",
     "text": [
      "Factorial de 4 es 24\n",
      "Factorial de 5 es 120\n",
      "Factorial de 0 es 1.0\n"
     ]
    }
   ],
   "source": [
    "print(\"Factorial de 4 es\",factorial(4)) #Esperando 24 como resultado.\n",
    "print(\"Factorial de 5 es\",factorial(5)) #Esperando 120 como resultado.\n",
    "print(\"Factorial de 0 es\",factorial(0)) #Esperando 1 como resultado."
   ]
  },
  {
   "cell_type": "markdown",
   "id": "grand-throw",
   "metadata": {},
   "source": [
    "## 2.B\n",
    "Escribir una función para calcular la suma de una serie comenzando por un número cualquiera y terminando en otro número que debe ser mayor al primero."
   ]
  },
  {
   "cell_type": "code",
   "execution_count": 6,
   "id": "cathedral-brooklyn",
   "metadata": {},
   "outputs": [],
   "source": [
    "#Sin especificar, en esta implementación, se verifica cual de los 2 números es el mayor para sumar desde el menor\n",
    "#hasta el mayor.\n",
    "#\n",
    "#Sin especificar, se incluirán ambos numeros ingresados en la suma de la serie, salvo que ambos numeros sean iguales\n",
    "#en el caso que el inicial sea igual al final, se devolverá ese número como resultado\n",
    "\n",
    "def sumarSerie(primerNumero, segundoNumero):\n",
    "        \n",
    "    #Si el segundo número es mayor al primero, intercambio valores\n",
    "    if primerNumero > segundoNumero:\n",
    "        primerNumero,segundoNumero = segundoNumero,primerNumero\n",
    "        \n",
    "    return np.sum(range(primerNumero,segundoNumero+1))"
   ]
  },
  {
   "cell_type": "code",
   "execution_count": 7,
   "id": "inner-condition",
   "metadata": {},
   "outputs": [
    {
     "name": "stdout",
     "output_type": "stream",
     "text": [
      "Suma de los numeros entre 0 y 10 = 55\n",
      "Suma de los numeros entre -5 y 0 = -15\n",
      "Suma de los numeros entre 15 y 10 = 75\n",
      "Suma de los numeros entre 4 y 0 = 10\n",
      "Suma de los numeros entre 8 y 8 = 8\n"
     ]
    }
   ],
   "source": [
    "print(\"Suma de los numeros entre 0 y 10 =\",sumarSerie(0,10)) #Esperando como resultado 55\n",
    "print(\"Suma de los numeros entre -5 y 0 =\",sumarSerie(-5,0)) #Esperando como resultado -15\n",
    "print(\"Suma de los numeros entre 15 y 10 =\",sumarSerie(15,10)) #Esperando como resultado 75\n",
    "print(\"Suma de los numeros entre 4 y 0 =\",sumarSerie(4,0)) #Esperando como resultado 10\n",
    "print(\"Suma de los numeros entre 8 y 8 =\",sumarSerie(8,8)) #Esperando como resultado 8"
   ]
  },
  {
   "cell_type": "markdown",
   "id": "burning-ballet",
   "metadata": {},
   "source": [
    "# "
   ]
  },
  {
   "cell_type": "markdown",
   "id": "increasing-avatar",
   "metadata": {},
   "source": [
    "# 3"
   ]
  },
  {
   "cell_type": "markdown",
   "id": "hairy-single",
   "metadata": {},
   "source": [
    "En este link se provee un archivo con los resultados de la Encuesta de Sueldos de Openqube de Febrero 2020 (https://sueldos.openqube.io/encuesta-sueldos-2020.02/ ), Calcular y comparar media y mediana de los sueldos netos."
   ]
  },
  {
   "cell_type": "code",
   "execution_count": 8,
   "id": "shared-navigation",
   "metadata": {
    "scrolled": false
   },
   "outputs": [
    {
     "name": "stdout",
     "output_type": "stream",
     "text": [
      "Media = 19306004.38\n",
      "Mediana = 76000.00\n"
     ]
    }
   ],
   "source": [
    "df_encuesta_sueldos = pd.read_csv(\"C:\\\\Users\\\\usuario\\\\Downloads\\\\Salarios Openqube - 2020.02.csv\")\n",
    "\n",
    "#limpieza de nulos\n",
    "sueldos_netos = df_encuesta_sueldos['Salario mensual NETO (en tu moneda local)'].dropna()\n",
    "\n",
    "#conversión a tipo numerico ignorando valores con errores de formato\n",
    "sueldos_netos = pd.to_numeric(sueldos_netos, errors='coerce')\n",
    "\n",
    "\n",
    "print(\"Media = {:.2f}\".format(sueldos_netos.mean()))\n",
    "print(\"Mediana = {:.2f}\".format(sueldos_netos.median()))\n"
   ]
  }
 ],
 "metadata": {
  "kernelspec": {
   "display_name": "Python 3",
   "language": "python",
   "name": "python3"
  },
  "language_info": {
   "codemirror_mode": {
    "name": "ipython",
    "version": 3
   },
   "file_extension": ".py",
   "mimetype": "text/x-python",
   "name": "python",
   "nbconvert_exporter": "python",
   "pygments_lexer": "ipython3",
   "version": "3.7.7"
  }
 },
 "nbformat": 4,
 "nbformat_minor": 5
}

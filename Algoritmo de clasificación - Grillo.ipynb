{
 "cells": [
  {
   "cell_type": "markdown",
   "id": "vocal-shanghai",
   "metadata": {},
   "source": [
    "    - Gallo, Florentina\n",
    "    - Grillo, Gian Franco\n",
    "    - Pizzingrilli, Federico\n",
    "    - Quiroga, Gerardo"
   ]
  },
  {
   "cell_type": "markdown",
   "id": "grand-productivity",
   "metadata": {},
   "source": [
    "# "
   ]
  },
  {
   "cell_type": "markdown",
   "id": "social-reflection",
   "metadata": {},
   "source": [
    "Imports para los ejercicios"
   ]
  },
  {
   "cell_type": "code",
   "execution_count": 1,
   "id": "attractive-mainstream",
   "metadata": {},
   "outputs": [],
   "source": [
    "import pandas as pd\n",
    "import numpy as np\n",
    "\n",
    "import matplotlib.pyplot as plt\n",
    "import seaborn as sns\n",
    "\n",
    "from sklearn.decomposition import PCA\n",
    "from sklearn.model_selection import GridSearchCV\n",
    "from sklearn.tree import DecisionTreeClassifier\n",
    "from sklearn.ensemble import RandomForestClassifier\n",
    "from sklearn.svm import SVC\n",
    "from sklearn.ensemble import GradientBoostingClassifier\n",
    "\n",
    "\n",
    "from sklearn.model_selection import train_test_split\n",
    "from sklearn.metrics import accuracy_score\n",
    "from sklearn.metrics import confusion_matrix\n",
    "from sklearn import tree\n",
    "\n"
   ]
  },
  {
   "cell_type": "code",
   "execution_count": 2,
   "id": "ordinary-demand",
   "metadata": {},
   "outputs": [],
   "source": [
    "#Seteo para ver todas las columnas cuando muestro un dataframe\n",
    "pd.set_option('display.max_columns', None)\n",
    "\n",
    "%matplotlib inline"
   ]
  },
  {
   "cell_type": "markdown",
   "id": "domestic-estimate",
   "metadata": {},
   "source": [
    "# "
   ]
  },
  {
   "cell_type": "markdown",
   "id": "roman-chance",
   "metadata": {},
   "source": [
    "# "
   ]
  },
  {
   "cell_type": "markdown",
   "id": "surgical-tutorial",
   "metadata": {},
   "source": [
    "# Data Acquisition"
   ]
  },
  {
   "cell_type": "markdown",
   "id": "broadband-ground",
   "metadata": {},
   "source": [
    "Cargamos y vemos el dataset."
   ]
  },
  {
   "cell_type": "code",
   "execution_count": 3,
   "id": "dressed-wildlife",
   "metadata": {
    "scrolled": true
   },
   "outputs": [
    {
     "data": {
      "text/html": [
       "<div>\n",
       "<style scoped>\n",
       "    .dataframe tbody tr th:only-of-type {\n",
       "        vertical-align: middle;\n",
       "    }\n",
       "\n",
       "    .dataframe tbody tr th {\n",
       "        vertical-align: top;\n",
       "    }\n",
       "\n",
       "    .dataframe thead th {\n",
       "        text-align: right;\n",
       "    }\n",
       "</style>\n",
       "<table border=\"1\" class=\"dataframe\">\n",
       "  <thead>\n",
       "    <tr style=\"text-align: right;\">\n",
       "      <th></th>\n",
       "      <th>track</th>\n",
       "      <th>artist</th>\n",
       "      <th>uri</th>\n",
       "      <th>danceability</th>\n",
       "      <th>energy</th>\n",
       "      <th>key</th>\n",
       "      <th>loudness</th>\n",
       "      <th>mode</th>\n",
       "      <th>speechiness</th>\n",
       "      <th>acousticness</th>\n",
       "      <th>instrumentalness</th>\n",
       "      <th>liveness</th>\n",
       "      <th>valence</th>\n",
       "      <th>tempo</th>\n",
       "      <th>duration_ms</th>\n",
       "      <th>time_signature</th>\n",
       "      <th>chorus_hit</th>\n",
       "      <th>sections</th>\n",
       "      <th>target</th>\n",
       "    </tr>\n",
       "  </thead>\n",
       "  <tbody>\n",
       "    <tr>\n",
       "      <th>0</th>\n",
       "      <td>Wild Things</td>\n",
       "      <td>Alessia Cara</td>\n",
       "      <td>spotify:track:2ZyuwVvV6Z3XJaXIFbspeE</td>\n",
       "      <td>0.741</td>\n",
       "      <td>0.626</td>\n",
       "      <td>1</td>\n",
       "      <td>-4.826</td>\n",
       "      <td>0</td>\n",
       "      <td>0.0886</td>\n",
       "      <td>0.02000</td>\n",
       "      <td>0.000000</td>\n",
       "      <td>0.0828</td>\n",
       "      <td>0.7060</td>\n",
       "      <td>108.029</td>\n",
       "      <td>188493</td>\n",
       "      <td>4</td>\n",
       "      <td>41.18681</td>\n",
       "      <td>10</td>\n",
       "      <td>1</td>\n",
       "    </tr>\n",
       "    <tr>\n",
       "      <th>1</th>\n",
       "      <td>Surfboard</td>\n",
       "      <td>Esquivel!</td>\n",
       "      <td>spotify:track:61APOtq25SCMuK0V5w2Kgp</td>\n",
       "      <td>0.447</td>\n",
       "      <td>0.247</td>\n",
       "      <td>5</td>\n",
       "      <td>-14.661</td>\n",
       "      <td>0</td>\n",
       "      <td>0.0346</td>\n",
       "      <td>0.87100</td>\n",
       "      <td>0.814000</td>\n",
       "      <td>0.0946</td>\n",
       "      <td>0.2500</td>\n",
       "      <td>155.489</td>\n",
       "      <td>176880</td>\n",
       "      <td>3</td>\n",
       "      <td>33.18083</td>\n",
       "      <td>9</td>\n",
       "      <td>0</td>\n",
       "    </tr>\n",
       "    <tr>\n",
       "      <th>2</th>\n",
       "      <td>Love Someone</td>\n",
       "      <td>Lukas Graham</td>\n",
       "      <td>spotify:track:2JqnpexlO9dmvjUMCaLCLJ</td>\n",
       "      <td>0.550</td>\n",
       "      <td>0.415</td>\n",
       "      <td>9</td>\n",
       "      <td>-6.557</td>\n",
       "      <td>0</td>\n",
       "      <td>0.0520</td>\n",
       "      <td>0.16100</td>\n",
       "      <td>0.000000</td>\n",
       "      <td>0.1080</td>\n",
       "      <td>0.2740</td>\n",
       "      <td>172.065</td>\n",
       "      <td>205463</td>\n",
       "      <td>4</td>\n",
       "      <td>44.89147</td>\n",
       "      <td>9</td>\n",
       "      <td>1</td>\n",
       "    </tr>\n",
       "    <tr>\n",
       "      <th>3</th>\n",
       "      <td>Music To My Ears (feat. Tory Lanez)</td>\n",
       "      <td>Keys N Krates</td>\n",
       "      <td>spotify:track:0cjfLhk8WJ3etPTCseKXtk</td>\n",
       "      <td>0.502</td>\n",
       "      <td>0.648</td>\n",
       "      <td>0</td>\n",
       "      <td>-5.698</td>\n",
       "      <td>0</td>\n",
       "      <td>0.0527</td>\n",
       "      <td>0.00513</td>\n",
       "      <td>0.000000</td>\n",
       "      <td>0.2040</td>\n",
       "      <td>0.2910</td>\n",
       "      <td>91.837</td>\n",
       "      <td>193043</td>\n",
       "      <td>4</td>\n",
       "      <td>29.52521</td>\n",
       "      <td>7</td>\n",
       "      <td>0</td>\n",
       "    </tr>\n",
       "    <tr>\n",
       "      <th>4</th>\n",
       "      <td>Juju On That Beat (TZ Anthem)</td>\n",
       "      <td>Zay Hilfigerrr &amp; Zayion McCall</td>\n",
       "      <td>spotify:track:1lItf5ZXJc1by9SbPeljFd</td>\n",
       "      <td>0.807</td>\n",
       "      <td>0.887</td>\n",
       "      <td>1</td>\n",
       "      <td>-3.892</td>\n",
       "      <td>1</td>\n",
       "      <td>0.2750</td>\n",
       "      <td>0.00381</td>\n",
       "      <td>0.000000</td>\n",
       "      <td>0.3910</td>\n",
       "      <td>0.7800</td>\n",
       "      <td>160.517</td>\n",
       "      <td>144244</td>\n",
       "      <td>4</td>\n",
       "      <td>24.99199</td>\n",
       "      <td>8</td>\n",
       "      <td>1</td>\n",
       "    </tr>\n",
       "    <tr>\n",
       "      <th>...</th>\n",
       "      <td>...</td>\n",
       "      <td>...</td>\n",
       "      <td>...</td>\n",
       "      <td>...</td>\n",
       "      <td>...</td>\n",
       "      <td>...</td>\n",
       "      <td>...</td>\n",
       "      <td>...</td>\n",
       "      <td>...</td>\n",
       "      <td>...</td>\n",
       "      <td>...</td>\n",
       "      <td>...</td>\n",
       "      <td>...</td>\n",
       "      <td>...</td>\n",
       "      <td>...</td>\n",
       "      <td>...</td>\n",
       "      <td>...</td>\n",
       "      <td>...</td>\n",
       "      <td>...</td>\n",
       "    </tr>\n",
       "    <tr>\n",
       "      <th>6393</th>\n",
       "      <td>Lotus Flowers</td>\n",
       "      <td>Yolta</td>\n",
       "      <td>spotify:track:4t1TljQWJ6ZuoSY67zVvBI</td>\n",
       "      <td>0.172</td>\n",
       "      <td>0.358</td>\n",
       "      <td>9</td>\n",
       "      <td>-14.430</td>\n",
       "      <td>1</td>\n",
       "      <td>0.0342</td>\n",
       "      <td>0.88600</td>\n",
       "      <td>0.966000</td>\n",
       "      <td>0.3140</td>\n",
       "      <td>0.0361</td>\n",
       "      <td>72.272</td>\n",
       "      <td>150857</td>\n",
       "      <td>4</td>\n",
       "      <td>24.30824</td>\n",
       "      <td>7</td>\n",
       "      <td>0</td>\n",
       "    </tr>\n",
       "    <tr>\n",
       "      <th>6394</th>\n",
       "      <td>Calling My Spirit</td>\n",
       "      <td>Kodak Black</td>\n",
       "      <td>spotify:track:2MShy1GSSgbmGUxADNIao5</td>\n",
       "      <td>0.910</td>\n",
       "      <td>0.366</td>\n",
       "      <td>1</td>\n",
       "      <td>-9.954</td>\n",
       "      <td>1</td>\n",
       "      <td>0.0941</td>\n",
       "      <td>0.09960</td>\n",
       "      <td>0.000000</td>\n",
       "      <td>0.2610</td>\n",
       "      <td>0.7400</td>\n",
       "      <td>119.985</td>\n",
       "      <td>152000</td>\n",
       "      <td>4</td>\n",
       "      <td>32.53856</td>\n",
       "      <td>8</td>\n",
       "      <td>1</td>\n",
       "    </tr>\n",
       "    <tr>\n",
       "      <th>6395</th>\n",
       "      <td>Teenage Dream</td>\n",
       "      <td>Katy Perry</td>\n",
       "      <td>spotify:track:55qBw1900pZKfXJ6Q9A2Lc</td>\n",
       "      <td>0.719</td>\n",
       "      <td>0.804</td>\n",
       "      <td>10</td>\n",
       "      <td>-4.581</td>\n",
       "      <td>1</td>\n",
       "      <td>0.0355</td>\n",
       "      <td>0.01320</td>\n",
       "      <td>0.000003</td>\n",
       "      <td>0.1390</td>\n",
       "      <td>0.6050</td>\n",
       "      <td>119.999</td>\n",
       "      <td>227760</td>\n",
       "      <td>4</td>\n",
       "      <td>20.73371</td>\n",
       "      <td>7</td>\n",
       "      <td>1</td>\n",
       "    </tr>\n",
       "    <tr>\n",
       "      <th>6396</th>\n",
       "      <td>Stormy Weather</td>\n",
       "      <td>Oscar Peterson</td>\n",
       "      <td>spotify:track:4o9npmYHrOF1rUxxTVH8h4</td>\n",
       "      <td>0.600</td>\n",
       "      <td>0.177</td>\n",
       "      <td>7</td>\n",
       "      <td>-16.070</td>\n",
       "      <td>1</td>\n",
       "      <td>0.0561</td>\n",
       "      <td>0.98900</td>\n",
       "      <td>0.868000</td>\n",
       "      <td>0.1490</td>\n",
       "      <td>0.5600</td>\n",
       "      <td>120.030</td>\n",
       "      <td>213387</td>\n",
       "      <td>4</td>\n",
       "      <td>21.65301</td>\n",
       "      <td>14</td>\n",
       "      <td>0</td>\n",
       "    </tr>\n",
       "    <tr>\n",
       "      <th>6397</th>\n",
       "      <td>Dust</td>\n",
       "      <td>Hans Zimmer</td>\n",
       "      <td>spotify:track:2khIaVUkbMmDHB596lyMG3</td>\n",
       "      <td>0.121</td>\n",
       "      <td>0.123</td>\n",
       "      <td>4</td>\n",
       "      <td>-23.025</td>\n",
       "      <td>0</td>\n",
       "      <td>0.0443</td>\n",
       "      <td>0.96400</td>\n",
       "      <td>0.696000</td>\n",
       "      <td>0.1030</td>\n",
       "      <td>0.0297</td>\n",
       "      <td>95.182</td>\n",
       "      <td>341396</td>\n",
       "      <td>4</td>\n",
       "      <td>71.05343</td>\n",
       "      <td>15</td>\n",
       "      <td>0</td>\n",
       "    </tr>\n",
       "  </tbody>\n",
       "</table>\n",
       "<p>6398 rows × 19 columns</p>\n",
       "</div>"
      ],
      "text/plain": [
       "                                    track                          artist  \\\n",
       "0                             Wild Things                    Alessia Cara   \n",
       "1                               Surfboard                       Esquivel!   \n",
       "2                            Love Someone                    Lukas Graham   \n",
       "3     Music To My Ears (feat. Tory Lanez)                   Keys N Krates   \n",
       "4           Juju On That Beat (TZ Anthem)  Zay Hilfigerrr & Zayion McCall   \n",
       "...                                   ...                             ...   \n",
       "6393                        Lotus Flowers                           Yolta   \n",
       "6394                    Calling My Spirit                     Kodak Black   \n",
       "6395                        Teenage Dream                      Katy Perry   \n",
       "6396                       Stormy Weather                  Oscar Peterson   \n",
       "6397                                 Dust                     Hans Zimmer   \n",
       "\n",
       "                                       uri  danceability  energy  key  \\\n",
       "0     spotify:track:2ZyuwVvV6Z3XJaXIFbspeE         0.741   0.626    1   \n",
       "1     spotify:track:61APOtq25SCMuK0V5w2Kgp         0.447   0.247    5   \n",
       "2     spotify:track:2JqnpexlO9dmvjUMCaLCLJ         0.550   0.415    9   \n",
       "3     spotify:track:0cjfLhk8WJ3etPTCseKXtk         0.502   0.648    0   \n",
       "4     spotify:track:1lItf5ZXJc1by9SbPeljFd         0.807   0.887    1   \n",
       "...                                    ...           ...     ...  ...   \n",
       "6393  spotify:track:4t1TljQWJ6ZuoSY67zVvBI         0.172   0.358    9   \n",
       "6394  spotify:track:2MShy1GSSgbmGUxADNIao5         0.910   0.366    1   \n",
       "6395  spotify:track:55qBw1900pZKfXJ6Q9A2Lc         0.719   0.804   10   \n",
       "6396  spotify:track:4o9npmYHrOF1rUxxTVH8h4         0.600   0.177    7   \n",
       "6397  spotify:track:2khIaVUkbMmDHB596lyMG3         0.121   0.123    4   \n",
       "\n",
       "      loudness  mode  speechiness  acousticness  instrumentalness  liveness  \\\n",
       "0       -4.826     0       0.0886       0.02000          0.000000    0.0828   \n",
       "1      -14.661     0       0.0346       0.87100          0.814000    0.0946   \n",
       "2       -6.557     0       0.0520       0.16100          0.000000    0.1080   \n",
       "3       -5.698     0       0.0527       0.00513          0.000000    0.2040   \n",
       "4       -3.892     1       0.2750       0.00381          0.000000    0.3910   \n",
       "...        ...   ...          ...           ...               ...       ...   \n",
       "6393   -14.430     1       0.0342       0.88600          0.966000    0.3140   \n",
       "6394    -9.954     1       0.0941       0.09960          0.000000    0.2610   \n",
       "6395    -4.581     1       0.0355       0.01320          0.000003    0.1390   \n",
       "6396   -16.070     1       0.0561       0.98900          0.868000    0.1490   \n",
       "6397   -23.025     0       0.0443       0.96400          0.696000    0.1030   \n",
       "\n",
       "      valence    tempo  duration_ms  time_signature  chorus_hit  sections  \\\n",
       "0      0.7060  108.029       188493               4    41.18681        10   \n",
       "1      0.2500  155.489       176880               3    33.18083         9   \n",
       "2      0.2740  172.065       205463               4    44.89147         9   \n",
       "3      0.2910   91.837       193043               4    29.52521         7   \n",
       "4      0.7800  160.517       144244               4    24.99199         8   \n",
       "...       ...      ...          ...             ...         ...       ...   \n",
       "6393   0.0361   72.272       150857               4    24.30824         7   \n",
       "6394   0.7400  119.985       152000               4    32.53856         8   \n",
       "6395   0.6050  119.999       227760               4    20.73371         7   \n",
       "6396   0.5600  120.030       213387               4    21.65301        14   \n",
       "6397   0.0297   95.182       341396               4    71.05343        15   \n",
       "\n",
       "      target  \n",
       "0          1  \n",
       "1          0  \n",
       "2          1  \n",
       "3          0  \n",
       "4          1  \n",
       "...      ...  \n",
       "6393       0  \n",
       "6394       1  \n",
       "6395       1  \n",
       "6396       0  \n",
       "6397       0  \n",
       "\n",
       "[6398 rows x 19 columns]"
      ]
     },
     "execution_count": 3,
     "metadata": {},
     "output_type": "execute_result"
    }
   ],
   "source": [
    "df_spotify = pd.read_csv('https://raw.githubusercontent.com/gfgrillo3/DS_CoderHouse/main/Datasets/dataset-of-10s.csv', sep=',')\n",
    "\n",
    "df_spotify"
   ]
  },
  {
   "cell_type": "markdown",
   "id": "digital-calculation",
   "metadata": {},
   "source": [
    "# "
   ]
  },
  {
   "cell_type": "markdown",
   "id": "acknowledged-conducting",
   "metadata": {},
   "source": [
    "# "
   ]
  },
  {
   "cell_type": "markdown",
   "id": "blind-scoop",
   "metadata": {},
   "source": [
    "# Dataset final"
   ]
  },
  {
   "cell_type": "markdown",
   "id": "institutional-bowling",
   "metadata": {},
   "source": [
    "Pasemos a armar nuestro dataset final"
   ]
  },
  {
   "cell_type": "markdown",
   "id": "located-result",
   "metadata": {},
   "source": [
    "#### Eliminación de duplicados"
   ]
  },
  {
   "cell_type": "markdown",
   "id": "structured-receipt",
   "metadata": {},
   "source": [
    "En primer lugar, eliminamos las canciones con uri duplicadas"
   ]
  },
  {
   "cell_type": "code",
   "execution_count": 4,
   "id": "hourly-turning",
   "metadata": {
    "scrolled": true
   },
   "outputs": [
    {
     "name": "stdout",
     "output_type": "stream",
     "text": [
      "Tenemos 40 canciones cuya uri está duplicada.\n",
      "Teníamos 6398 canciones en total.\n"
     ]
    }
   ],
   "source": [
    "uris_duplicadas = df_spotify[df_spotify['uri'].duplicated(keep=False)]['uri']\n",
    "\n",
    "print('Tenemos {:d} canciones cuya uri está duplicada.'.format(len(uris_duplicadas)))\n",
    "print('Teníamos {:d} canciones en total.'.format(df_spotify.shape[0]))"
   ]
  },
  {
   "cell_type": "code",
   "execution_count": 5,
   "id": "micro-narrow",
   "metadata": {
    "scrolled": true
   },
   "outputs": [
    {
     "name": "stdout",
     "output_type": "stream",
     "text": [
      "Tenemos 6358 canciones luego de eliminar aquellas cuya uri estaba duplicada.\n"
     ]
    },
    {
     "data": {
      "text/html": [
       "<div>\n",
       "<style scoped>\n",
       "    .dataframe tbody tr th:only-of-type {\n",
       "        vertical-align: middle;\n",
       "    }\n",
       "\n",
       "    .dataframe tbody tr th {\n",
       "        vertical-align: top;\n",
       "    }\n",
       "\n",
       "    .dataframe thead th {\n",
       "        text-align: right;\n",
       "    }\n",
       "</style>\n",
       "<table border=\"1\" class=\"dataframe\">\n",
       "  <thead>\n",
       "    <tr style=\"text-align: right;\">\n",
       "      <th></th>\n",
       "      <th>track</th>\n",
       "      <th>artist</th>\n",
       "      <th>uri</th>\n",
       "      <th>danceability</th>\n",
       "      <th>energy</th>\n",
       "      <th>key</th>\n",
       "      <th>loudness</th>\n",
       "      <th>mode</th>\n",
       "      <th>speechiness</th>\n",
       "      <th>acousticness</th>\n",
       "      <th>instrumentalness</th>\n",
       "      <th>liveness</th>\n",
       "      <th>valence</th>\n",
       "      <th>tempo</th>\n",
       "      <th>duration_ms</th>\n",
       "      <th>time_signature</th>\n",
       "      <th>chorus_hit</th>\n",
       "      <th>sections</th>\n",
       "      <th>target</th>\n",
       "    </tr>\n",
       "  </thead>\n",
       "  <tbody>\n",
       "    <tr>\n",
       "      <th>0</th>\n",
       "      <td>Wild Things</td>\n",
       "      <td>Alessia Cara</td>\n",
       "      <td>spotify:track:2ZyuwVvV6Z3XJaXIFbspeE</td>\n",
       "      <td>0.741</td>\n",
       "      <td>0.626</td>\n",
       "      <td>1</td>\n",
       "      <td>-4.826</td>\n",
       "      <td>0</td>\n",
       "      <td>0.0886</td>\n",
       "      <td>0.02000</td>\n",
       "      <td>0.000</td>\n",
       "      <td>0.0828</td>\n",
       "      <td>0.706</td>\n",
       "      <td>108.029</td>\n",
       "      <td>188493</td>\n",
       "      <td>4</td>\n",
       "      <td>41.18681</td>\n",
       "      <td>10</td>\n",
       "      <td>1</td>\n",
       "    </tr>\n",
       "    <tr>\n",
       "      <th>1</th>\n",
       "      <td>Surfboard</td>\n",
       "      <td>Esquivel!</td>\n",
       "      <td>spotify:track:61APOtq25SCMuK0V5w2Kgp</td>\n",
       "      <td>0.447</td>\n",
       "      <td>0.247</td>\n",
       "      <td>5</td>\n",
       "      <td>-14.661</td>\n",
       "      <td>0</td>\n",
       "      <td>0.0346</td>\n",
       "      <td>0.87100</td>\n",
       "      <td>0.814</td>\n",
       "      <td>0.0946</td>\n",
       "      <td>0.250</td>\n",
       "      <td>155.489</td>\n",
       "      <td>176880</td>\n",
       "      <td>3</td>\n",
       "      <td>33.18083</td>\n",
       "      <td>9</td>\n",
       "      <td>0</td>\n",
       "    </tr>\n",
       "    <tr>\n",
       "      <th>2</th>\n",
       "      <td>Love Someone</td>\n",
       "      <td>Lukas Graham</td>\n",
       "      <td>spotify:track:2JqnpexlO9dmvjUMCaLCLJ</td>\n",
       "      <td>0.550</td>\n",
       "      <td>0.415</td>\n",
       "      <td>9</td>\n",
       "      <td>-6.557</td>\n",
       "      <td>0</td>\n",
       "      <td>0.0520</td>\n",
       "      <td>0.16100</td>\n",
       "      <td>0.000</td>\n",
       "      <td>0.1080</td>\n",
       "      <td>0.274</td>\n",
       "      <td>172.065</td>\n",
       "      <td>205463</td>\n",
       "      <td>4</td>\n",
       "      <td>44.89147</td>\n",
       "      <td>9</td>\n",
       "      <td>1</td>\n",
       "    </tr>\n",
       "    <tr>\n",
       "      <th>3</th>\n",
       "      <td>Music To My Ears (feat. Tory Lanez)</td>\n",
       "      <td>Keys N Krates</td>\n",
       "      <td>spotify:track:0cjfLhk8WJ3etPTCseKXtk</td>\n",
       "      <td>0.502</td>\n",
       "      <td>0.648</td>\n",
       "      <td>0</td>\n",
       "      <td>-5.698</td>\n",
       "      <td>0</td>\n",
       "      <td>0.0527</td>\n",
       "      <td>0.00513</td>\n",
       "      <td>0.000</td>\n",
       "      <td>0.2040</td>\n",
       "      <td>0.291</td>\n",
       "      <td>91.837</td>\n",
       "      <td>193043</td>\n",
       "      <td>4</td>\n",
       "      <td>29.52521</td>\n",
       "      <td>7</td>\n",
       "      <td>0</td>\n",
       "    </tr>\n",
       "    <tr>\n",
       "      <th>4</th>\n",
       "      <td>Juju On That Beat (TZ Anthem)</td>\n",
       "      <td>Zay Hilfigerrr &amp; Zayion McCall</td>\n",
       "      <td>spotify:track:1lItf5ZXJc1by9SbPeljFd</td>\n",
       "      <td>0.807</td>\n",
       "      <td>0.887</td>\n",
       "      <td>1</td>\n",
       "      <td>-3.892</td>\n",
       "      <td>1</td>\n",
       "      <td>0.2750</td>\n",
       "      <td>0.00381</td>\n",
       "      <td>0.000</td>\n",
       "      <td>0.3910</td>\n",
       "      <td>0.780</td>\n",
       "      <td>160.517</td>\n",
       "      <td>144244</td>\n",
       "      <td>4</td>\n",
       "      <td>24.99199</td>\n",
       "      <td>8</td>\n",
       "      <td>1</td>\n",
       "    </tr>\n",
       "  </tbody>\n",
       "</table>\n",
       "</div>"
      ],
      "text/plain": [
       "                                 track                          artist  \\\n",
       "0                          Wild Things                    Alessia Cara   \n",
       "1                            Surfboard                       Esquivel!   \n",
       "2                         Love Someone                    Lukas Graham   \n",
       "3  Music To My Ears (feat. Tory Lanez)                   Keys N Krates   \n",
       "4        Juju On That Beat (TZ Anthem)  Zay Hilfigerrr & Zayion McCall   \n",
       "\n",
       "                                    uri  danceability  energy  key  loudness  \\\n",
       "0  spotify:track:2ZyuwVvV6Z3XJaXIFbspeE         0.741   0.626    1    -4.826   \n",
       "1  spotify:track:61APOtq25SCMuK0V5w2Kgp         0.447   0.247    5   -14.661   \n",
       "2  spotify:track:2JqnpexlO9dmvjUMCaLCLJ         0.550   0.415    9    -6.557   \n",
       "3  spotify:track:0cjfLhk8WJ3etPTCseKXtk         0.502   0.648    0    -5.698   \n",
       "4  spotify:track:1lItf5ZXJc1by9SbPeljFd         0.807   0.887    1    -3.892   \n",
       "\n",
       "   mode  speechiness  acousticness  instrumentalness  liveness  valence  \\\n",
       "0     0       0.0886       0.02000             0.000    0.0828    0.706   \n",
       "1     0       0.0346       0.87100             0.814    0.0946    0.250   \n",
       "2     0       0.0520       0.16100             0.000    0.1080    0.274   \n",
       "3     0       0.0527       0.00513             0.000    0.2040    0.291   \n",
       "4     1       0.2750       0.00381             0.000    0.3910    0.780   \n",
       "\n",
       "     tempo  duration_ms  time_signature  chorus_hit  sections  target  \n",
       "0  108.029       188493               4    41.18681        10       1  \n",
       "1  155.489       176880               3    33.18083         9       0  \n",
       "2  172.065       205463               4    44.89147         9       1  \n",
       "3   91.837       193043               4    29.52521         7       0  \n",
       "4  160.517       144244               4    24.99199         8       1  "
      ]
     },
     "execution_count": 5,
     "metadata": {},
     "output_type": "execute_result"
    }
   ],
   "source": [
    "df_spotify_sin_uris_duplicadas = df_spotify[~df_spotify['uri'].isin(uris_duplicadas)].reset_index(drop=True)\n",
    "\n",
    "print('Tenemos {:d} canciones luego de eliminar aquellas cuya uri estaba duplicada.'.format(\n",
    "    df_spotify_sin_uris_duplicadas.shape[0]))\n",
    "\n",
    "\n",
    "df_spotify_sin_uris_duplicadas.head()"
   ]
  },
  {
   "cell_type": "markdown",
   "id": "incorporated-kingston",
   "metadata": {},
   "source": [
    "#### Manejo de variables. Creación de nuevas columnas, eliminación de no utilizadas, y división entre categóricas y numéricas"
   ]
  },
  {
   "cell_type": "markdown",
   "id": "chubby-rally",
   "metadata": {},
   "source": [
    "Agregamos la duración en segundos para facilitar el entendimiento"
   ]
  },
  {
   "cell_type": "code",
   "execution_count": 6,
   "id": "professional-melbourne",
   "metadata": {},
   "outputs": [],
   "source": [
    "df_spotify_sin_uris_duplicadas['duration_s'] = df_spotify_sin_uris_duplicadas['duration_ms']/1000"
   ]
  },
  {
   "cell_type": "markdown",
   "id": "apart-proof",
   "metadata": {},
   "source": [
    "Eliminamos columnas creadas para el EDA y las que no vamos a utilizar:\n",
    "    \n",
    "    - duration_ms: utilizaremos la duración en segundos.\n",
    "    \n",
    "    - sections: tiene alta correlación con la duración, utilizaremos la duración ya que las secciones no son relevantes.\n",
    "    \n",
    "    - time_signature: el compás también se relaciona con el tiempo y la duración. Podemos descartar esta variable, en caso de no obtener buenos resultados, lo reconsideraremos"
   ]
  },
  {
   "cell_type": "code",
   "execution_count": 7,
   "id": "built-arctic",
   "metadata": {},
   "outputs": [
    {
     "data": {
      "text/html": [
       "<div>\n",
       "<style scoped>\n",
       "    .dataframe tbody tr th:only-of-type {\n",
       "        vertical-align: middle;\n",
       "    }\n",
       "\n",
       "    .dataframe tbody tr th {\n",
       "        vertical-align: top;\n",
       "    }\n",
       "\n",
       "    .dataframe thead th {\n",
       "        text-align: right;\n",
       "    }\n",
       "</style>\n",
       "<table border=\"1\" class=\"dataframe\">\n",
       "  <thead>\n",
       "    <tr style=\"text-align: right;\">\n",
       "      <th></th>\n",
       "      <th>track</th>\n",
       "      <th>artist</th>\n",
       "      <th>uri</th>\n",
       "      <th>danceability</th>\n",
       "      <th>energy</th>\n",
       "      <th>key</th>\n",
       "      <th>loudness</th>\n",
       "      <th>mode</th>\n",
       "      <th>speechiness</th>\n",
       "      <th>acousticness</th>\n",
       "      <th>instrumentalness</th>\n",
       "      <th>liveness</th>\n",
       "      <th>valence</th>\n",
       "      <th>tempo</th>\n",
       "      <th>chorus_hit</th>\n",
       "      <th>target</th>\n",
       "      <th>duration_s</th>\n",
       "    </tr>\n",
       "  </thead>\n",
       "  <tbody>\n",
       "    <tr>\n",
       "      <th>0</th>\n",
       "      <td>Wild Things</td>\n",
       "      <td>Alessia Cara</td>\n",
       "      <td>spotify:track:2ZyuwVvV6Z3XJaXIFbspeE</td>\n",
       "      <td>0.741</td>\n",
       "      <td>0.626</td>\n",
       "      <td>1</td>\n",
       "      <td>-4.826</td>\n",
       "      <td>0</td>\n",
       "      <td>0.0886</td>\n",
       "      <td>0.02000</td>\n",
       "      <td>0.000</td>\n",
       "      <td>0.0828</td>\n",
       "      <td>0.706</td>\n",
       "      <td>108.029</td>\n",
       "      <td>41.18681</td>\n",
       "      <td>1</td>\n",
       "      <td>188.493</td>\n",
       "    </tr>\n",
       "    <tr>\n",
       "      <th>1</th>\n",
       "      <td>Surfboard</td>\n",
       "      <td>Esquivel!</td>\n",
       "      <td>spotify:track:61APOtq25SCMuK0V5w2Kgp</td>\n",
       "      <td>0.447</td>\n",
       "      <td>0.247</td>\n",
       "      <td>5</td>\n",
       "      <td>-14.661</td>\n",
       "      <td>0</td>\n",
       "      <td>0.0346</td>\n",
       "      <td>0.87100</td>\n",
       "      <td>0.814</td>\n",
       "      <td>0.0946</td>\n",
       "      <td>0.250</td>\n",
       "      <td>155.489</td>\n",
       "      <td>33.18083</td>\n",
       "      <td>0</td>\n",
       "      <td>176.880</td>\n",
       "    </tr>\n",
       "    <tr>\n",
       "      <th>2</th>\n",
       "      <td>Love Someone</td>\n",
       "      <td>Lukas Graham</td>\n",
       "      <td>spotify:track:2JqnpexlO9dmvjUMCaLCLJ</td>\n",
       "      <td>0.550</td>\n",
       "      <td>0.415</td>\n",
       "      <td>9</td>\n",
       "      <td>-6.557</td>\n",
       "      <td>0</td>\n",
       "      <td>0.0520</td>\n",
       "      <td>0.16100</td>\n",
       "      <td>0.000</td>\n",
       "      <td>0.1080</td>\n",
       "      <td>0.274</td>\n",
       "      <td>172.065</td>\n",
       "      <td>44.89147</td>\n",
       "      <td>1</td>\n",
       "      <td>205.463</td>\n",
       "    </tr>\n",
       "    <tr>\n",
       "      <th>3</th>\n",
       "      <td>Music To My Ears (feat. Tory Lanez)</td>\n",
       "      <td>Keys N Krates</td>\n",
       "      <td>spotify:track:0cjfLhk8WJ3etPTCseKXtk</td>\n",
       "      <td>0.502</td>\n",
       "      <td>0.648</td>\n",
       "      <td>0</td>\n",
       "      <td>-5.698</td>\n",
       "      <td>0</td>\n",
       "      <td>0.0527</td>\n",
       "      <td>0.00513</td>\n",
       "      <td>0.000</td>\n",
       "      <td>0.2040</td>\n",
       "      <td>0.291</td>\n",
       "      <td>91.837</td>\n",
       "      <td>29.52521</td>\n",
       "      <td>0</td>\n",
       "      <td>193.043</td>\n",
       "    </tr>\n",
       "    <tr>\n",
       "      <th>4</th>\n",
       "      <td>Juju On That Beat (TZ Anthem)</td>\n",
       "      <td>Zay Hilfigerrr &amp; Zayion McCall</td>\n",
       "      <td>spotify:track:1lItf5ZXJc1by9SbPeljFd</td>\n",
       "      <td>0.807</td>\n",
       "      <td>0.887</td>\n",
       "      <td>1</td>\n",
       "      <td>-3.892</td>\n",
       "      <td>1</td>\n",
       "      <td>0.2750</td>\n",
       "      <td>0.00381</td>\n",
       "      <td>0.000</td>\n",
       "      <td>0.3910</td>\n",
       "      <td>0.780</td>\n",
       "      <td>160.517</td>\n",
       "      <td>24.99199</td>\n",
       "      <td>1</td>\n",
       "      <td>144.244</td>\n",
       "    </tr>\n",
       "  </tbody>\n",
       "</table>\n",
       "</div>"
      ],
      "text/plain": [
       "                                 track                          artist  \\\n",
       "0                          Wild Things                    Alessia Cara   \n",
       "1                            Surfboard                       Esquivel!   \n",
       "2                         Love Someone                    Lukas Graham   \n",
       "3  Music To My Ears (feat. Tory Lanez)                   Keys N Krates   \n",
       "4        Juju On That Beat (TZ Anthem)  Zay Hilfigerrr & Zayion McCall   \n",
       "\n",
       "                                    uri  danceability  energy  key  loudness  \\\n",
       "0  spotify:track:2ZyuwVvV6Z3XJaXIFbspeE         0.741   0.626    1    -4.826   \n",
       "1  spotify:track:61APOtq25SCMuK0V5w2Kgp         0.447   0.247    5   -14.661   \n",
       "2  spotify:track:2JqnpexlO9dmvjUMCaLCLJ         0.550   0.415    9    -6.557   \n",
       "3  spotify:track:0cjfLhk8WJ3etPTCseKXtk         0.502   0.648    0    -5.698   \n",
       "4  spotify:track:1lItf5ZXJc1by9SbPeljFd         0.807   0.887    1    -3.892   \n",
       "\n",
       "   mode  speechiness  acousticness  instrumentalness  liveness  valence  \\\n",
       "0     0       0.0886       0.02000             0.000    0.0828    0.706   \n",
       "1     0       0.0346       0.87100             0.814    0.0946    0.250   \n",
       "2     0       0.0520       0.16100             0.000    0.1080    0.274   \n",
       "3     0       0.0527       0.00513             0.000    0.2040    0.291   \n",
       "4     1       0.2750       0.00381             0.000    0.3910    0.780   \n",
       "\n",
       "     tempo  chorus_hit  target  duration_s  \n",
       "0  108.029    41.18681       1     188.493  \n",
       "1  155.489    33.18083       0     176.880  \n",
       "2  172.065    44.89147       1     205.463  \n",
       "3   91.837    29.52521       0     193.043  \n",
       "4  160.517    24.99199       1     144.244  "
      ]
     },
     "execution_count": 7,
     "metadata": {},
     "output_type": "execute_result"
    }
   ],
   "source": [
    "df_spotify_solo_columnas_utilizadas = df_spotify_sin_uris_duplicadas.drop(columns=['duration_ms',\n",
    "                                                                                   'sections', 'time_signature'])\n",
    "\n",
    "df_spotify_solo_columnas_utilizadas.head()"
   ]
  },
  {
   "cell_type": "markdown",
   "id": "sensitive-retail",
   "metadata": {},
   "source": [
    "Dividimos las columnas entre las categoricas y las numéricas"
   ]
  },
  {
   "cell_type": "code",
   "execution_count": 8,
   "id": "relevant-delhi",
   "metadata": {},
   "outputs": [
    {
     "data": {
      "text/plain": [
       "Index(['track', 'artist', 'uri'], dtype='object')"
      ]
     },
     "execution_count": 8,
     "metadata": {},
     "output_type": "execute_result"
    }
   ],
   "source": [
    "df_spotify_columnas_descriptivas = df_spotify_solo_columnas_utilizadas.iloc[:,:3]\n",
    "\n",
    "df_spotify_columnas_descriptivas.columns"
   ]
  },
  {
   "cell_type": "code",
   "execution_count": 9,
   "id": "built-brook",
   "metadata": {},
   "outputs": [
    {
     "data": {
      "text/html": [
       "<div>\n",
       "<style scoped>\n",
       "    .dataframe tbody tr th:only-of-type {\n",
       "        vertical-align: middle;\n",
       "    }\n",
       "\n",
       "    .dataframe tbody tr th {\n",
       "        vertical-align: top;\n",
       "    }\n",
       "\n",
       "    .dataframe thead th {\n",
       "        text-align: right;\n",
       "    }\n",
       "</style>\n",
       "<table border=\"1\" class=\"dataframe\">\n",
       "  <thead>\n",
       "    <tr style=\"text-align: right;\">\n",
       "      <th></th>\n",
       "      <th>danceability</th>\n",
       "      <th>energy</th>\n",
       "      <th>key</th>\n",
       "      <th>loudness</th>\n",
       "      <th>mode</th>\n",
       "      <th>speechiness</th>\n",
       "      <th>acousticness</th>\n",
       "      <th>instrumentalness</th>\n",
       "      <th>liveness</th>\n",
       "      <th>valence</th>\n",
       "      <th>tempo</th>\n",
       "      <th>chorus_hit</th>\n",
       "      <th>target</th>\n",
       "      <th>duration_s</th>\n",
       "    </tr>\n",
       "  </thead>\n",
       "  <tbody>\n",
       "    <tr>\n",
       "      <th>0</th>\n",
       "      <td>0.741</td>\n",
       "      <td>0.626</td>\n",
       "      <td>1</td>\n",
       "      <td>-4.826</td>\n",
       "      <td>0</td>\n",
       "      <td>0.0886</td>\n",
       "      <td>0.02000</td>\n",
       "      <td>0.000</td>\n",
       "      <td>0.0828</td>\n",
       "      <td>0.706</td>\n",
       "      <td>108.029</td>\n",
       "      <td>41.18681</td>\n",
       "      <td>1</td>\n",
       "      <td>188.493</td>\n",
       "    </tr>\n",
       "    <tr>\n",
       "      <th>1</th>\n",
       "      <td>0.447</td>\n",
       "      <td>0.247</td>\n",
       "      <td>5</td>\n",
       "      <td>-14.661</td>\n",
       "      <td>0</td>\n",
       "      <td>0.0346</td>\n",
       "      <td>0.87100</td>\n",
       "      <td>0.814</td>\n",
       "      <td>0.0946</td>\n",
       "      <td>0.250</td>\n",
       "      <td>155.489</td>\n",
       "      <td>33.18083</td>\n",
       "      <td>0</td>\n",
       "      <td>176.880</td>\n",
       "    </tr>\n",
       "    <tr>\n",
       "      <th>2</th>\n",
       "      <td>0.550</td>\n",
       "      <td>0.415</td>\n",
       "      <td>9</td>\n",
       "      <td>-6.557</td>\n",
       "      <td>0</td>\n",
       "      <td>0.0520</td>\n",
       "      <td>0.16100</td>\n",
       "      <td>0.000</td>\n",
       "      <td>0.1080</td>\n",
       "      <td>0.274</td>\n",
       "      <td>172.065</td>\n",
       "      <td>44.89147</td>\n",
       "      <td>1</td>\n",
       "      <td>205.463</td>\n",
       "    </tr>\n",
       "    <tr>\n",
       "      <th>3</th>\n",
       "      <td>0.502</td>\n",
       "      <td>0.648</td>\n",
       "      <td>0</td>\n",
       "      <td>-5.698</td>\n",
       "      <td>0</td>\n",
       "      <td>0.0527</td>\n",
       "      <td>0.00513</td>\n",
       "      <td>0.000</td>\n",
       "      <td>0.2040</td>\n",
       "      <td>0.291</td>\n",
       "      <td>91.837</td>\n",
       "      <td>29.52521</td>\n",
       "      <td>0</td>\n",
       "      <td>193.043</td>\n",
       "    </tr>\n",
       "    <tr>\n",
       "      <th>4</th>\n",
       "      <td>0.807</td>\n",
       "      <td>0.887</td>\n",
       "      <td>1</td>\n",
       "      <td>-3.892</td>\n",
       "      <td>1</td>\n",
       "      <td>0.2750</td>\n",
       "      <td>0.00381</td>\n",
       "      <td>0.000</td>\n",
       "      <td>0.3910</td>\n",
       "      <td>0.780</td>\n",
       "      <td>160.517</td>\n",
       "      <td>24.99199</td>\n",
       "      <td>1</td>\n",
       "      <td>144.244</td>\n",
       "    </tr>\n",
       "  </tbody>\n",
       "</table>\n",
       "</div>"
      ],
      "text/plain": [
       "   danceability  energy  key  loudness  mode  speechiness  acousticness  \\\n",
       "0         0.741   0.626    1    -4.826     0       0.0886       0.02000   \n",
       "1         0.447   0.247    5   -14.661     0       0.0346       0.87100   \n",
       "2         0.550   0.415    9    -6.557     0       0.0520       0.16100   \n",
       "3         0.502   0.648    0    -5.698     0       0.0527       0.00513   \n",
       "4         0.807   0.887    1    -3.892     1       0.2750       0.00381   \n",
       "\n",
       "   instrumentalness  liveness  valence    tempo  chorus_hit  target  \\\n",
       "0             0.000    0.0828    0.706  108.029    41.18681       1   \n",
       "1             0.814    0.0946    0.250  155.489    33.18083       0   \n",
       "2             0.000    0.1080    0.274  172.065    44.89147       1   \n",
       "3             0.000    0.2040    0.291   91.837    29.52521       0   \n",
       "4             0.000    0.3910    0.780  160.517    24.99199       1   \n",
       "\n",
       "   duration_s  \n",
       "0     188.493  \n",
       "1     176.880  \n",
       "2     205.463  \n",
       "3     193.043  \n",
       "4     144.244  "
      ]
     },
     "execution_count": 9,
     "metadata": {},
     "output_type": "execute_result"
    }
   ],
   "source": [
    "df_spotify_final = df_spotify_solo_columnas_utilizadas.iloc[:,3:]\n",
    "\n",
    "df_spotify_final.head()"
   ]
  },
  {
   "cell_type": "markdown",
   "id": "infectious-fault",
   "metadata": {},
   "source": [
    "# "
   ]
  },
  {
   "cell_type": "markdown",
   "id": "sealed-filing",
   "metadata": {},
   "source": [
    "### División de dataset en X e Y. Separación en train y test"
   ]
  },
  {
   "cell_type": "markdown",
   "id": "extended-firmware",
   "metadata": {},
   "source": [
    "Dividimos X e Y"
   ]
  },
  {
   "cell_type": "code",
   "execution_count": 10,
   "id": "marine-peninsula",
   "metadata": {},
   "outputs": [
    {
     "data": {
      "text/html": [
       "<div>\n",
       "<style scoped>\n",
       "    .dataframe tbody tr th:only-of-type {\n",
       "        vertical-align: middle;\n",
       "    }\n",
       "\n",
       "    .dataframe tbody tr th {\n",
       "        vertical-align: top;\n",
       "    }\n",
       "\n",
       "    .dataframe thead th {\n",
       "        text-align: right;\n",
       "    }\n",
       "</style>\n",
       "<table border=\"1\" class=\"dataframe\">\n",
       "  <thead>\n",
       "    <tr style=\"text-align: right;\">\n",
       "      <th></th>\n",
       "      <th>danceability</th>\n",
       "      <th>energy</th>\n",
       "      <th>key</th>\n",
       "      <th>loudness</th>\n",
       "      <th>mode</th>\n",
       "      <th>speechiness</th>\n",
       "      <th>acousticness</th>\n",
       "      <th>instrumentalness</th>\n",
       "      <th>liveness</th>\n",
       "      <th>valence</th>\n",
       "      <th>tempo</th>\n",
       "      <th>chorus_hit</th>\n",
       "      <th>duration_s</th>\n",
       "    </tr>\n",
       "  </thead>\n",
       "  <tbody>\n",
       "    <tr>\n",
       "      <th>0</th>\n",
       "      <td>0.741</td>\n",
       "      <td>0.626</td>\n",
       "      <td>1</td>\n",
       "      <td>-4.826</td>\n",
       "      <td>0</td>\n",
       "      <td>0.0886</td>\n",
       "      <td>0.02000</td>\n",
       "      <td>0.000</td>\n",
       "      <td>0.0828</td>\n",
       "      <td>0.706</td>\n",
       "      <td>108.029</td>\n",
       "      <td>41.18681</td>\n",
       "      <td>188.493</td>\n",
       "    </tr>\n",
       "    <tr>\n",
       "      <th>1</th>\n",
       "      <td>0.447</td>\n",
       "      <td>0.247</td>\n",
       "      <td>5</td>\n",
       "      <td>-14.661</td>\n",
       "      <td>0</td>\n",
       "      <td>0.0346</td>\n",
       "      <td>0.87100</td>\n",
       "      <td>0.814</td>\n",
       "      <td>0.0946</td>\n",
       "      <td>0.250</td>\n",
       "      <td>155.489</td>\n",
       "      <td>33.18083</td>\n",
       "      <td>176.880</td>\n",
       "    </tr>\n",
       "    <tr>\n",
       "      <th>2</th>\n",
       "      <td>0.550</td>\n",
       "      <td>0.415</td>\n",
       "      <td>9</td>\n",
       "      <td>-6.557</td>\n",
       "      <td>0</td>\n",
       "      <td>0.0520</td>\n",
       "      <td>0.16100</td>\n",
       "      <td>0.000</td>\n",
       "      <td>0.1080</td>\n",
       "      <td>0.274</td>\n",
       "      <td>172.065</td>\n",
       "      <td>44.89147</td>\n",
       "      <td>205.463</td>\n",
       "    </tr>\n",
       "    <tr>\n",
       "      <th>3</th>\n",
       "      <td>0.502</td>\n",
       "      <td>0.648</td>\n",
       "      <td>0</td>\n",
       "      <td>-5.698</td>\n",
       "      <td>0</td>\n",
       "      <td>0.0527</td>\n",
       "      <td>0.00513</td>\n",
       "      <td>0.000</td>\n",
       "      <td>0.2040</td>\n",
       "      <td>0.291</td>\n",
       "      <td>91.837</td>\n",
       "      <td>29.52521</td>\n",
       "      <td>193.043</td>\n",
       "    </tr>\n",
       "    <tr>\n",
       "      <th>4</th>\n",
       "      <td>0.807</td>\n",
       "      <td>0.887</td>\n",
       "      <td>1</td>\n",
       "      <td>-3.892</td>\n",
       "      <td>1</td>\n",
       "      <td>0.2750</td>\n",
       "      <td>0.00381</td>\n",
       "      <td>0.000</td>\n",
       "      <td>0.3910</td>\n",
       "      <td>0.780</td>\n",
       "      <td>160.517</td>\n",
       "      <td>24.99199</td>\n",
       "      <td>144.244</td>\n",
       "    </tr>\n",
       "  </tbody>\n",
       "</table>\n",
       "</div>"
      ],
      "text/plain": [
       "   danceability  energy  key  loudness  mode  speechiness  acousticness  \\\n",
       "0         0.741   0.626    1    -4.826     0       0.0886       0.02000   \n",
       "1         0.447   0.247    5   -14.661     0       0.0346       0.87100   \n",
       "2         0.550   0.415    9    -6.557     0       0.0520       0.16100   \n",
       "3         0.502   0.648    0    -5.698     0       0.0527       0.00513   \n",
       "4         0.807   0.887    1    -3.892     1       0.2750       0.00381   \n",
       "\n",
       "   instrumentalness  liveness  valence    tempo  chorus_hit  duration_s  \n",
       "0             0.000    0.0828    0.706  108.029    41.18681     188.493  \n",
       "1             0.814    0.0946    0.250  155.489    33.18083     176.880  \n",
       "2             0.000    0.1080    0.274  172.065    44.89147     205.463  \n",
       "3             0.000    0.2040    0.291   91.837    29.52521     193.043  \n",
       "4             0.000    0.3910    0.780  160.517    24.99199     144.244  "
      ]
     },
     "execution_count": 10,
     "metadata": {},
     "output_type": "execute_result"
    }
   ],
   "source": [
    "X = df_spotify_final.drop(columns='target')\n",
    "\n",
    "X.head()"
   ]
  },
  {
   "cell_type": "code",
   "execution_count": 11,
   "id": "destroyed-impact",
   "metadata": {},
   "outputs": [
    {
     "data": {
      "text/plain": [
       "0    1\n",
       "1    0\n",
       "2    1\n",
       "3    0\n",
       "4    1\n",
       "Name: target, dtype: int64"
      ]
     },
     "execution_count": 11,
     "metadata": {},
     "output_type": "execute_result"
    }
   ],
   "source": [
    "y = df_spotify_final.target\n",
    "\n",
    "y.head()"
   ]
  },
  {
   "cell_type": "markdown",
   "id": "varying-effects",
   "metadata": {},
   "source": [
    "Dividimos en train y test con una relación 70/30"
   ]
  },
  {
   "cell_type": "code",
   "execution_count": 12,
   "id": "royal-poetry",
   "metadata": {},
   "outputs": [],
   "source": [
    "X_train, X_test, y_train, y_test = train_test_split(X, y, test_size=0.30, random_state=42) "
   ]
  },
  {
   "cell_type": "markdown",
   "id": "victorian-capture",
   "metadata": {},
   "source": [
    "# "
   ]
  },
  {
   "cell_type": "markdown",
   "id": "prostate-benjamin",
   "metadata": {},
   "source": [
    "# MODELADO"
   ]
  },
  {
   "cell_type": "markdown",
   "id": "transparent-albania",
   "metadata": {},
   "source": [
    "### DECISION TREE"
   ]
  },
  {
   "cell_type": "markdown",
   "id": "fluid-operation",
   "metadata": {},
   "source": [
    "Definimos el modelo"
   ]
  },
  {
   "cell_type": "code",
   "execution_count": 13,
   "id": "turned-casino",
   "metadata": {},
   "outputs": [],
   "source": [
    "decision_tree_model = DecisionTreeClassifier(max_depth=5, random_state = 42)"
   ]
  },
  {
   "cell_type": "markdown",
   "id": "alike-humanitarian",
   "metadata": {},
   "source": [
    "Entrenamos con los subconjuntos de train"
   ]
  },
  {
   "cell_type": "code",
   "execution_count": 14,
   "id": "final-insulin",
   "metadata": {},
   "outputs": [
    {
     "data": {
      "text/plain": [
       "DecisionTreeClassifier(max_depth=5, random_state=42)"
      ]
     },
     "execution_count": 14,
     "metadata": {},
     "output_type": "execute_result"
    }
   ],
   "source": [
    "decision_tree_model.fit(X_train,y_train)"
   ]
  },
  {
   "cell_type": "markdown",
   "id": "refined-demonstration",
   "metadata": {},
   "source": [
    "Vemos predicciones"
   ]
  },
  {
   "cell_type": "code",
   "execution_count": 15,
   "id": "entertaining-liver",
   "metadata": {},
   "outputs": [],
   "source": [
    "y_train_pred = decision_tree_model.predict(X_train)\n",
    "y_test_pred = decision_tree_model.predict(X_test)"
   ]
  },
  {
   "cell_type": "code",
   "execution_count": 16,
   "id": "rational-sarah",
   "metadata": {},
   "outputs": [
    {
     "name": "stdout",
     "output_type": "stream",
     "text": [
      "83.28% de accuracy en el conjunto de train\n",
      "80.24% de accuracy en el conjunto de test\n"
     ]
    }
   ],
   "source": [
    "train_accuracy = accuracy_score(y_train, y_train_pred)\n",
    "\n",
    "test_accuracy = accuracy_score(y_test, y_test_pred)\n",
    "\n",
    "print('{:.2%} de accuracy en el conjunto de train'.format(train_accuracy))\n",
    "print('{:.2%} de accuracy en el conjunto de test'.format(test_accuracy))"
   ]
  },
  {
   "cell_type": "markdown",
   "id": "electronic-elevation",
   "metadata": {},
   "source": [
    "Veamos la matriz de confusión"
   ]
  },
  {
   "cell_type": "code",
   "execution_count": 17,
   "id": "peripheral-commander",
   "metadata": {},
   "outputs": [
    {
     "data": {
      "text/plain": [
       "<AxesSubplot:>"
      ]
     },
     "execution_count": 17,
     "metadata": {},
     "output_type": "execute_result"
    },
    {
     "data": {
      "image/png": "[encoded data removed]",
      "text/plain": [
       "<Figure size 432x288 with 2 Axes>"
      ]
     },
     "metadata": {
      "needs_background": "light"
     },
     "output_type": "display_data"
    }
   ],
   "source": [
    "matrix = confusion_matrix(y_test, y_test_pred)\n",
    "\n",
    "sns.heatmap(matrix, annot=True, fmt='d')"
   ]
  },
  {
   "cell_type": "markdown",
   "id": "authentic-floating",
   "metadata": {},
   "source": [
    "Vemos que hay 270 canciones que no eran HIT, pero el modelo la clasificó como un hit.\n",
    "\n",
    "Sería de interés por reducir este valor"
   ]
  },
  {
   "cell_type": "markdown",
   "id": "painful-bibliography",
   "metadata": {},
   "source": [
    "# "
   ]
  },
  {
   "cell_type": "markdown",
   "id": "compatible-missouri",
   "metadata": {},
   "source": [
    "Usemos GridSearch para ver cuánto mejoramos modificando algunos parámetros"
   ]
  },
  {
   "cell_type": "markdown",
   "id": "blond-moscow",
   "metadata": {},
   "source": [
    "Parametros modificados:\n",
    "\n",
    "    - criterion: Función de medición de la división. (Gini o Entropy)\n",
    "    - max_depth: Máximo nivel de profundidad del árbol\n",
    "    - min_samples_split: Cantidad mínima de muestras para permitir que un nodo se abra en otro nivel\n",
    "    - min_samples_leaf: Cantidad mínima de muestras para considerar un nodo como hoja."
   ]
  },
  {
   "cell_type": "code",
   "execution_count": 18,
   "id": "sudden-while",
   "metadata": {},
   "outputs": [],
   "source": [
    "decision_tree_param_grid = {\n",
    "    'criterion': ['gini', 'entropy'],\n",
    "    'max_depth': [3, 5, 8, 10, 12, None],\n",
    "    'min_samples_leaf': [25, 50, 100, 200, 1],\n",
    "    'min_samples_split': [15, 30, 50, 150, 200, 2]\n",
    "}\n",
    "\n",
    "\n",
    "grid_search_decision_tree = GridSearchCV(estimator = decision_tree_model, param_grid = decision_tree_param_grid, \n",
    "                                         cv = 3, n_jobs = -1, verbose = 2)"
   ]
  },
  {
   "cell_type": "code",
   "execution_count": 19,
   "id": "imposed-steam",
   "metadata": {
    "scrolled": true
   },
   "outputs": [
    {
     "name": "stdout",
     "output_type": "stream",
     "text": [
      "Fitting 3 folds for each of 360 candidates, totalling 1080 fits\n"
     ]
    },
    {
     "data": {
      "text/plain": [
       "{'criterion': 'gini',\n",
       " 'max_depth': 5,\n",
       " 'min_samples_leaf': 25,\n",
       " 'min_samples_split': 15}"
      ]
     },
     "execution_count": 19,
     "metadata": {},
     "output_type": "execute_result"
    }
   ],
   "source": [
    "grid_search_decision_tree.fit(X_train,y_train)\n",
    "\n",
    "grid_search_decision_tree.best_params_"
   ]
  },
  {
   "cell_type": "markdown",
   "id": "occasional-bridge",
   "metadata": {},
   "source": [
    "Armemos el modelo con estos parámetros"
   ]
  },
  {
   "cell_type": "code",
   "execution_count": 20,
   "id": "excess-projection",
   "metadata": {},
   "outputs": [],
   "source": [
    "decision_tree_model_mejorado = DecisionTreeClassifier(max_depth=5, min_samples_leaf=25, min_samples_split=15, random_state=42)"
   ]
  },
  {
   "cell_type": "code",
   "execution_count": 21,
   "id": "blocked-theory",
   "metadata": {},
   "outputs": [
    {
     "name": "stdout",
     "output_type": "stream",
     "text": [
      "82.88% de accuracy en el conjunto de train\n",
      "80.45% de accuracy en el conjunto de test\n"
     ]
    },
    {
     "data": {
      "text/plain": [
       "<AxesSubplot:>"
      ]
     },
     "execution_count": 21,
     "metadata": {},
     "output_type": "execute_result"
    },
    {
     "data": {
      "image/png": "[encoded data removed]",
      "text/plain": [
       "<Figure size 432x288 with 2 Axes>"
      ]
     },
     "metadata": {
      "needs_background": "light"
     },
     "output_type": "display_data"
    }
   ],
   "source": [
    "decision_tree_model_mejorado.fit(X_train,y_train)\n",
    "\n",
    "y_train_pred = decision_tree_model_mejorado.predict(X_train)\n",
    "y_test_pred = decision_tree_model_mejorado.predict(X_test)\n",
    "\n",
    "train_accuracy = accuracy_score(y_train, y_train_pred)\n",
    "\n",
    "test_accuracy = accuracy_score(y_test, y_test_pred)\n",
    "\n",
    "print('{:.2%} de accuracy en el conjunto de train'.format(train_accuracy))\n",
    "print('{:.2%} de accuracy en el conjunto de test'.format(test_accuracy))\n",
    "\n",
    "matrix = confusion_matrix(y_test, y_test_pred)\n",
    "\n",
    "sns.heatmap(matrix, annot=True, fmt='d')"
   ]
  },
  {
   "cell_type": "markdown",
   "id": "modified-notification",
   "metadata": {},
   "source": [
    "Vemos que mejoramos un 0.2% aproximadamente el accuracy, practicamente nada."
   ]
  },
  {
   "cell_type": "markdown",
   "id": "jewish-prophet",
   "metadata": {},
   "source": [
    "### Reducción de features"
   ]
  },
  {
   "cell_type": "markdown",
   "id": "affecting-blend",
   "metadata": {},
   "source": [
    "Veamos las variables más significativas"
   ]
  },
  {
   "cell_type": "code",
   "execution_count": 22,
   "id": "backed-apparel",
   "metadata": {},
   "outputs": [
    {
     "data": {
      "text/plain": [
       "[(0.73, 'instrumentalness'),\n",
       " (0.1, 'energy'),\n",
       " (0.06, 'loudness'),\n",
       " (0.05, 'danceability'),\n",
       " (0.03, 'valence'),\n",
       " (0.01, 'duration_s'),\n",
       " (0.01, 'acousticness'),\n",
       " (0.0, 'tempo'),\n",
       " (0.0, 'speechiness'),\n",
       " (0.0, 'mode'),\n",
       " (0.0, 'liveness'),\n",
       " (0.0, 'key'),\n",
       " (0.0, 'chorus_hit')]"
      ]
     },
     "execution_count": 22,
     "metadata": {},
     "output_type": "execute_result"
    }
   ],
   "source": [
    "sorted(zip(map(lambda x: round(x, 2), decision_tree_model_mejorado.feature_importances_), X.columns.tolist()), \n",
    "             reverse=True)"
   ]
  },
  {
   "cell_type": "markdown",
   "id": "unable-freeze",
   "metadata": {},
   "source": [
    "Utilizemos aquellas 4 con mayor importancia, es decir, mayor a 5%.\n",
    "\n",
    "Luego, hagamos el proceso de nuevo:\n",
    "\n",
    "    - Separación en train y test.\n",
    "    - Busqueda de mejores parámetros entre los definidos anteriormente.\n",
    "    - Creación del modelo con el mejor parámetro.\n",
    "    - Entrenamiento del modelo.\n",
    "    - Predicción y validación del modelo.\n",
    "    - Visualización de accuracy"
   ]
  },
  {
   "cell_type": "code",
   "execution_count": 23,
   "id": "romance-southwest",
   "metadata": {},
   "outputs": [],
   "source": [
    "X_reduced = df_spotify_final[['instrumentalness', 'energy', 'loudness', 'danceability']]\n",
    "\n",
    "y_reduced = df_spotify_final.target\n"
   ]
  },
  {
   "cell_type": "code",
   "execution_count": 24,
   "id": "fitted-hacker",
   "metadata": {},
   "outputs": [],
   "source": [
    "X_train_reduced, X_test_reduced, y_train_reduced, y_test_reduced = train_test_split(X_reduced, \n",
    "                                                                                    y_reduced, \n",
    "                                                                                    test_size=0.30, \n",
    "                                                                                    random_state=42) "
   ]
  },
  {
   "cell_type": "code",
   "execution_count": 25,
   "id": "careful-buffer",
   "metadata": {},
   "outputs": [
    {
     "name": "stdout",
     "output_type": "stream",
     "text": [
      "Fitting 3 folds for each of 360 candidates, totalling 1080 fits\n"
     ]
    },
    {
     "data": {
      "text/plain": [
       "{'criterion': 'gini',\n",
       " 'max_depth': 8,\n",
       " 'min_samples_leaf': 25,\n",
       " 'min_samples_split': 15}"
      ]
     },
     "execution_count": 25,
     "metadata": {},
     "output_type": "execute_result"
    }
   ],
   "source": [
    "grid_search_decision_tree.fit(X_train_reduced,y_train_reduced)\n",
    "\n",
    "grid_search_decision_tree.best_params_"
   ]
  },
  {
   "cell_type": "code",
   "execution_count": 28,
   "id": "important-dutch",
   "metadata": {},
   "outputs": [],
   "source": [
    "decision_tree_model_reducido = DecisionTreeClassifier(criterion='gini', \n",
    "                                                      max_depth=8, \n",
    "                                                      min_samples_leaf=25, \n",
    "                                                      min_samples_split=150, \n",
    "                                                      random_state=42)"
   ]
  },
  {
   "cell_type": "code",
   "execution_count": 29,
   "id": "medical-bridge",
   "metadata": {},
   "outputs": [
    {
     "name": "stdout",
     "output_type": "stream",
     "text": [
      "82.58% de accuracy en el conjunto de train\n",
      "80.87% de accuracy en el conjunto de test\n"
     ]
    },
    {
     "data": {
      "text/plain": [
       "<AxesSubplot:>"
      ]
     },
     "execution_count": 29,
     "metadata": {},
     "output_type": "execute_result"
    },
    {
     "data": {
      "image/png": "[encoded data removed]",
      "text/plain": [
       "<Figure size 432x288 with 2 Axes>"
      ]
     },
     "metadata": {
      "needs_background": "light"
     },
     "output_type": "display_data"
    }
   ],
   "source": [
    "decision_tree_model_reducido.fit(X_train_reduced,y_train_reduced)\n",
    "\n",
    "y_train_pred = decision_tree_model_reducido.predict(X_train_reduced)\n",
    "y_test_pred = decision_tree_model_reducido.predict(X_test_reduced)\n",
    "\n",
    "train_accuracy = accuracy_score(y_train_reduced, y_train_pred)\n",
    "\n",
    "test_accuracy = accuracy_score(y_test_reduced, y_test_pred)\n",
    "\n",
    "print('{:.2%} de accuracy en el conjunto de train'.format(train_accuracy))\n",
    "print('{:.2%} de accuracy en el conjunto de test'.format(test_accuracy))\n",
    "\n",
    "matrix = confusion_matrix(y_test_reduced, y_test_pred)\n",
    "\n",
    "sns.heatmap(matrix, annot=True, fmt='d')"
   ]
  },
  {
   "cell_type": "markdown",
   "id": "heavy-installation",
   "metadata": {},
   "source": [
    "Vemos que mejoramos un 0.40% al reducir la cantidad de variables utilizadas llegando a un 80.87% de accuracy"
   ]
  },
  {
   "cell_type": "markdown",
   "id": "resident-invitation",
   "metadata": {},
   "source": [
    "Nuestro mejor modelo de Decision Tree utiliza las variables 'instrumentalness', 'energy', 'loudness', 'danceability', y se llama 'decision_tree_model_reducido'"
   ]
  },
  {
   "cell_type": "markdown",
   "id": "developed-sellers",
   "metadata": {},
   "source": [
    "# "
   ]
  },
  {
   "cell_type": "markdown",
   "id": "occupational-logan",
   "metadata": {},
   "source": [
    "### RANDOM FOREST"
   ]
  },
  {
   "cell_type": "markdown",
   "id": "working-oracle",
   "metadata": {},
   "source": [
    "A partir de ahora, usamos directamente el grid search para probar varias configuraciones de hiperparámetros y quedarnos con la mejor combinación"
   ]
  },
  {
   "cell_type": "markdown",
   "id": "elder-shareware",
   "metadata": {},
   "source": [
    "Parametros modificados:\n",
    "\n",
    "    - n_estimators: Cantidad de árboles utilizados para estimar.\n",
    "    - max_depth: Máximo nivel de profundidad del árbol.\n",
    "    - min_samples_split: Cantidad mínima de muestras para permitir que un nodo se abra en otro nivel.\n",
    "    - min_samples_leaf: Cantidad mínima de muestras para considerar un nodo como hoja."
   ]
  },
  {
   "cell_type": "code",
   "execution_count": 30,
   "id": "pointed-spectrum",
   "metadata": {},
   "outputs": [],
   "source": [
    "param_grid_random_forest = {\n",
    "    'n_estimators': [10, 25, 50, 100, 150, 200],\n",
    "    'max_depth': [3, 5, 8, 10, 12, None],\n",
    "    'min_samples_leaf': [25, 50, 100, 200, 1],\n",
    "    'min_samples_split': [15, 30, 50, 150, 200, 2]\n",
    "}\n",
    "\n",
    "\n",
    "grid_search_random_forest = GridSearchCV(estimator=RandomForestClassifier(random_state=42), \n",
    "                                         param_grid=param_grid_random_forest, \n",
    "                                         cv=3, n_jobs=-1, verbose=2)"
   ]
  },
  {
   "cell_type": "code",
   "execution_count": 31,
   "id": "aquatic-child",
   "metadata": {},
   "outputs": [
    {
     "name": "stdout",
     "output_type": "stream",
     "text": [
      "Fitting 3 folds for each of 1080 candidates, totalling 3240 fits\n",
      "Wall time: 5min 20s\n"
     ]
    },
    {
     "data": {
      "text/plain": [
       "{'max_depth': None,\n",
       " 'min_samples_leaf': 1,\n",
       " 'min_samples_split': 15,\n",
       " 'n_estimators': 150}"
      ]
     },
     "execution_count": 31,
     "metadata": {},
     "output_type": "execute_result"
    }
   ],
   "source": [
    "%%time\n",
    "\n",
    "grid_search_random_forest.fit(X_train,y_train)\n",
    "\n",
    "grid_search_random_forest.best_params_"
   ]
  },
  {
   "cell_type": "markdown",
   "id": "refined-default",
   "metadata": {},
   "source": [
    "Armemos el modelo con estos parámetros"
   ]
  },
  {
   "cell_type": "code",
   "execution_count": 32,
   "id": "coated-infrastructure",
   "metadata": {},
   "outputs": [
    {
     "name": "stdout",
     "output_type": "stream",
     "text": [
      "94.74% de accuracy en el conjunto de train\n",
      "84.49% de accuracy en el conjunto de test\n"
     ]
    },
    {
     "data": {
      "text/plain": [
       "<AxesSubplot:>"
      ]
     },
     "execution_count": 32,
     "metadata": {},
     "output_type": "execute_result"
    },
    {
     "data": {
      "image/png": "[encoded data removed]",
      "text/plain": [
       "<Figure size 432x288 with 2 Axes>"
      ]
     },
     "metadata": {
      "needs_background": "light"
     },
     "output_type": "display_data"
    }
   ],
   "source": [
    "random_forest_model_mejorado = RandomForestClassifier(n_estimators=150,\n",
    "                                                      max_depth=None, \n",
    "                                                      min_samples_leaf=1, \n",
    "                                                      min_samples_split=15, \n",
    "                                                      random_state=42)\n",
    "\n",
    "\n",
    "\n",
    "random_forest_model_mejorado.fit(X_train,y_train)\n",
    "\n",
    "y_train_pred = random_forest_model_mejorado.predict(X_train)\n",
    "y_test_pred = random_forest_model_mejorado.predict(X_test)\n",
    "\n",
    "train_accuracy = accuracy_score(y_train, y_train_pred)\n",
    "\n",
    "test_accuracy = accuracy_score(y_test, y_test_pred)\n",
    "\n",
    "print('{:.2%} de accuracy en el conjunto de train'.format(train_accuracy))\n",
    "print('{:.2%} de accuracy en el conjunto de test'.format(test_accuracy))\n",
    "\n",
    "matrix = confusion_matrix(y_test, y_test_pred)\n",
    "\n",
    "sns.heatmap(matrix, annot=True, fmt='d')"
   ]
  },
  {
   "cell_type": "markdown",
   "id": "found-transsexual",
   "metadata": {},
   "source": [
    "Vemos que hay 170 canciones que no eran HIT, pero el modelo la clasificó como un hit. Esto implica una reducción de casi en 75 muestras este error, respecto al Decision Tree.\n",
    "\n",
    "Todo esto, con un accuracy de 84.49%, un 4% más que con un Decision Tree.\n",
    "\n",
    "Hasta ahora es el mejor modelo.\n",
    "\n",
    "Sigamos probando mejorar."
   ]
  },
  {
   "cell_type": "markdown",
   "id": "bottom-depression",
   "metadata": {},
   "source": [
    "### Reducción de features"
   ]
  },
  {
   "cell_type": "markdown",
   "id": "contained-zambia",
   "metadata": {},
   "source": [
    "Veamos las variables más significativas"
   ]
  },
  {
   "cell_type": "code",
   "execution_count": 33,
   "id": "decimal-allocation",
   "metadata": {},
   "outputs": [
    {
     "data": {
      "text/plain": [
       "[(0.31, 'instrumentalness'),\n",
       " (0.11, 'loudness'),\n",
       " (0.11, 'danceability'),\n",
       " (0.1, 'energy'),\n",
       " (0.1, 'acousticness'),\n",
       " (0.07, 'duration_s'),\n",
       " (0.06, 'valence'),\n",
       " (0.04, 'speechiness'),\n",
       " (0.03, 'tempo'),\n",
       " (0.03, 'liveness'),\n",
       " (0.03, 'chorus_hit'),\n",
       " (0.01, 'key'),\n",
       " (0.0, 'mode')]"
      ]
     },
     "execution_count": 33,
     "metadata": {},
     "output_type": "execute_result"
    }
   ],
   "source": [
    "sorted(zip(map(lambda x: round(x, 2), random_forest_model_mejorado.feature_importances_), X.columns.tolist()), \n",
    "             reverse=True)"
   ]
  },
  {
   "cell_type": "markdown",
   "id": "handy-rings",
   "metadata": {},
   "source": [
    "Utilizemos aquellas cuya importancia sea mayor a 10%.\n",
    "\n",
    "Luego, hagamos el proceso de nuevo:\n",
    "\n",
    "    - Separación en train y test.\n",
    "    - Busqueda de mejores parámetros entre los definidos anteriormente.\n",
    "    - Creación del modelo con el mejor parámetro.\n",
    "    - Entrenamiento del modelo.\n",
    "    - Predicción y validación del modelo.\n",
    "    - Visualización de accuracy"
   ]
  },
  {
   "cell_type": "code",
   "execution_count": 34,
   "id": "portable-blogger",
   "metadata": {},
   "outputs": [],
   "source": [
    "X_reduced = df_spotify_final[['instrumentalness','loudness', 'danceability', 'energy', 'acousticness']]\n",
    "\n",
    "y_reduced = df_spotify_final.target\n"
   ]
  },
  {
   "cell_type": "code",
   "execution_count": 35,
   "id": "isolated-hotel",
   "metadata": {},
   "outputs": [],
   "source": [
    "X_train_reduced, X_test_reduced, y_train_reduced, y_test_reduced = train_test_split(X_reduced, \n",
    "                                                                                    y_reduced, \n",
    "                                                                                    test_size=0.30, \n",
    "                                                                                    random_state=42) "
   ]
  },
  {
   "cell_type": "code",
   "execution_count": 36,
   "id": "organized-judge",
   "metadata": {},
   "outputs": [
    {
     "name": "stdout",
     "output_type": "stream",
     "text": [
      "Fitting 3 folds for each of 1080 candidates, totalling 3240 fits\n"
     ]
    },
    {
     "data": {
      "text/plain": [
       "{'max_depth': 10,\n",
       " 'min_samples_leaf': 1,\n",
       " 'min_samples_split': 50,\n",
       " 'n_estimators': 25}"
      ]
     },
     "execution_count": 36,
     "metadata": {},
     "output_type": "execute_result"
    }
   ],
   "source": [
    "grid_search_random_forest.fit(X_train_reduced,y_train_reduced)\n",
    "\n",
    "grid_search_random_forest.best_params_"
   ]
  },
  {
   "cell_type": "code",
   "execution_count": 37,
   "id": "equivalent-ukraine",
   "metadata": {},
   "outputs": [],
   "source": [
    "random_forest_model_reducido = RandomForestClassifier(n_estimators=25,\n",
    "                                                      max_depth=10, \n",
    "                                                      min_samples_leaf=1, \n",
    "                                                      min_samples_split=50, \n",
    "                                                      random_state=42)"
   ]
  },
  {
   "cell_type": "code",
   "execution_count": 38,
   "id": "average-stations",
   "metadata": {},
   "outputs": [
    {
     "name": "stdout",
     "output_type": "stream",
     "text": [
      "85.08% de accuracy en el conjunto de train\n",
      "81.87% de accuracy en el conjunto de test\n"
     ]
    },
    {
     "data": {
      "text/plain": [
       "<AxesSubplot:>"
      ]
     },
     "execution_count": 38,
     "metadata": {},
     "output_type": "execute_result"
    },
    {
     "data": {
      "image/png": "[encoded data removed]",
      "text/plain": [
       "<Figure size 432x288 with 2 Axes>"
      ]
     },
     "metadata": {
      "needs_background": "light"
     },
     "output_type": "display_data"
    }
   ],
   "source": [
    "random_forest_model_reducido.fit(X_train_reduced,y_train_reduced)\n",
    "\n",
    "y_train_pred = random_forest_model_reducido.predict(X_train_reduced)\n",
    "y_test_pred = random_forest_model_reducido.predict(X_test_reduced)\n",
    "\n",
    "train_accuracy = accuracy_score(y_train_reduced, y_train_pred)\n",
    "\n",
    "test_accuracy = accuracy_score(y_test_reduced, y_test_pred)\n",
    "\n",
    "print('{:.2%} de accuracy en el conjunto de train'.format(train_accuracy))\n",
    "print('{:.2%} de accuracy en el conjunto de test'.format(test_accuracy))\n",
    "\n",
    "matrix = confusion_matrix(y_test_reduced, y_test_pred)\n",
    "\n",
    "sns.heatmap(matrix, annot=True, fmt='d')"
   ]
  },
  {
   "cell_type": "markdown",
   "id": "stretch-opportunity",
   "metadata": {},
   "source": [
    "Vemos que no mejoramos  al reducir la cantidad de variables utilizadas, sino que empeoró el resultado.\n",
    "\n",
    "Nuestro mejor modelo de Random forest utiliza todas las variables y se llama 'random_forest_model_mejorado'"
   ]
  },
  {
   "cell_type": "markdown",
   "id": "hourly-certificate",
   "metadata": {},
   "source": [
    "# "
   ]
  },
  {
   "cell_type": "markdown",
   "id": "answering-bottom",
   "metadata": {},
   "source": [
    "# SUPPORT VECTOR MACHINE CLASSIFIER (SVC)"
   ]
  },
  {
   "cell_type": "markdown",
   "id": "trained-brush",
   "metadata": {},
   "source": [
    "Parametros modificados:\n",
    "\n",
    "    - kernel: Kernel del algoritmo utilizado.\n",
    "    - gamma: Coeficiente del kernel (solo para rbf y sigmoid).\n",
    "    - tol: Tolerancia utilizada como criterio para frenar el entrenamiento."
   ]
  },
  {
   "cell_type": "code",
   "execution_count": 39,
   "id": "accurate-wisdom",
   "metadata": {},
   "outputs": [],
   "source": [
    "param_grid_svc = {\n",
    "    'kernel': ['linear', 'rbf', 'sigmoid'],\n",
    "    'gamma': ['scale', 'auto'],\n",
    "    'tol': [0.001, 0.0005, 0.0001]\n",
    "}\n",
    "\n",
    "\n",
    "grid_search_svc = GridSearchCV(estimator=SVC(random_state=42), \n",
    "                               param_grid=param_grid_svc, \n",
    "                               cv=3, n_jobs=-1, verbose=2)"
   ]
  },
  {
   "cell_type": "markdown",
   "id": "frequent-benchmark",
   "metadata": {},
   "source": [
    "Armemos el modelo con estos parámetros"
   ]
  },
  {
   "cell_type": "code",
   "execution_count": 40,
   "id": "rising-conservation",
   "metadata": {},
   "outputs": [
    {
     "name": "stdout",
     "output_type": "stream",
     "text": [
      "Fitting 3 folds for each of 18 candidates, totalling 54 fits\n"
     ]
    },
    {
     "data": {
      "text/plain": [
       "{'gamma': 'scale', 'kernel': 'linear', 'tol': 0.001}"
      ]
     },
     "execution_count": 40,
     "metadata": {},
     "output_type": "execute_result"
    }
   ],
   "source": [
    "grid_search_svc.fit(X_train,y_train)\n",
    "\n",
    "grid_search_svc.best_params_"
   ]
  },
  {
   "cell_type": "code",
   "execution_count": 41,
   "id": "organizational-label",
   "metadata": {},
   "outputs": [
    {
     "name": "stderr",
     "output_type": "stream",
     "text": [
      "c:\\users\\usuario\\appdata\\local\\programs\\python\\python37\\lib\\site-packages\\sklearn\\svm\\_base.py:258: ConvergenceWarning: Solver terminated early (max_iter=2000).  Consider pre-processing your data with StandardScaler or MinMaxScaler.\n",
      "  % self.max_iter, ConvergenceWarning)\n"
     ]
    },
    {
     "name": "stdout",
     "output_type": "stream",
     "text": [
      "68.02% de accuracy en el conjunto de train\n",
      "66.88% de accuracy en el conjunto de test\n"
     ]
    },
    {
     "data": {
      "text/plain": [
       "<AxesSubplot:>"
      ]
     },
     "execution_count": 41,
     "metadata": {},
     "output_type": "execute_result"
    },
    {
     "data": {
      "image/png": "[encoded data removed]",
      "text/plain": [
       "<Figure size 432x288 with 2 Axes>"
      ]
     },
     "metadata": {
      "needs_background": "light"
     },
     "output_type": "display_data"
    }
   ],
   "source": [
    "svc_model_mejorado = SVC(kernel='rbf',\n",
    "                         gamma='scale', \n",
    "                         tol=0.001,\n",
    "                         max_iter=2000,\n",
    "                         random_state=42)\n",
    "\n",
    "svc_model_mejorado.fit(X_train,y_train)\n",
    "\n",
    "y_train_pred = svc_model_mejorado.predict(X_train)\n",
    "y_test_pred = svc_model_mejorado.predict(X_test)\n",
    "\n",
    "train_accuracy = accuracy_score(y_train, y_train_pred)\n",
    "\n",
    "test_accuracy = accuracy_score(y_test, y_test_pred)\n",
    "\n",
    "print('{:.2%} de accuracy en el conjunto de train'.format(train_accuracy))\n",
    "print('{:.2%} de accuracy en el conjunto de test'.format(test_accuracy))\n",
    "\n",
    "matrix = confusion_matrix(y_test, y_test_pred)\n",
    "\n",
    "sns.heatmap(matrix, annot=True, fmt='d')"
   ]
  },
  {
   "cell_type": "markdown",
   "id": "endangered-relaxation",
   "metadata": {},
   "source": [
    "Vemos que tenemos un accuracy del 67%, el peor hasta ahora.\n",
    "\n",
    "Probemos otro modelo"
   ]
  },
  {
   "cell_type": "markdown",
   "id": "fossil-international",
   "metadata": {},
   "source": [
    "# "
   ]
  },
  {
   "cell_type": "markdown",
   "id": "assured-cornell",
   "metadata": {},
   "source": [
    "# GRADIENT BOOSTING CLASSIFIER"
   ]
  },
  {
   "cell_type": "markdown",
   "id": "prerequisite-reset",
   "metadata": {},
   "source": [
    "Parametros modificados:\n",
    "\n",
    "    - n_estimators: Cantidad de etapas de mejora (boosting) realizadas.\n",
    "    - min_samples_split: Cantidad mínima de muestras para permitir que un nodo se abra en otro nivel.\n",
    "    - min_samples_leaf: Cantidad mínima de muestras para considerar un nodo como hoja.\n",
    "    - max_depth: Máximo nivel de profundidad del árbol de cada estimador.\n",
    "    "
   ]
  },
  {
   "cell_type": "code",
   "execution_count": 42,
   "id": "conservative-fifty",
   "metadata": {
    "code_folding": []
   },
   "outputs": [],
   "source": [
    "param_grid_gradient_boosting = {\n",
    "    'n_estimators': [50, 100, 150, 200],\n",
    "    'min_samples_split': [2, 50, 100],\n",
    "    'min_samples_leaf': [1, 10],\n",
    "    'max_depth' : [3, 5, 10, 15]\n",
    "}\n",
    "\n",
    "\n",
    "grid_search_gradient_boosting = GridSearchCV(estimator=GradientBoostingClassifier(random_state=42), \n",
    "                                             param_grid=param_grid_gradient_boosting, \n",
    "                                             cv=3, n_jobs=-1, verbose=2)"
   ]
  },
  {
   "cell_type": "markdown",
   "id": "private-sugar",
   "metadata": {},
   "source": [
    "Armemos el modelo con estos parámetros"
   ]
  },
  {
   "cell_type": "code",
   "execution_count": 43,
   "id": "pleasant-nebraska",
   "metadata": {},
   "outputs": [
    {
     "name": "stdout",
     "output_type": "stream",
     "text": [
      "Fitting 3 folds for each of 96 candidates, totalling 288 fits\n",
      "Wall time: 3min 36s\n"
     ]
    },
    {
     "data": {
      "text/plain": [
       "{'max_depth': 15,\n",
       " 'min_samples_leaf': 1,\n",
       " 'min_samples_split': 50,\n",
       " 'n_estimators': 150}"
      ]
     },
     "execution_count": 43,
     "metadata": {},
     "output_type": "execute_result"
    }
   ],
   "source": [
    "%%time\n",
    "\n",
    "grid_search_gradient_boosting.fit(X_train,y_train)\n",
    "\n",
    "grid_search_gradient_boosting.best_params_"
   ]
  },
  {
   "cell_type": "code",
   "execution_count": 44,
   "id": "invalid-whole",
   "metadata": {},
   "outputs": [
    {
     "name": "stdout",
     "output_type": "stream",
     "text": [
      "100.00% de accuracy en el conjunto de train\n",
      "84.59% de accuracy en el conjunto de test\n"
     ]
    },
    {
     "data": {
      "text/plain": [
       "<AxesSubplot:>"
      ]
     },
     "execution_count": 44,
     "metadata": {},
     "output_type": "execute_result"
    },
    {
     "data": {
      "image/png": "[encoded data removed]",
      "text/plain": [
       "<Figure size 432x288 with 2 Axes>"
      ]
     },
     "metadata": {
      "needs_background": "light"
     },
     "output_type": "display_data"
    }
   ],
   "source": [
    "gradient_boosting_model_mejorado = GradientBoostingClassifier(n_estimators=150,\n",
    "                                                              min_samples_split=50, \n",
    "                                                              min_samples_leaf=1,\n",
    "                                                              max_depth=15,\n",
    "                                                              random_state=42)\n",
    "\n",
    "gradient_boosting_model_mejorado.fit(X_train,y_train)\n",
    "\n",
    "y_train_pred = gradient_boosting_model_mejorado.predict(X_train)\n",
    "y_test_pred = gradient_boosting_model_mejorado.predict(X_test)\n",
    "\n",
    "train_accuracy = accuracy_score(y_train, y_train_pred)\n",
    "\n",
    "test_accuracy = accuracy_score(y_test, y_test_pred)\n",
    "\n",
    "print('{:.2%} de accuracy en el conjunto de train'.format(train_accuracy))\n",
    "print('{:.2%} de accuracy en el conjunto de test'.format(test_accuracy))\n",
    "\n",
    "matrix = confusion_matrix(y_test, y_test_pred)\n",
    "\n",
    "sns.heatmap(matrix, annot=True, fmt='d')"
   ]
  },
  {
   "cell_type": "markdown",
   "id": "interesting-tuition",
   "metadata": {},
   "source": [
    "Vemos que hay 176 canciones que no eran HIT, pero el modelo la clasificó como un hit. Esto implica un aumento de 6 muestras en este error\n",
    "\n",
    "Todo esto, con un accuracy de 84.59% muy similar al Random Forest, con la diferencia que en este caso hubo un overfitting en el entrenamiento\n",
    "\n",
    "Quedémosno con el random forest"
   ]
  },
  {
   "cell_type": "markdown",
   "id": "logical-measurement",
   "metadata": {},
   "source": [
    "Veamos la importancia de las variables"
   ]
  },
  {
   "cell_type": "code",
   "execution_count": 45,
   "id": "absolute-republic",
   "metadata": {},
   "outputs": [
    {
     "data": {
      "text/plain": [
       "[(0.42, 'instrumentalness'),\n",
       " (0.09, 'energy'),\n",
       " (0.08, 'danceability'),\n",
       " (0.07, 'valence'),\n",
       " (0.07, 'loudness'),\n",
       " (0.06, 'duration_s'),\n",
       " (0.06, 'acousticness'),\n",
       " (0.05, 'speechiness'),\n",
       " (0.04, 'tempo'),\n",
       " (0.03, 'liveness'),\n",
       " (0.03, 'chorus_hit'),\n",
       " (0.01, 'key'),\n",
       " (0.0, 'mode')]"
      ]
     },
     "execution_count": 45,
     "metadata": {},
     "output_type": "execute_result"
    }
   ],
   "source": [
    "sorted(zip(map(lambda x: round(x, 2), gradient_boosting_model_mejorado.feature_importances_), X.columns.tolist()), \n",
    "             reverse=True)"
   ]
  },
  {
   "cell_type": "markdown",
   "id": "eight-annotation",
   "metadata": {},
   "source": [
    "# "
   ]
  },
  {
   "cell_type": "markdown",
   "id": "pacific-trick",
   "metadata": {},
   "source": [
    "# CONCLUSIÓN"
   ]
  },
  {
   "cell_type": "markdown",
   "id": "headed-point",
   "metadata": {},
   "source": [
    "El mejor modelo fue un Random Forest.\n",
    "\n",
    "Veamos sus hiperparámetros."
   ]
  },
  {
   "cell_type": "code",
   "execution_count": 46,
   "id": "satisfied-little",
   "metadata": {},
   "outputs": [
    {
     "data": {
      "text/plain": [
       "RandomForestClassifier(min_samples_split=15, n_estimators=150, random_state=42)"
      ]
     },
     "execution_count": 46,
     "metadata": {},
     "output_type": "execute_result"
    }
   ],
   "source": [
    "random_forest_model_mejorado"
   ]
  },
  {
   "cell_type": "markdown",
   "id": "sexual-seafood",
   "metadata": {},
   "source": [
    "Recordemos los resultados y la matriz de confusión"
   ]
  },
  {
   "cell_type": "code",
   "execution_count": 47,
   "id": "latest-detail",
   "metadata": {},
   "outputs": [
    {
     "name": "stdout",
     "output_type": "stream",
     "text": [
      "94.74% de accuracy en el conjunto de train\n",
      "84.49% de accuracy en el conjunto de test\n"
     ]
    },
    {
     "data": {
      "text/plain": [
       "<AxesSubplot:>"
      ]
     },
     "execution_count": 47,
     "metadata": {},
     "output_type": "execute_result"
    },
    {
     "data": {
      "image/png": "[encoded data removed]",
      "text/plain": [
       "<Figure size 432x288 with 2 Axes>"
      ]
     },
     "metadata": {
      "needs_background": "light"
     },
     "output_type": "display_data"
    }
   ],
   "source": [
    "y_train_pred = random_forest_model_mejorado.predict(X_train)\n",
    "y_test_pred = random_forest_model_mejorado.predict(X_test)\n",
    "\n",
    "train_accuracy = accuracy_score(y_train, y_train_pred)\n",
    "\n",
    "test_accuracy = accuracy_score(y_test, y_test_pred)\n",
    "\n",
    "print('{:.2%} de accuracy en el conjunto de train'.format(train_accuracy))\n",
    "print('{:.2%} de accuracy en el conjunto de test'.format(test_accuracy))\n",
    "\n",
    "matrix = confusion_matrix(y_test, y_test_pred)\n",
    "\n",
    "sns.heatmap(matrix, annot=True, fmt='d')"
   ]
  },
  {
   "cell_type": "markdown",
   "id": "dense-passport",
   "metadata": {},
   "source": [
    "# "
   ]
  }
 ],
 "metadata": {
  "kernelspec": {
   "display_name": "Python 3",
   "language": "python",
   "name": "python3"
  },
  "language_info": {
   "codemirror_mode": {
    "name": "ipython",
    "version": 3
   },
   "file_extension": ".py",
   "mimetype": "text/x-python",
   "name": "python",
   "nbconvert_exporter": "python",
   "pygments_lexer": "ipython3",
   "version": "3.7.7"
  }
 },
 "nbformat": 4,
 "nbformat_minor": 5
}

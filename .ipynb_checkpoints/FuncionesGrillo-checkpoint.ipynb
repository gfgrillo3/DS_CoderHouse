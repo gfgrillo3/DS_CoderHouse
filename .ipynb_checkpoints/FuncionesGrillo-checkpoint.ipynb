{
 "cells": [
  {
   "cell_type": "markdown",
   "id": "numerous-gardening",
   "metadata": {},
   "source": [
    "### Grillo, Gian Franco."
   ]
  },
  {
   "cell_type": "markdown",
   "id": "characteristic-development",
   "metadata": {},
   "source": [
    "# 1"
   ]
  },
  {
   "cell_type": "markdown",
   "id": "ranking-invention",
   "metadata": {},
   "source": [
    "Escribir una función para calcular el factorial de un número cualquiera."
   ]
  },
  {
   "cell_type": "code",
   "execution_count": 1,
   "id": "circular-danish",
   "metadata": {},
   "outputs": [],
   "source": [
    "def factorial(num):\n",
    "    if num==0:\n",
    "        return 1\n",
    "    return num*factorial(num-1)"
   ]
  },
  {
   "cell_type": "markdown",
   "id": "certain-train",
   "metadata": {},
   "source": [
    "Tests"
   ]
  },
  {
   "cell_type": "code",
   "execution_count": 2,
   "id": "disturbed-registration",
   "metadata": {},
   "outputs": [
    {
     "name": "stdout",
     "output_type": "stream",
     "text": [
      "Factorial de 4 es 24\n",
      "Factorial de 5 es 120\n",
      "Factorial de 0 es 1\n"
     ]
    }
   ],
   "source": [
    "print(\"Factorial de 4 es\",factorial(4)) #Esperando 24 como resultado.\n",
    "print(\"Factorial de 5 es\",factorial(5)) #Esperando 120 como resultado.\n",
    "print(\"Factorial de 0 es\",factorial(0)) #Esperando 1 como resultado."
   ]
  },
  {
   "cell_type": "markdown",
   "id": "raised-mention",
   "metadata": {},
   "source": [
    "# "
   ]
  },
  {
   "cell_type": "markdown",
   "id": "equipped-dakota",
   "metadata": {},
   "source": [
    "# 2"
   ]
  },
  {
   "cell_type": "markdown",
   "id": "terminal-trinity",
   "metadata": {},
   "source": [
    "Escribir una función para calcular la suma de una serie comenzando por un número cualquiera y terminando en otro número que debe ser mayor al primero."
   ]
  },
  {
   "cell_type": "code",
   "execution_count": 3,
   "id": "running-fitting",
   "metadata": {},
   "outputs": [],
   "source": [
    "#Sin especificar, en esta implementación, se verifica cual de los 2 números es el mayor para sumar desde el menor\n",
    "#hasta el mayor.\n",
    "#\n",
    "#Sin especificar, se incluirán ambos numeros ingresados en la suma de la serie, salvo que ambos numeros sean iguales\n",
    "#en el caso que el inicial sea igual al final, se devolverá ese número como resultado\n",
    "\n",
    "def sumarSerie(primerNumero, segundoNumero):\n",
    "    \n",
    "    #Si el segundo número es mayor al primero, intercambio valores\n",
    "    if primerNumero > segundoNumero:\n",
    "        primerNumero,segundoNumero = segundoNumero,primerNumero\n",
    "        \n",
    "    suma = 0\n",
    "    \n",
    "    for i in range(primerNumero,segundoNumero+1):\n",
    "        suma +=i\n",
    "    return suma"
   ]
  },
  {
   "cell_type": "code",
   "execution_count": 4,
   "id": "accepting-hotel",
   "metadata": {},
   "outputs": [
    {
     "name": "stdout",
     "output_type": "stream",
     "text": [
      "Suma de los numeros entre 0 y 10 = 55\n",
      "Suma de los numeros entre -5 y 0 = -15\n",
      "Suma de los numeros entre 15 y 10 = 75\n",
      "Suma de los numeros entre 4 y 0 = 10\n",
      "Suma de los numeros entre 8 y 8 = 8\n"
     ]
    }
   ],
   "source": [
    "print(\"Suma de los numeros entre 0 y 10 =\",sumarSerie(0,10)) #Esperando como resultado 55\n",
    "print(\"Suma de los numeros entre -5 y 0 =\",sumarSerie(-5,0)) #Esperando como resultado -15\n",
    "print(\"Suma de los numeros entre 15 y 10 =\",sumarSerie(15,10)) #Esperando como resultado 75\n",
    "print(\"Suma de los numeros entre 4 y 0 =\",sumarSerie(4,0)) #Esperando como resultado 10\n",
    "print(\"Suma de los numeros entre 8 y 8 =\",sumarSerie(8,8)) #Esperando como resultado 8"
   ]
  }
 ],
 "metadata": {
  "kernelspec": {
   "display_name": "Python 3",
   "language": "python",
   "name": "python3"
  },
  "language_info": {
   "codemirror_mode": {
    "name": "ipython",
    "version": 3
   },
   "file_extension": ".py",
   "mimetype": "text/x-python",
   "name": "python",
   "nbconvert_exporter": "python",
   "pygments_lexer": "ipython3",
   "version": "3.7.7"
  }
 },
 "nbformat": 4,
 "nbformat_minor": 5
}

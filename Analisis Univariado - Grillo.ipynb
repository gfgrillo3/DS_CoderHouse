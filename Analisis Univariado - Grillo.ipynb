{
 "cells": [
  {
   "cell_type": "markdown",
   "id": "vocal-shanghai",
   "metadata": {},
   "source": [
    "    Grillo, Gian Franco.\n"
   ]
  },
  {
   "cell_type": "markdown",
   "id": "grand-productivity",
   "metadata": {},
   "source": [
    "# "
   ]
  },
  {
   "cell_type": "markdown",
   "id": "social-reflection",
   "metadata": {},
   "source": [
    "Imports para los ejercicios"
   ]
  },
  {
   "cell_type": "code",
   "execution_count": 1,
   "id": "attractive-mainstream",
   "metadata": {},
   "outputs": [],
   "source": [
    "import pandas as pd\n",
    "import numpy as np\n",
    "\n",
    "import matplotlib.pyplot as plt\n",
    "import seaborn as sns"
   ]
  },
  {
   "cell_type": "code",
   "execution_count": 2,
   "id": "ordinary-demand",
   "metadata": {},
   "outputs": [],
   "source": [
    "#Seteo para ver todas las columnas cuando muestro un dataframe\n",
    "pd.set_option('display.max_columns', None)"
   ]
  },
  {
   "cell_type": "markdown",
   "id": "domestic-estimate",
   "metadata": {},
   "source": [
    "# "
   ]
  },
  {
   "cell_type": "markdown",
   "id": "considered-loading",
   "metadata": {},
   "source": [
    "# CONSIGNA"
   ]
  },
  {
   "cell_type": "markdown",
   "id": "premier-split",
   "metadata": {},
   "source": [
    "Realizar un pequeño análisis univariado de datos, teniendo en cuenta las características de las observaciones. Generar al menos 3 gráficos asociados."
   ]
  },
  {
   "cell_type": "markdown",
   "id": "guided-syndrome",
   "metadata": {},
   "source": [
    "#  "
   ]
  },
  {
   "cell_type": "markdown",
   "id": "violent-queen",
   "metadata": {},
   "source": [
    "# "
   ]
  },
  {
   "cell_type": "markdown",
   "id": "aging-batch",
   "metadata": {},
   "source": [
    "## The Spotify Hit Predictor Dataset (1960-2019)."
   ]
  },
  {
   "cell_type": "markdown",
   "id": "broadband-ground",
   "metadata": {},
   "source": [
    "Cargamos y vemos el dataset"
   ]
  },
  {
   "cell_type": "code",
   "execution_count": 3,
   "id": "dressed-wildlife",
   "metadata": {
    "scrolled": true
   },
   "outputs": [
    {
     "data": {
      "text/html": [
       "<div>\n",
       "<style scoped>\n",
       "    .dataframe tbody tr th:only-of-type {\n",
       "        vertical-align: middle;\n",
       "    }\n",
       "\n",
       "    .dataframe tbody tr th {\n",
       "        vertical-align: top;\n",
       "    }\n",
       "\n",
       "    .dataframe thead th {\n",
       "        text-align: right;\n",
       "    }\n",
       "</style>\n",
       "<table border=\"1\" class=\"dataframe\">\n",
       "  <thead>\n",
       "    <tr style=\"text-align: right;\">\n",
       "      <th></th>\n",
       "      <th>track</th>\n",
       "      <th>artist</th>\n",
       "      <th>uri</th>\n",
       "      <th>danceability</th>\n",
       "      <th>energy</th>\n",
       "      <th>key</th>\n",
       "      <th>loudness</th>\n",
       "      <th>mode</th>\n",
       "      <th>speechiness</th>\n",
       "      <th>acousticness</th>\n",
       "      <th>instrumentalness</th>\n",
       "      <th>liveness</th>\n",
       "      <th>valence</th>\n",
       "      <th>tempo</th>\n",
       "      <th>duration_ms</th>\n",
       "      <th>time_signature</th>\n",
       "      <th>chorus_hit</th>\n",
       "      <th>sections</th>\n",
       "      <th>target</th>\n",
       "    </tr>\n",
       "  </thead>\n",
       "  <tbody>\n",
       "    <tr>\n",
       "      <th>0</th>\n",
       "      <td>Wild Things</td>\n",
       "      <td>Alessia Cara</td>\n",
       "      <td>spotify:track:2ZyuwVvV6Z3XJaXIFbspeE</td>\n",
       "      <td>0.741</td>\n",
       "      <td>0.626</td>\n",
       "      <td>1</td>\n",
       "      <td>-4.826</td>\n",
       "      <td>0</td>\n",
       "      <td>0.0886</td>\n",
       "      <td>0.02000</td>\n",
       "      <td>0.000000</td>\n",
       "      <td>0.0828</td>\n",
       "      <td>0.7060</td>\n",
       "      <td>108.029</td>\n",
       "      <td>188493</td>\n",
       "      <td>4</td>\n",
       "      <td>41.18681</td>\n",
       "      <td>10</td>\n",
       "      <td>1</td>\n",
       "    </tr>\n",
       "    <tr>\n",
       "      <th>1</th>\n",
       "      <td>Surfboard</td>\n",
       "      <td>Esquivel!</td>\n",
       "      <td>spotify:track:61APOtq25SCMuK0V5w2Kgp</td>\n",
       "      <td>0.447</td>\n",
       "      <td>0.247</td>\n",
       "      <td>5</td>\n",
       "      <td>-14.661</td>\n",
       "      <td>0</td>\n",
       "      <td>0.0346</td>\n",
       "      <td>0.87100</td>\n",
       "      <td>0.814000</td>\n",
       "      <td>0.0946</td>\n",
       "      <td>0.2500</td>\n",
       "      <td>155.489</td>\n",
       "      <td>176880</td>\n",
       "      <td>3</td>\n",
       "      <td>33.18083</td>\n",
       "      <td>9</td>\n",
       "      <td>0</td>\n",
       "    </tr>\n",
       "    <tr>\n",
       "      <th>2</th>\n",
       "      <td>Love Someone</td>\n",
       "      <td>Lukas Graham</td>\n",
       "      <td>spotify:track:2JqnpexlO9dmvjUMCaLCLJ</td>\n",
       "      <td>0.550</td>\n",
       "      <td>0.415</td>\n",
       "      <td>9</td>\n",
       "      <td>-6.557</td>\n",
       "      <td>0</td>\n",
       "      <td>0.0520</td>\n",
       "      <td>0.16100</td>\n",
       "      <td>0.000000</td>\n",
       "      <td>0.1080</td>\n",
       "      <td>0.2740</td>\n",
       "      <td>172.065</td>\n",
       "      <td>205463</td>\n",
       "      <td>4</td>\n",
       "      <td>44.89147</td>\n",
       "      <td>9</td>\n",
       "      <td>1</td>\n",
       "    </tr>\n",
       "    <tr>\n",
       "      <th>3</th>\n",
       "      <td>Music To My Ears (feat. Tory Lanez)</td>\n",
       "      <td>Keys N Krates</td>\n",
       "      <td>spotify:track:0cjfLhk8WJ3etPTCseKXtk</td>\n",
       "      <td>0.502</td>\n",
       "      <td>0.648</td>\n",
       "      <td>0</td>\n",
       "      <td>-5.698</td>\n",
       "      <td>0</td>\n",
       "      <td>0.0527</td>\n",
       "      <td>0.00513</td>\n",
       "      <td>0.000000</td>\n",
       "      <td>0.2040</td>\n",
       "      <td>0.2910</td>\n",
       "      <td>91.837</td>\n",
       "      <td>193043</td>\n",
       "      <td>4</td>\n",
       "      <td>29.52521</td>\n",
       "      <td>7</td>\n",
       "      <td>0</td>\n",
       "    </tr>\n",
       "    <tr>\n",
       "      <th>4</th>\n",
       "      <td>Juju On That Beat (TZ Anthem)</td>\n",
       "      <td>Zay Hilfigerrr &amp; Zayion McCall</td>\n",
       "      <td>spotify:track:1lItf5ZXJc1by9SbPeljFd</td>\n",
       "      <td>0.807</td>\n",
       "      <td>0.887</td>\n",
       "      <td>1</td>\n",
       "      <td>-3.892</td>\n",
       "      <td>1</td>\n",
       "      <td>0.2750</td>\n",
       "      <td>0.00381</td>\n",
       "      <td>0.000000</td>\n",
       "      <td>0.3910</td>\n",
       "      <td>0.7800</td>\n",
       "      <td>160.517</td>\n",
       "      <td>144244</td>\n",
       "      <td>4</td>\n",
       "      <td>24.99199</td>\n",
       "      <td>8</td>\n",
       "      <td>1</td>\n",
       "    </tr>\n",
       "    <tr>\n",
       "      <th>...</th>\n",
       "      <td>...</td>\n",
       "      <td>...</td>\n",
       "      <td>...</td>\n",
       "      <td>...</td>\n",
       "      <td>...</td>\n",
       "      <td>...</td>\n",
       "      <td>...</td>\n",
       "      <td>...</td>\n",
       "      <td>...</td>\n",
       "      <td>...</td>\n",
       "      <td>...</td>\n",
       "      <td>...</td>\n",
       "      <td>...</td>\n",
       "      <td>...</td>\n",
       "      <td>...</td>\n",
       "      <td>...</td>\n",
       "      <td>...</td>\n",
       "      <td>...</td>\n",
       "      <td>...</td>\n",
       "    </tr>\n",
       "    <tr>\n",
       "      <th>6393</th>\n",
       "      <td>Lotus Flowers</td>\n",
       "      <td>Yolta</td>\n",
       "      <td>spotify:track:4t1TljQWJ6ZuoSY67zVvBI</td>\n",
       "      <td>0.172</td>\n",
       "      <td>0.358</td>\n",
       "      <td>9</td>\n",
       "      <td>-14.430</td>\n",
       "      <td>1</td>\n",
       "      <td>0.0342</td>\n",
       "      <td>0.88600</td>\n",
       "      <td>0.966000</td>\n",
       "      <td>0.3140</td>\n",
       "      <td>0.0361</td>\n",
       "      <td>72.272</td>\n",
       "      <td>150857</td>\n",
       "      <td>4</td>\n",
       "      <td>24.30824</td>\n",
       "      <td>7</td>\n",
       "      <td>0</td>\n",
       "    </tr>\n",
       "    <tr>\n",
       "      <th>6394</th>\n",
       "      <td>Calling My Spirit</td>\n",
       "      <td>Kodak Black</td>\n",
       "      <td>spotify:track:2MShy1GSSgbmGUxADNIao5</td>\n",
       "      <td>0.910</td>\n",
       "      <td>0.366</td>\n",
       "      <td>1</td>\n",
       "      <td>-9.954</td>\n",
       "      <td>1</td>\n",
       "      <td>0.0941</td>\n",
       "      <td>0.09960</td>\n",
       "      <td>0.000000</td>\n",
       "      <td>0.2610</td>\n",
       "      <td>0.7400</td>\n",
       "      <td>119.985</td>\n",
       "      <td>152000</td>\n",
       "      <td>4</td>\n",
       "      <td>32.53856</td>\n",
       "      <td>8</td>\n",
       "      <td>1</td>\n",
       "    </tr>\n",
       "    <tr>\n",
       "      <th>6395</th>\n",
       "      <td>Teenage Dream</td>\n",
       "      <td>Katy Perry</td>\n",
       "      <td>spotify:track:55qBw1900pZKfXJ6Q9A2Lc</td>\n",
       "      <td>0.719</td>\n",
       "      <td>0.804</td>\n",
       "      <td>10</td>\n",
       "      <td>-4.581</td>\n",
       "      <td>1</td>\n",
       "      <td>0.0355</td>\n",
       "      <td>0.01320</td>\n",
       "      <td>0.000003</td>\n",
       "      <td>0.1390</td>\n",
       "      <td>0.6050</td>\n",
       "      <td>119.999</td>\n",
       "      <td>227760</td>\n",
       "      <td>4</td>\n",
       "      <td>20.73371</td>\n",
       "      <td>7</td>\n",
       "      <td>1</td>\n",
       "    </tr>\n",
       "    <tr>\n",
       "      <th>6396</th>\n",
       "      <td>Stormy Weather</td>\n",
       "      <td>Oscar Peterson</td>\n",
       "      <td>spotify:track:4o9npmYHrOF1rUxxTVH8h4</td>\n",
       "      <td>0.600</td>\n",
       "      <td>0.177</td>\n",
       "      <td>7</td>\n",
       "      <td>-16.070</td>\n",
       "      <td>1</td>\n",
       "      <td>0.0561</td>\n",
       "      <td>0.98900</td>\n",
       "      <td>0.868000</td>\n",
       "      <td>0.1490</td>\n",
       "      <td>0.5600</td>\n",
       "      <td>120.030</td>\n",
       "      <td>213387</td>\n",
       "      <td>4</td>\n",
       "      <td>21.65301</td>\n",
       "      <td>14</td>\n",
       "      <td>0</td>\n",
       "    </tr>\n",
       "    <tr>\n",
       "      <th>6397</th>\n",
       "      <td>Dust</td>\n",
       "      <td>Hans Zimmer</td>\n",
       "      <td>spotify:track:2khIaVUkbMmDHB596lyMG3</td>\n",
       "      <td>0.121</td>\n",
       "      <td>0.123</td>\n",
       "      <td>4</td>\n",
       "      <td>-23.025</td>\n",
       "      <td>0</td>\n",
       "      <td>0.0443</td>\n",
       "      <td>0.96400</td>\n",
       "      <td>0.696000</td>\n",
       "      <td>0.1030</td>\n",
       "      <td>0.0297</td>\n",
       "      <td>95.182</td>\n",
       "      <td>341396</td>\n",
       "      <td>4</td>\n",
       "      <td>71.05343</td>\n",
       "      <td>15</td>\n",
       "      <td>0</td>\n",
       "    </tr>\n",
       "  </tbody>\n",
       "</table>\n",
       "<p>6398 rows × 19 columns</p>\n",
       "</div>"
      ],
      "text/plain": [
       "                                    track                          artist  \\\n",
       "0                             Wild Things                    Alessia Cara   \n",
       "1                               Surfboard                       Esquivel!   \n",
       "2                            Love Someone                    Lukas Graham   \n",
       "3     Music To My Ears (feat. Tory Lanez)                   Keys N Krates   \n",
       "4           Juju On That Beat (TZ Anthem)  Zay Hilfigerrr & Zayion McCall   \n",
       "...                                   ...                             ...   \n",
       "6393                        Lotus Flowers                           Yolta   \n",
       "6394                    Calling My Spirit                     Kodak Black   \n",
       "6395                        Teenage Dream                      Katy Perry   \n",
       "6396                       Stormy Weather                  Oscar Peterson   \n",
       "6397                                 Dust                     Hans Zimmer   \n",
       "\n",
       "                                       uri  danceability  energy  key  \\\n",
       "0     spotify:track:2ZyuwVvV6Z3XJaXIFbspeE         0.741   0.626    1   \n",
       "1     spotify:track:61APOtq25SCMuK0V5w2Kgp         0.447   0.247    5   \n",
       "2     spotify:track:2JqnpexlO9dmvjUMCaLCLJ         0.550   0.415    9   \n",
       "3     spotify:track:0cjfLhk8WJ3etPTCseKXtk         0.502   0.648    0   \n",
       "4     spotify:track:1lItf5ZXJc1by9SbPeljFd         0.807   0.887    1   \n",
       "...                                    ...           ...     ...  ...   \n",
       "6393  spotify:track:4t1TljQWJ6ZuoSY67zVvBI         0.172   0.358    9   \n",
       "6394  spotify:track:2MShy1GSSgbmGUxADNIao5         0.910   0.366    1   \n",
       "6395  spotify:track:55qBw1900pZKfXJ6Q9A2Lc         0.719   0.804   10   \n",
       "6396  spotify:track:4o9npmYHrOF1rUxxTVH8h4         0.600   0.177    7   \n",
       "6397  spotify:track:2khIaVUkbMmDHB596lyMG3         0.121   0.123    4   \n",
       "\n",
       "      loudness  mode  speechiness  acousticness  instrumentalness  liveness  \\\n",
       "0       -4.826     0       0.0886       0.02000          0.000000    0.0828   \n",
       "1      -14.661     0       0.0346       0.87100          0.814000    0.0946   \n",
       "2       -6.557     0       0.0520       0.16100          0.000000    0.1080   \n",
       "3       -5.698     0       0.0527       0.00513          0.000000    0.2040   \n",
       "4       -3.892     1       0.2750       0.00381          0.000000    0.3910   \n",
       "...        ...   ...          ...           ...               ...       ...   \n",
       "6393   -14.430     1       0.0342       0.88600          0.966000    0.3140   \n",
       "6394    -9.954     1       0.0941       0.09960          0.000000    0.2610   \n",
       "6395    -4.581     1       0.0355       0.01320          0.000003    0.1390   \n",
       "6396   -16.070     1       0.0561       0.98900          0.868000    0.1490   \n",
       "6397   -23.025     0       0.0443       0.96400          0.696000    0.1030   \n",
       "\n",
       "      valence    tempo  duration_ms  time_signature  chorus_hit  sections  \\\n",
       "0      0.7060  108.029       188493               4    41.18681        10   \n",
       "1      0.2500  155.489       176880               3    33.18083         9   \n",
       "2      0.2740  172.065       205463               4    44.89147         9   \n",
       "3      0.2910   91.837       193043               4    29.52521         7   \n",
       "4      0.7800  160.517       144244               4    24.99199         8   \n",
       "...       ...      ...          ...             ...         ...       ...   \n",
       "6393   0.0361   72.272       150857               4    24.30824         7   \n",
       "6394   0.7400  119.985       152000               4    32.53856         8   \n",
       "6395   0.6050  119.999       227760               4    20.73371         7   \n",
       "6396   0.5600  120.030       213387               4    21.65301        14   \n",
       "6397   0.0297   95.182       341396               4    71.05343        15   \n",
       "\n",
       "      target  \n",
       "0          1  \n",
       "1          0  \n",
       "2          1  \n",
       "3          0  \n",
       "4          1  \n",
       "...      ...  \n",
       "6393       0  \n",
       "6394       1  \n",
       "6395       1  \n",
       "6396       0  \n",
       "6397       0  \n",
       "\n",
       "[6398 rows x 19 columns]"
      ]
     },
     "execution_count": 3,
     "metadata": {},
     "output_type": "execute_result"
    }
   ],
   "source": [
    "df_spotify = pd.read_csv('https://raw.githubusercontent.com/gfgrillo3/DS_CoderHouse/main/Datasets/dataset-of-10s.csv', sep=',')\n",
    "\n",
    "df_spotify"
   ]
  },
  {
   "cell_type": "markdown",
   "id": "convertible-kidney",
   "metadata": {},
   "source": [
    "# "
   ]
  },
  {
   "cell_type": "markdown",
   "id": "rubber-white",
   "metadata": {},
   "source": [
    "#### Tamaño "
   ]
  },
  {
   "cell_type": "code",
   "execution_count": 4,
   "id": "helpful-sustainability",
   "metadata": {},
   "outputs": [
    {
     "name": "stdout",
     "output_type": "stream",
     "text": [
      "6398 filas y 19 columnas.\n"
     ]
    }
   ],
   "source": [
    "print(\"{} filas y {} columnas.\".format(df_spotify.shape[0], df_spotify.shape[1]))"
   ]
  },
  {
   "cell_type": "markdown",
   "id": "intensive-bennett",
   "metadata": {},
   "source": [
    "# "
   ]
  },
  {
   "cell_type": "markdown",
   "id": "accepting-turner",
   "metadata": {},
   "source": [
    "#### Info resumen del DF"
   ]
  },
  {
   "cell_type": "code",
   "execution_count": 5,
   "id": "settled-reservation",
   "metadata": {},
   "outputs": [
    {
     "name": "stdout",
     "output_type": "stream",
     "text": [
      "<class 'pandas.core.frame.DataFrame'>\n",
      "RangeIndex: 6398 entries, 0 to 6397\n",
      "Data columns (total 19 columns):\n",
      " #   Column            Non-Null Count  Dtype  \n",
      "---  ------            --------------  -----  \n",
      " 0   track             6398 non-null   object \n",
      " 1   artist            6398 non-null   object \n",
      " 2   uri               6398 non-null   object \n",
      " 3   danceability      6398 non-null   float64\n",
      " 4   energy            6398 non-null   float64\n",
      " 5   key               6398 non-null   int64  \n",
      " 6   loudness          6398 non-null   float64\n",
      " 7   mode              6398 non-null   int64  \n",
      " 8   speechiness       6398 non-null   float64\n",
      " 9   acousticness      6398 non-null   float64\n",
      " 10  instrumentalness  6398 non-null   float64\n",
      " 11  liveness          6398 non-null   float64\n",
      " 12  valence           6398 non-null   float64\n",
      " 13  tempo             6398 non-null   float64\n",
      " 14  duration_ms       6398 non-null   int64  \n",
      " 15  time_signature    6398 non-null   int64  \n",
      " 16  chorus_hit        6398 non-null   float64\n",
      " 17  sections          6398 non-null   int64  \n",
      " 18  target            6398 non-null   int64  \n",
      "dtypes: float64(10), int64(6), object(3)\n",
      "memory usage: 949.8+ KB\n"
     ]
    }
   ],
   "source": [
    "df_spotify.info()"
   ]
  },
  {
   "cell_type": "markdown",
   "id": "meaningful-coordinate",
   "metadata": {},
   "source": [
    "# "
   ]
  },
  {
   "cell_type": "markdown",
   "id": "potential-reynolds",
   "metadata": {},
   "source": [
    "#### Estadísticas descriptivas del DF "
   ]
  },
  {
   "cell_type": "code",
   "execution_count": 6,
   "id": "circular-glance",
   "metadata": {},
   "outputs": [
    {
     "data": {
      "text/html": [
       "<div>\n",
       "<style scoped>\n",
       "    .dataframe tbody tr th:only-of-type {\n",
       "        vertical-align: middle;\n",
       "    }\n",
       "\n",
       "    .dataframe tbody tr th {\n",
       "        vertical-align: top;\n",
       "    }\n",
       "\n",
       "    .dataframe thead th {\n",
       "        text-align: right;\n",
       "    }\n",
       "</style>\n",
       "<table border=\"1\" class=\"dataframe\">\n",
       "  <thead>\n",
       "    <tr style=\"text-align: right;\">\n",
       "      <th></th>\n",
       "      <th>count</th>\n",
       "      <th>mean</th>\n",
       "      <th>std</th>\n",
       "      <th>min</th>\n",
       "      <th>25%</th>\n",
       "      <th>50%</th>\n",
       "      <th>75%</th>\n",
       "      <th>max</th>\n",
       "    </tr>\n",
       "  </thead>\n",
       "  <tbody>\n",
       "    <tr>\n",
       "      <th>danceability</th>\n",
       "      <td>6398.0</td>\n",
       "      <td>0.568163</td>\n",
       "      <td>0.191103</td>\n",
       "      <td>0.062200</td>\n",
       "      <td>0.447000</td>\n",
       "      <td>0.588000</td>\n",
       "      <td>0.710000</td>\n",
       "      <td>9.810000e-01</td>\n",
       "    </tr>\n",
       "    <tr>\n",
       "      <th>energy</th>\n",
       "      <td>6398.0</td>\n",
       "      <td>0.667756</td>\n",
       "      <td>0.240721</td>\n",
       "      <td>0.000251</td>\n",
       "      <td>0.533000</td>\n",
       "      <td>0.712500</td>\n",
       "      <td>0.857000</td>\n",
       "      <td>9.990000e-01</td>\n",
       "    </tr>\n",
       "    <tr>\n",
       "      <th>key</th>\n",
       "      <td>6398.0</td>\n",
       "      <td>5.283526</td>\n",
       "      <td>3.606216</td>\n",
       "      <td>0.000000</td>\n",
       "      <td>2.000000</td>\n",
       "      <td>5.000000</td>\n",
       "      <td>8.000000</td>\n",
       "      <td>1.100000e+01</td>\n",
       "    </tr>\n",
       "    <tr>\n",
       "      <th>loudness</th>\n",
       "      <td>6398.0</td>\n",
       "      <td>-7.589796</td>\n",
       "      <td>5.234592</td>\n",
       "      <td>-46.655000</td>\n",
       "      <td>-8.425000</td>\n",
       "      <td>-6.096500</td>\n",
       "      <td>-4.601250</td>\n",
       "      <td>-1.490000e-01</td>\n",
       "    </tr>\n",
       "    <tr>\n",
       "      <th>mode</th>\n",
       "      <td>6398.0</td>\n",
       "      <td>0.645514</td>\n",
       "      <td>0.478395</td>\n",
       "      <td>0.000000</td>\n",
       "      <td>0.000000</td>\n",
       "      <td>1.000000</td>\n",
       "      <td>1.000000</td>\n",
       "      <td>1.000000e+00</td>\n",
       "    </tr>\n",
       "    <tr>\n",
       "      <th>speechiness</th>\n",
       "      <td>6398.0</td>\n",
       "      <td>0.098018</td>\n",
       "      <td>0.097224</td>\n",
       "      <td>0.022500</td>\n",
       "      <td>0.038825</td>\n",
       "      <td>0.057200</td>\n",
       "      <td>0.112000</td>\n",
       "      <td>9.560000e-01</td>\n",
       "    </tr>\n",
       "    <tr>\n",
       "      <th>acousticness</th>\n",
       "      <td>6398.0</td>\n",
       "      <td>0.216928</td>\n",
       "      <td>0.296835</td>\n",
       "      <td>0.000000</td>\n",
       "      <td>0.008533</td>\n",
       "      <td>0.067050</td>\n",
       "      <td>0.311000</td>\n",
       "      <td>9.960000e-01</td>\n",
       "    </tr>\n",
       "    <tr>\n",
       "      <th>instrumentalness</th>\n",
       "      <td>6398.0</td>\n",
       "      <td>0.165293</td>\n",
       "      <td>0.318736</td>\n",
       "      <td>0.000000</td>\n",
       "      <td>0.000000</td>\n",
       "      <td>0.000017</td>\n",
       "      <td>0.057650</td>\n",
       "      <td>9.950000e-01</td>\n",
       "    </tr>\n",
       "    <tr>\n",
       "      <th>liveness</th>\n",
       "      <td>6398.0</td>\n",
       "      <td>0.196700</td>\n",
       "      <td>0.166148</td>\n",
       "      <td>0.016700</td>\n",
       "      <td>0.096800</td>\n",
       "      <td>0.126000</td>\n",
       "      <td>0.249000</td>\n",
       "      <td>9.820000e-01</td>\n",
       "    </tr>\n",
       "    <tr>\n",
       "      <th>valence</th>\n",
       "      <td>6398.0</td>\n",
       "      <td>0.443734</td>\n",
       "      <td>0.245776</td>\n",
       "      <td>0.000000</td>\n",
       "      <td>0.240000</td>\n",
       "      <td>0.434000</td>\n",
       "      <td>0.628000</td>\n",
       "      <td>9.760000e-01</td>\n",
       "    </tr>\n",
       "    <tr>\n",
       "      <th>tempo</th>\n",
       "      <td>6398.0</td>\n",
       "      <td>122.353871</td>\n",
       "      <td>29.847389</td>\n",
       "      <td>39.369000</td>\n",
       "      <td>98.091250</td>\n",
       "      <td>121.070000</td>\n",
       "      <td>141.085000</td>\n",
       "      <td>2.109770e+02</td>\n",
       "    </tr>\n",
       "    <tr>\n",
       "      <th>duration_ms</th>\n",
       "      <td>6398.0</td>\n",
       "      <td>236704.210378</td>\n",
       "      <td>85636.984343</td>\n",
       "      <td>29853.000000</td>\n",
       "      <td>193206.750000</td>\n",
       "      <td>221246.500000</td>\n",
       "      <td>259316.500000</td>\n",
       "      <td>1.734201e+06</td>\n",
       "    </tr>\n",
       "    <tr>\n",
       "      <th>time_signature</th>\n",
       "      <td>6398.0</td>\n",
       "      <td>3.930916</td>\n",
       "      <td>0.377469</td>\n",
       "      <td>0.000000</td>\n",
       "      <td>4.000000</td>\n",
       "      <td>4.000000</td>\n",
       "      <td>4.000000</td>\n",
       "      <td>5.000000e+00</td>\n",
       "    </tr>\n",
       "    <tr>\n",
       "      <th>chorus_hit</th>\n",
       "      <td>6398.0</td>\n",
       "      <td>41.028399</td>\n",
       "      <td>19.568827</td>\n",
       "      <td>0.000000</td>\n",
       "      <td>28.059135</td>\n",
       "      <td>36.265365</td>\n",
       "      <td>48.292538</td>\n",
       "      <td>2.131550e+02</td>\n",
       "    </tr>\n",
       "    <tr>\n",
       "      <th>sections</th>\n",
       "      <td>6398.0</td>\n",
       "      <td>10.316505</td>\n",
       "      <td>3.776011</td>\n",
       "      <td>2.000000</td>\n",
       "      <td>8.000000</td>\n",
       "      <td>10.000000</td>\n",
       "      <td>12.000000</td>\n",
       "      <td>8.800000e+01</td>\n",
       "    </tr>\n",
       "    <tr>\n",
       "      <th>target</th>\n",
       "      <td>6398.0</td>\n",
       "      <td>0.500000</td>\n",
       "      <td>0.500039</td>\n",
       "      <td>0.000000</td>\n",
       "      <td>0.000000</td>\n",
       "      <td>0.500000</td>\n",
       "      <td>1.000000</td>\n",
       "      <td>1.000000e+00</td>\n",
       "    </tr>\n",
       "  </tbody>\n",
       "</table>\n",
       "</div>"
      ],
      "text/plain": [
       "                   count           mean           std           min  \\\n",
       "danceability      6398.0       0.568163      0.191103      0.062200   \n",
       "energy            6398.0       0.667756      0.240721      0.000251   \n",
       "key               6398.0       5.283526      3.606216      0.000000   \n",
       "loudness          6398.0      -7.589796      5.234592    -46.655000   \n",
       "mode              6398.0       0.645514      0.478395      0.000000   \n",
       "speechiness       6398.0       0.098018      0.097224      0.022500   \n",
       "acousticness      6398.0       0.216928      0.296835      0.000000   \n",
       "instrumentalness  6398.0       0.165293      0.318736      0.000000   \n",
       "liveness          6398.0       0.196700      0.166148      0.016700   \n",
       "valence           6398.0       0.443734      0.245776      0.000000   \n",
       "tempo             6398.0     122.353871     29.847389     39.369000   \n",
       "duration_ms       6398.0  236704.210378  85636.984343  29853.000000   \n",
       "time_signature    6398.0       3.930916      0.377469      0.000000   \n",
       "chorus_hit        6398.0      41.028399     19.568827      0.000000   \n",
       "sections          6398.0      10.316505      3.776011      2.000000   \n",
       "target            6398.0       0.500000      0.500039      0.000000   \n",
       "\n",
       "                            25%            50%            75%           max  \n",
       "danceability           0.447000       0.588000       0.710000  9.810000e-01  \n",
       "energy                 0.533000       0.712500       0.857000  9.990000e-01  \n",
       "key                    2.000000       5.000000       8.000000  1.100000e+01  \n",
       "loudness              -8.425000      -6.096500      -4.601250 -1.490000e-01  \n",
       "mode                   0.000000       1.000000       1.000000  1.000000e+00  \n",
       "speechiness            0.038825       0.057200       0.112000  9.560000e-01  \n",
       "acousticness           0.008533       0.067050       0.311000  9.960000e-01  \n",
       "instrumentalness       0.000000       0.000017       0.057650  9.950000e-01  \n",
       "liveness               0.096800       0.126000       0.249000  9.820000e-01  \n",
       "valence                0.240000       0.434000       0.628000  9.760000e-01  \n",
       "tempo                 98.091250     121.070000     141.085000  2.109770e+02  \n",
       "duration_ms       193206.750000  221246.500000  259316.500000  1.734201e+06  \n",
       "time_signature         4.000000       4.000000       4.000000  5.000000e+00  \n",
       "chorus_hit            28.059135      36.265365      48.292538  2.131550e+02  \n",
       "sections               8.000000      10.000000      12.000000  8.800000e+01  \n",
       "target                 0.000000       0.500000       1.000000  1.000000e+00  "
      ]
     },
     "execution_count": 6,
     "metadata": {},
     "output_type": "execute_result"
    }
   ],
   "source": [
    "df_spotify.describe().T"
   ]
  },
  {
   "cell_type": "markdown",
   "id": "alpine-buyer",
   "metadata": {},
   "source": [
    "# "
   ]
  },
  {
   "cell_type": "markdown",
   "id": "employed-yacht",
   "metadata": {},
   "source": [
    "#### Análisis de nulos "
   ]
  },
  {
   "cell_type": "code",
   "execution_count": 7,
   "id": "every-warner",
   "metadata": {},
   "outputs": [
    {
     "data": {
      "text/plain": [
       "track               0\n",
       "artist              0\n",
       "uri                 0\n",
       "danceability        0\n",
       "energy              0\n",
       "key                 0\n",
       "loudness            0\n",
       "mode                0\n",
       "speechiness         0\n",
       "acousticness        0\n",
       "instrumentalness    0\n",
       "liveness            0\n",
       "valence             0\n",
       "tempo               0\n",
       "duration_ms         0\n",
       "time_signature      0\n",
       "chorus_hit          0\n",
       "sections            0\n",
       "target              0\n",
       "dtype: int64"
      ]
     },
     "execution_count": 7,
     "metadata": {},
     "output_type": "execute_result"
    }
   ],
   "source": [
    "df_spotify.isna().sum()"
   ]
  },
  {
   "cell_type": "markdown",
   "id": "indirect-adobe",
   "metadata": {},
   "source": [
    "Vemos que no tenemos nulos"
   ]
  },
  {
   "cell_type": "markdown",
   "id": "heard-employment",
   "metadata": {},
   "source": [
    "# "
   ]
  },
  {
   "cell_type": "markdown",
   "id": "forced-marks",
   "metadata": {},
   "source": [
    "#### Tipos de datos de las columnas"
   ]
  },
  {
   "cell_type": "code",
   "execution_count": 8,
   "id": "historic-confidence",
   "metadata": {},
   "outputs": [
    {
     "data": {
      "text/plain": [
       "track                object\n",
       "artist               object\n",
       "uri                  object\n",
       "danceability        float64\n",
       "energy              float64\n",
       "key                   int64\n",
       "loudness            float64\n",
       "mode                  int64\n",
       "speechiness         float64\n",
       "acousticness        float64\n",
       "instrumentalness    float64\n",
       "liveness            float64\n",
       "valence             float64\n",
       "tempo               float64\n",
       "duration_ms           int64\n",
       "time_signature        int64\n",
       "chorus_hit          float64\n",
       "sections              int64\n",
       "target                int64\n",
       "dtype: object"
      ]
     },
     "execution_count": 8,
     "metadata": {},
     "output_type": "execute_result"
    }
   ],
   "source": [
    "df_spotify.dtypes"
   ]
  },
  {
   "cell_type": "markdown",
   "id": "english-internship",
   "metadata": {},
   "source": [
    "# "
   ]
  },
  {
   "cell_type": "markdown",
   "id": "enabling-telephone",
   "metadata": {},
   "source": [
    "#### Columnas disponibles"
   ]
  },
  {
   "cell_type": "code",
   "execution_count": 9,
   "id": "cardiac-fiber",
   "metadata": {},
   "outputs": [
    {
     "data": {
      "text/plain": [
       "Index(['track', 'artist', 'uri', 'danceability', 'energy', 'key', 'loudness',\n",
       "       'mode', 'speechiness', 'acousticness', 'instrumentalness', 'liveness',\n",
       "       'valence', 'tempo', 'duration_ms', 'time_signature', 'chorus_hit',\n",
       "       'sections', 'target'],\n",
       "      dtype='object')"
      ]
     },
     "execution_count": 9,
     "metadata": {},
     "output_type": "execute_result"
    }
   ],
   "source": [
    "df_spotify.columns"
   ]
  },
  {
   "cell_type": "markdown",
   "id": "compressed-enlargement",
   "metadata": {},
   "source": [
    "# "
   ]
  },
  {
   "cell_type": "markdown",
   "id": "greatest-charleston",
   "metadata": {},
   "source": [
    "#### Recordemos las variables y su descripción"
   ]
  },
  {
   "cell_type": "markdown",
   "id": "noted-daily",
   "metadata": {},
   "source": [
    "- track: Nombre de la canción.\n",
    "\n",
    "\n",
    "- artist: Nombre del artista.\n",
    "\n",
    "\n",
    "- uri: Identificador del recurso de la canción.\n",
    "\n",
    "\n",
    "- danceability: Capacidad de baile. Describe qué tan adecuada es una pista para bailar en función de una combinación de elementos musicales que incluyen el tempo, la estabilidad del ritmo, la fuerza del ritmo y la regularidad general. Un valor de 0.0 es menos bailable y 1.0 es más bailable\n",
    "\n",
    "\n",
    "- energy: la energía es una medida de 0.0 a 1.0 y representa una medida perceptiva de intensidad y actividad. Por lo general, las pistas enérgicas se sienten rápidas, altas y ruidosas. Por ejemplo, el death metal tiene mucha energía, mientras que un preludio de Bach tiene una puntuación baja en la escala. Las características de percepción que contribuyen a este atributo incluyen rango dinámico, volumen percibido, timbre, frecuencia de inicio y entropía general.\n",
    "\n",
    "\n",
    "- key: Clave general estimada de la pista. Los enteros se asignan a los tonos utilizando la notación estándar de clase de tono. P.ej. 0 = C, 1 = C?/D?, 2 = D, y así sucesivamente. Si no se detectó ninguna clave, el valor es -1.\n",
    "\n",
    "\n",
    "- loudness: Volumen general de una pista en decibelios (dB). Los valores de sonoridad se promedian en toda la pista y son útiles para comparar la sonoridad relativa de las pistas. La sonoridad es la cualidad de un sonido que es el principal correlato psicológico de la fuerza física (amplitud). Los valores típicos oscilan entre -60 y 0 db.\n",
    "\n",
    "\n",
    "- mode: Indica la modalidad (mayor o menor) de una pista, el tipo de escala de la que se deriva su contenido melódico. Mayor está representado por 1 y menor es 0.\n",
    "\n",
    "\n",
    "- speechiness: El habla detecta la presencia de palabras habladas en una pista. Cuanto más exclusivamente parecida a un discurso sea la grabación (por ejemplo, programa de entrevistas, audiolibro, poesía), más cercano a 1.0 será el valor del atributo. Los valores superiores a 0,66 describen pistas que probablemente estén compuestas en su totalidad por palabras habladas. Los valores entre 0,33 y 0,66 describen pistas que pueden contener tanto música como habla, ya sea en secciones o en capas, incluidos casos como la música rap. Los valores por debajo de 0,33 probablemente representen música y otras pistas que no se parecen al habla.\n",
    "\n",
    "\n",
    "- acousticness: Medida de confianza de 0.0 a 1.0 de si la pista es acústica. 1.0 representa una alta confianza en que la pista es acústica.\n",
    "\n",
    "\n",
    "- instrumentalness: Predice si una pista no contiene voces. Los sonidos “Ooh” y “aah” se tratan como instrumentales en este contexto. Las pistas de rap o de palabra hablada son claramente \"vocales\". Cuanto más cercano esté el valor de instrumentalidad a 1.0, mayor será la probabilidad de que la pista no contenga contenido vocal. Los valores superiores a 0,5 están destinados a representar pistas instrumentales, pero la confianza es mayor a medida que el valor se acerca a 1,0. \n",
    "\n",
    "\n",
    "- liveness: Detecta la presencia de una audiencia en la grabación. Los valores de liveness más altos representan una mayor probabilidad de que la pista se haya interpretado en vivo. Un valor superior a 0,8 proporciona una gran probabilidad de que la pista esté \"en vivo\".\n",
    "\n",
    "\n",
    "- valence: Una medida de 0.0 a 1.0 que describe la positividad musical que transmite una pista. Las pistas con valencia alta suenan más positivas (p. Ej., Feliz, alegre, eufórico), mientras que las pistas con valencia baja suenan más negativas (p. Ej., Triste, deprimido, enojado).\n",
    "\n",
    "\n",
    "- tempo: El tempo global estimado de una pista en tiempos por minuto (BPM). En terminología musical, el tempo es la velocidad o el ritmo de una pieza determinada y se deriva directamente de la duración media del tiempo.\n",
    "\n",
    "\n",
    "- duration_ms: Duración de la pista en milisegundos.\n",
    "\n",
    "\n",
    "- time_signature: Una signatura de tiempo total estimada de una pista. Convención de notación para especificar cuántos tiempos hay en cada compás.\n",
    "\n",
    "\n",
    "- chorus_hit: Esta es la mejor estimación del autor de cuándo comenzaría el coro para la pista. Es la marca de tiempo del inicio de la tercera sección de la pista. Esta función se extrajo de los datos recibidos por la llamada API para el análisis de audio de esa pista en particular.\n",
    "\n",
    "\n",
    "- sections: El número de secciones que tiene la pista en particular. Esta función se extrajo de los datos recibidos por la llamada a la API para el análisis de audio de esa pista en particular.\n",
    "\n",
    "\n",
    "- target: La variable objetivo de la pista. Puede ser '0' o '1'. '1' implica que esta canción ha aparecido en la lista semanal (emitida por Billboards) de pistas Hot-100 en esa década al menos una vez y, por lo tanto, es un 'Hit'. '0' Implica que la pista no es un 'Hit' ('Flop').\n",
    "    La condición del autor para que una pista sea 'flop' es la siguiente:\n",
    "\n",
    "        - La pista no debe aparecer en la lista de 'hits' de esa década.\n",
    "        - El artista de la pista no debe aparecer en la lista de 'hits' de esa década.\n",
    "        - La pista debe pertenecer a un género que pueda considerarse no mainstream y/o vanguardista.\n",
    "        - El género de la pista no debe tener una canción en la lista de \"hits\".\n",
    "        - La pista debe tener 'US' como uno de sus mercados   "
   ]
  },
  {
   "cell_type": "markdown",
   "id": "cutting-living",
   "metadata": {},
   "source": [
    "# "
   ]
  },
  {
   "cell_type": "markdown",
   "id": "given-marsh",
   "metadata": {},
   "source": [
    "#### Análisis variable track"
   ]
  },
  {
   "cell_type": "markdown",
   "id": "marine-throw",
   "metadata": {},
   "source": [
    "Sabemos que son los nombres de las canciones. Tendremos valores repetidos?"
   ]
  },
  {
   "cell_type": "code",
   "execution_count": 10,
   "id": "proof-asbestos",
   "metadata": {
    "scrolled": true
   },
   "outputs": [
    {
     "data": {
      "text/plain": [
       "432"
      ]
     },
     "execution_count": 10,
     "metadata": {},
     "output_type": "execute_result"
    }
   ],
   "source": [
    "df_spotify['track'].duplicated().sum()"
   ]
  },
  {
   "cell_type": "markdown",
   "id": "piano-bride",
   "metadata": {},
   "source": [
    "Vemos que tenemos nombres de canciones repetidos. \n",
    "\n",
    "Puede ser que sea la misma canción, pero de 2 artistas diferentes. O también podría ser que efectivamente sea un registro duplicado.\n",
    "\n",
    "Guardemos estos nombres repetidos porque podemos llegar a tener que considerarlos en un futuro"
   ]
  },
  {
   "cell_type": "code",
   "execution_count": 11,
   "id": "secondary-settle",
   "metadata": {
    "scrolled": true
   },
   "outputs": [
    {
     "data": {
      "text/plain": [
       "array(['Bad Liar', 'A Blacksmith for the Souls of Metal', 'Everyday',\n",
       "       'Hello', 'Stay', 'Let Us Fly', 'This Beat', 'Shots', 'Secrets',\n",
       "       'Chebika - Claudio Mate Metal Remix',\n",
       "       'Metal Gods - Live from Battle Cry', 'Cheap Thrills',\n",
       "       'Le Bien, Le Mal', 'Deja Vu', 'Lose My Mind', 'Clear the Mind',\n",
       "       'Heart Attack', 'Good Feeling', 'Animal', 'Billionaire', 'Falling',\n",
       "       'Hold My Hand', 'Spiegel im Spiegel', 'Howl In the Sky', 'Money',\n",
       "       'Worth It', 'Adore', 'I Like It', 'I Love It', \"Loungin'\",\n",
       "       'Love Someone', 'We Found Love', 'Body', 'She Knows',\n",
       "       'Crooked Smile', 'I Need Your Love', 'Baby', 'Sleigh Ride',\n",
       "       'Live In Love', 'Cadaverous Carnival', 'Sing', 'Metal Drums',\n",
       "       'Full Metal Jacket', \"Don't\", 'Feeling Punk - Asle Remix', 'Trip',\n",
       "       'Over', 'Home', 'No Promises', 'Without You',\n",
       "       'Until the Day I Die', 'Gold', 'Pitiful',\n",
       "       'Metal Drums (Regis remix)', 'Let It Go', 'Radioactive',\n",
       "       'Photograph', 'Mirrors', 'Alone', 'Dream a Little Dream of Me',\n",
       "       'In Death', 'Ocean', 'Earth Beats', 'Let Me Go', 'Light It Up',\n",
       "       'Numb', 'Booty', 'Somebody', 'Into the Night', 'Burn', 'Hate Me',\n",
       "       'The Weekend', 'Sorry', 'Bottoms Up', 'Good Life',\n",
       "       'We No Speak Americano', 'Meathead', 'Already Gone', 'Runaway',\n",
       "       'Somebody That I Used To Know', 'Heavy Metal',\n",
       "       'La Voix Du Corps - Deep Beats Mix', 'Chandelier',\n",
       "       'French Ouverture, BWV 831', 'Lights', '1,000 Eyes', 'X',\n",
       "       'I Got You', 'Empire State Of Mind', \"The Devil's Son\", 'Youth',\n",
       "       'Fly Away', 'Somebody To Love', 'Metal Is the Way', 'Ride',\n",
       "       'Rock & Roll', 'Alive', 'Magic', 'Pray For Me', 'Beautiful People',\n",
       "       \"Don't Stop The Party\", 'Risky', 'Perfect', 'Need You Now',\n",
       "       \"I Don't Dance\", \"She's a Carioca (Remastered)\",\n",
       "       'For The First Time', 'Earth', 'The Wicked Sun', 'Downtown',\n",
       "       'Bendicion', \"Rockin' Back Inside My Heart\", 'Make It Rain',\n",
       "       'Confused Mind', 'Smile', 'Young Love', 'Memories',\n",
       "       'Every Little Thing', 'Heartbeat', 'Sorry Not Sorry',\n",
       "       'The Haunting - Live @ Paramount Theatre, Huntington, New York',\n",
       "       'Promises', 'One', 'First Day Out', '667', 'Intro', 'Team',\n",
       "       'This Feeling', 'Fall', 'Juice', 'Snowbound For Christmas',\n",
       "       'Coming Home', \"I'm Five Years Ahead of My Time\", 'Again',\n",
       "       'After the Storm', 'Lose It', 'Zombie', 'Body Language', 'Monster',\n",
       "       'Liquor', 'No Limit', 'Heathens', 'Best Friend', 'Nightmare',\n",
       "       'Dead Seas', 'River', \"Hold On, We're Going Home\", 'Changes',\n",
       "       'Sweetest Girl', 'Easy', 'Lush Life', 'Bittersweet',\n",
       "       'One Armed Man (Play On)', 'I Feel Alive', 'Black Light',\n",
       "       'House of Doom', 'Wake Up', 'Doom', 'Hardcore', 'Selfish',\n",
       "       'Gun In Hand', 'No Love', 'Nephilim Grove', 'Confident', 'R.I.P.',\n",
       "       'Funk-O-Holic', 'Say Something',\n",
       "       'Feeling Punk - Roy Mclaren Remake', 'Pray', 'Higher',\n",
       "       'Rolling In The Deep', 'Tucked Away', 'Fade Away', 'Down', 'Mercy',\n",
       "       'Levels', 'Atonal Jazz', 'Philly - Dub', 'Human', 'Replay',\n",
       "       'Drifting', 'Little Lion Man', 'Closer', 'Try Me', 'Solo',\n",
       "       'Girl Like You', \"How Far I'll Go\", 'Fuck the System', 'Attention',\n",
       "       'My Oh My', 'The Pure and the Damned', 'Solitude', 'Hurricane',\n",
       "       'Friends', 'Bad Romance', 'Why', 'Paranoid', 'Rock Bottom',\n",
       "       \"They Don't Know\", 'Oye Mujer', 'Fine China',\n",
       "       'Hey Yo Check It Out - Slowpop Mix', 'Singer-Songwriter',\n",
       "       'Sympathy for the Devil', 'Fire Away', 'The Fighter', 'Loyal',\n",
       "       'Boyfriend', 'Look Alive', 'Metal', 'T-Shirt', 'Silence',\n",
       "       'Born to Play Metal', 'This Beat - Original Mix', 'Bonfire',\n",
       "       'Shape Of You', 'Infant Eyes', 'Say Aah', 'You', 'Try', 'Paradise',\n",
       "       'The Impression That I Get', 'Firework', 'I Do', 'I Hit It First',\n",
       "       'Tomorrow', 'From the Flames', 'Superheroes', 'Fancy',\n",
       "       'Best Love Song', 'Lay Me Down', 'Echoes of Death', 'Fly',\n",
       "       'Killed to Death', 'Death Was Arrested', 'Hallelujah', 'Fake Love',\n",
       "       'Take Me Home', 'Candy', 'See You Again', 'Sexy And I Know It',\n",
       "       'Rub Anotha Dub', 'Marry Me', 'Static', 'Sugar',\n",
       "       'All Pride No Pain', 'Right There', 'Black Hole Metal', 'Promise',\n",
       "       'Turritopsis Dohrnii', 'Face Deletion', 'Shockwave',\n",
       "       'The Piano : The Heart Asks Pleasure First', 'Hopeful Shivering',\n",
       "       'Blank Space', 'Rock Me Amadeus', 'Unforgettable', 'The Race',\n",
       "       'Faded', 'Wasted', 'Chromatic Fantasy & Fugue, BWV 903',\n",
       "       \"I Won't Give Up\", 'Barbed Wire Metal', 'Motivation', 'Dope',\n",
       "       'Bloom', 'La voix du corps - Deep Beats Mix',\n",
       "       'When I Was Your Man', 'Hope', 'Confound Games', 'Honest',\n",
       "       'Immortal', 'OTW', 'Heartless', 'For You',\n",
       "       \"Feeling Punk - Tee's Original Mix\", 'Animals', 'Adore You',\n",
       "       'Only', 'Beautiful', 'The Falsifier', 'Roses', 'We Are Young',\n",
       "       'Black Metal', 'Telephone', 'Instrumental Music for Dogs', 'Kiss',\n",
       "       'The One That Got Away', 'Criminal', 'Shake It Out', 'Far Away',\n",
       "       'Legends', 'House Party', 'Pretty Girls', 'Is Your Kettle On?',\n",
       "       'Little Drummer Boy', 'Kyoto', 'Beyond', 'Good Girl', 'Amen',\n",
       "       'Frontbeast', 'Eclipse', 'Gangsta', 'My Way',\n",
       "       'Crazy Legs/Rock Steady (Interlude)', \"Don't Stop\", 'Water',\n",
       "       'Famous', 'Bulletproof', 'Beast', 'Otis', 'Back To You',\n",
       "       'Goodnight Baby', 'Get Low', 'Love Me', 'Work', 'The Way', 'Focus',\n",
       "       'Hey Deannie', 'Conqueror', 'Bhare Bazaar',\n",
       "       'A Heap of Broken Images', 'My Money', 'Mine', 'Metal Tribes',\n",
       "       'Last Christmas', 'Teenage Dream', 'Dust'], dtype=object)"
      ]
     },
     "execution_count": 11,
     "metadata": {},
     "output_type": "execute_result"
    }
   ],
   "source": [
    "tracks_repetidos = df_spotify[df_spotify['track'].duplicated()]['track'].unique()\n",
    "\n",
    "tracks_repetidos"
   ]
  },
  {
   "cell_type": "markdown",
   "id": "noted-vancouver",
   "metadata": {},
   "source": [
    "# "
   ]
  },
  {
   "cell_type": "markdown",
   "id": "friendly-syria",
   "metadata": {},
   "source": [
    "#### Análisis variable artist"
   ]
  },
  {
   "cell_type": "markdown",
   "id": "norman-treasurer",
   "metadata": {},
   "source": [
    "Sabemos que son los nombres de los artistas. Veamos el top 10 de los artistas con más canciones"
   ]
  },
  {
   "cell_type": "code",
   "execution_count": 12,
   "id": "supreme-traveler",
   "metadata": {},
   "outputs": [
    {
     "data": {
      "text/html": [
       "<div>\n",
       "<style scoped>\n",
       "    .dataframe tbody tr th:only-of-type {\n",
       "        vertical-align: middle;\n",
       "    }\n",
       "\n",
       "    .dataframe tbody tr th {\n",
       "        vertical-align: top;\n",
       "    }\n",
       "\n",
       "    .dataframe thead th {\n",
       "        text-align: right;\n",
       "    }\n",
       "</style>\n",
       "<table border=\"1\" class=\"dataframe\">\n",
       "  <thead>\n",
       "    <tr style=\"text-align: right;\">\n",
       "      <th></th>\n",
       "      <th>artist</th>\n",
       "      <th>tracks_count</th>\n",
       "    </tr>\n",
       "  </thead>\n",
       "  <tbody>\n",
       "    <tr>\n",
       "      <th>846</th>\n",
       "      <td>Drake</td>\n",
       "      <td>50</td>\n",
       "    </tr>\n",
       "    <tr>\n",
       "      <th>1153</th>\n",
       "      <td>Glee Cast</td>\n",
       "      <td>41</td>\n",
       "    </tr>\n",
       "    <tr>\n",
       "      <th>2819</th>\n",
       "      <td>Taylor Swift</td>\n",
       "      <td>35</td>\n",
       "    </tr>\n",
       "    <tr>\n",
       "      <th>1863</th>\n",
       "      <td>Luke Bryan</td>\n",
       "      <td>25</td>\n",
       "    </tr>\n",
       "    <tr>\n",
       "      <th>1454</th>\n",
       "      <td>Johann Sebastian Bach</td>\n",
       "      <td>25</td>\n",
       "    </tr>\n",
       "    <tr>\n",
       "      <th>2965</th>\n",
       "      <td>The Weeknd</td>\n",
       "      <td>24</td>\n",
       "    </tr>\n",
       "    <tr>\n",
       "      <th>2371</th>\n",
       "      <td>Post Malone</td>\n",
       "      <td>23</td>\n",
       "    </tr>\n",
       "    <tr>\n",
       "      <th>1264</th>\n",
       "      <td>Hiphop Tamizha</td>\n",
       "      <td>23</td>\n",
       "    </tr>\n",
       "    <tr>\n",
       "      <th>118</th>\n",
       "      <td>Alexandre Desplat</td>\n",
       "      <td>22</td>\n",
       "    </tr>\n",
       "    <tr>\n",
       "      <th>1379</th>\n",
       "      <td>Jason Aldean</td>\n",
       "      <td>22</td>\n",
       "    </tr>\n",
       "  </tbody>\n",
       "</table>\n",
       "</div>"
      ],
      "text/plain": [
       "                     artist  tracks_count\n",
       "846                   Drake            50\n",
       "1153              Glee Cast            41\n",
       "2819           Taylor Swift            35\n",
       "1863             Luke Bryan            25\n",
       "1454  Johann Sebastian Bach            25\n",
       "2965             The Weeknd            24\n",
       "2371            Post Malone            23\n",
       "1264         Hiphop Tamizha            23\n",
       "118       Alexandre Desplat            22\n",
       "1379           Jason Aldean            22"
      ]
     },
     "execution_count": 12,
     "metadata": {},
     "output_type": "execute_result"
    }
   ],
   "source": [
    "df_cantidad_de_canciones_por_artistas = df_spotify[['track','artist']].groupby('artist').count().reset_index()\n",
    "\n",
    "df_cantidad_de_canciones_por_artistas = df_cantidad_de_canciones_por_artistas.sort_values('track', ascending=False)\n",
    "\n",
    "df_cantidad_de_canciones_por_artistas.rename(columns={'track':'tracks_count'}, inplace=True)\n",
    "\n",
    "df_cantidad_de_canciones_por_artistas.head(10)"
   ]
  },
  {
   "cell_type": "markdown",
   "id": "tender-configuration",
   "metadata": {},
   "source": [
    "# "
   ]
  },
  {
   "cell_type": "markdown",
   "id": "legislative-entry",
   "metadata": {},
   "source": [
    "#### Análisis variable uri"
   ]
  },
  {
   "cell_type": "markdown",
   "id": "genetic-renewal",
   "metadata": {},
   "source": [
    "uri es el identificador del recurso de la canción. No hay análisis para aplicar sobre esta variable. Al menos asegurémosnos que son uris únicas y no hay repetidos"
   ]
  },
  {
   "cell_type": "code",
   "execution_count": 13,
   "id": "understood-excuse",
   "metadata": {},
   "outputs": [
    {
     "data": {
      "text/plain": [
       "20"
      ]
     },
     "execution_count": 13,
     "metadata": {},
     "output_type": "execute_result"
    }
   ],
   "source": [
    "df_spotify['uri'].duplicated().sum()"
   ]
  },
  {
   "cell_type": "markdown",
   "id": "resistant-lawsuit",
   "metadata": {},
   "source": [
    "Vemos que tenemos uris repetidas. Es importante considerar esto, ya que la uri NO es un identificador único.\n",
    "\n",
    "Guardemos estas uris, y veamos algunos casos"
   ]
  },
  {
   "cell_type": "code",
   "execution_count": 14,
   "id": "loving-compilation",
   "metadata": {
    "scrolled": true
   },
   "outputs": [
    {
     "data": {
      "text/html": [
       "<div>\n",
       "<style scoped>\n",
       "    .dataframe tbody tr th:only-of-type {\n",
       "        vertical-align: middle;\n",
       "    }\n",
       "\n",
       "    .dataframe tbody tr th {\n",
       "        vertical-align: top;\n",
       "    }\n",
       "\n",
       "    .dataframe thead th {\n",
       "        text-align: right;\n",
       "    }\n",
       "</style>\n",
       "<table border=\"1\" class=\"dataframe\">\n",
       "  <thead>\n",
       "    <tr style=\"text-align: right;\">\n",
       "      <th></th>\n",
       "      <th>track</th>\n",
       "      <th>artist</th>\n",
       "      <th>uri</th>\n",
       "      <th>danceability</th>\n",
       "      <th>energy</th>\n",
       "      <th>key</th>\n",
       "      <th>loudness</th>\n",
       "      <th>mode</th>\n",
       "      <th>speechiness</th>\n",
       "      <th>acousticness</th>\n",
       "      <th>instrumentalness</th>\n",
       "      <th>liveness</th>\n",
       "      <th>valence</th>\n",
       "      <th>tempo</th>\n",
       "      <th>duration_ms</th>\n",
       "      <th>time_signature</th>\n",
       "      <th>chorus_hit</th>\n",
       "      <th>sections</th>\n",
       "      <th>target</th>\n",
       "    </tr>\n",
       "  </thead>\n",
       "  <tbody>\n",
       "    <tr>\n",
       "      <th>5813</th>\n",
       "      <td>Take Care</td>\n",
       "      <td>Drake Featuring Rihanna</td>\n",
       "      <td>spotify:track:047fCsbO4NdmwCBn8pcUXl</td>\n",
       "      <td>0.492</td>\n",
       "      <td>0.260</td>\n",
       "      <td>9</td>\n",
       "      <td>-17.341</td>\n",
       "      <td>0</td>\n",
       "      <td>0.0921</td>\n",
       "      <td>0.6460</td>\n",
       "      <td>0.001780</td>\n",
       "      <td>0.0705</td>\n",
       "      <td>0.312</td>\n",
       "      <td>111.519</td>\n",
       "      <td>347227</td>\n",
       "      <td>5</td>\n",
       "      <td>28.64767</td>\n",
       "      <td>11</td>\n",
       "      <td>1</td>\n",
       "    </tr>\n",
       "    <tr>\n",
       "      <th>2838</th>\n",
       "      <td>Marvins Room</td>\n",
       "      <td>Drake</td>\n",
       "      <td>spotify:track:047fCsbO4NdmwCBn8pcUXl</td>\n",
       "      <td>0.492</td>\n",
       "      <td>0.260</td>\n",
       "      <td>9</td>\n",
       "      <td>-17.341</td>\n",
       "      <td>0</td>\n",
       "      <td>0.0921</td>\n",
       "      <td>0.6460</td>\n",
       "      <td>0.001780</td>\n",
       "      <td>0.0705</td>\n",
       "      <td>0.312</td>\n",
       "      <td>111.519</td>\n",
       "      <td>347227</td>\n",
       "      <td>5</td>\n",
       "      <td>28.64767</td>\n",
       "      <td>11</td>\n",
       "      <td>1</td>\n",
       "    </tr>\n",
       "    <tr>\n",
       "      <th>2996</th>\n",
       "      <td>Sure Thing</td>\n",
       "      <td>Miguel</td>\n",
       "      <td>spotify:track:0JXXNGljqupsJaZsgSbMZV</td>\n",
       "      <td>0.684</td>\n",
       "      <td>0.603</td>\n",
       "      <td>11</td>\n",
       "      <td>-8.127</td>\n",
       "      <td>0</td>\n",
       "      <td>0.0989</td>\n",
       "      <td>0.0275</td>\n",
       "      <td>0.000311</td>\n",
       "      <td>0.1910</td>\n",
       "      <td>0.504</td>\n",
       "      <td>81.000</td>\n",
       "      <td>195373</td>\n",
       "      <td>4</td>\n",
       "      <td>26.39306</td>\n",
       "      <td>10</td>\n",
       "      <td>1</td>\n",
       "    </tr>\n",
       "    <tr>\n",
       "      <th>2823</th>\n",
       "      <td>All I Want Is You</td>\n",
       "      <td>Miguel Featuring J. Cole</td>\n",
       "      <td>spotify:track:0JXXNGljqupsJaZsgSbMZV</td>\n",
       "      <td>0.684</td>\n",
       "      <td>0.603</td>\n",
       "      <td>11</td>\n",
       "      <td>-8.127</td>\n",
       "      <td>0</td>\n",
       "      <td>0.0989</td>\n",
       "      <td>0.0275</td>\n",
       "      <td>0.000311</td>\n",
       "      <td>0.1910</td>\n",
       "      <td>0.504</td>\n",
       "      <td>81.000</td>\n",
       "      <td>195373</td>\n",
       "      <td>4</td>\n",
       "      <td>26.39306</td>\n",
       "      <td>10</td>\n",
       "      <td>1</td>\n",
       "    </tr>\n",
       "    <tr>\n",
       "      <th>2590</th>\n",
       "      <td>It Don't Hurt Like It Used To</td>\n",
       "      <td>Billy Currington</td>\n",
       "      <td>spotify:track:0iA1unTbTbDOWUSlbwJ1pS</td>\n",
       "      <td>0.558</td>\n",
       "      <td>0.818</td>\n",
       "      <td>8</td>\n",
       "      <td>-4.070</td>\n",
       "      <td>1</td>\n",
       "      <td>0.0403</td>\n",
       "      <td>0.0710</td>\n",
       "      <td>0.000000</td>\n",
       "      <td>0.2100</td>\n",
       "      <td>0.453</td>\n",
       "      <td>81.034</td>\n",
       "      <td>184507</td>\n",
       "      <td>4</td>\n",
       "      <td>20.25420</td>\n",
       "      <td>7</td>\n",
       "      <td>1</td>\n",
       "    </tr>\n",
       "    <tr>\n",
       "      <th>6300</th>\n",
       "      <td>Don't It</td>\n",
       "      <td>Billy Currington</td>\n",
       "      <td>spotify:track:0iA1unTbTbDOWUSlbwJ1pS</td>\n",
       "      <td>0.558</td>\n",
       "      <td>0.818</td>\n",
       "      <td>8</td>\n",
       "      <td>-4.070</td>\n",
       "      <td>1</td>\n",
       "      <td>0.0403</td>\n",
       "      <td>0.0710</td>\n",
       "      <td>0.000000</td>\n",
       "      <td>0.2100</td>\n",
       "      <td>0.453</td>\n",
       "      <td>81.034</td>\n",
       "      <td>184507</td>\n",
       "      <td>4</td>\n",
       "      <td>20.25420</td>\n",
       "      <td>7</td>\n",
       "      <td>1</td>\n",
       "    </tr>\n",
       "    <tr>\n",
       "      <th>4477</th>\n",
       "      <td>Lil Baby</td>\n",
       "      <td>Young Thug</td>\n",
       "      <td>spotify:track:1GeNui6m825V8jP4uKiIaH</td>\n",
       "      <td>0.974</td>\n",
       "      <td>0.596</td>\n",
       "      <td>6</td>\n",
       "      <td>-8.888</td>\n",
       "      <td>1</td>\n",
       "      <td>0.1840</td>\n",
       "      <td>0.0976</td>\n",
       "      <td>0.000000</td>\n",
       "      <td>0.1510</td>\n",
       "      <td>0.892</td>\n",
       "      <td>111.959</td>\n",
       "      <td>149040</td>\n",
       "      <td>4</td>\n",
       "      <td>32.73631</td>\n",
       "      <td>8</td>\n",
       "      <td>1</td>\n",
       "    </tr>\n",
       "    <tr>\n",
       "      <th>5127</th>\n",
       "      <td>Bad Bad Bad</td>\n",
       "      <td>Young Thug Featuring Lil Baby</td>\n",
       "      <td>spotify:track:1GeNui6m825V8jP4uKiIaH</td>\n",
       "      <td>0.974</td>\n",
       "      <td>0.596</td>\n",
       "      <td>6</td>\n",
       "      <td>-8.888</td>\n",
       "      <td>1</td>\n",
       "      <td>0.1840</td>\n",
       "      <td>0.0976</td>\n",
       "      <td>0.000000</td>\n",
       "      <td>0.1510</td>\n",
       "      <td>0.892</td>\n",
       "      <td>111.959</td>\n",
       "      <td>149040</td>\n",
       "      <td>4</td>\n",
       "      <td>32.73631</td>\n",
       "      <td>8</td>\n",
       "      <td>1</td>\n",
       "    </tr>\n",
       "    <tr>\n",
       "      <th>860</th>\n",
       "      <td>Circles</td>\n",
       "      <td>Post Malone</td>\n",
       "      <td>spotify:track:21jGcNKet2qwijlDFuPiPb</td>\n",
       "      <td>0.695</td>\n",
       "      <td>0.762</td>\n",
       "      <td>0</td>\n",
       "      <td>-3.497</td>\n",
       "      <td>1</td>\n",
       "      <td>0.0395</td>\n",
       "      <td>0.1920</td>\n",
       "      <td>0.002440</td>\n",
       "      <td>0.0863</td>\n",
       "      <td>0.553</td>\n",
       "      <td>120.042</td>\n",
       "      <td>215280</td>\n",
       "      <td>4</td>\n",
       "      <td>52.05235</td>\n",
       "      <td>9</td>\n",
       "      <td>1</td>\n",
       "    </tr>\n",
       "    <tr>\n",
       "      <th>4690</th>\n",
       "      <td>Hollywood's Bleeding</td>\n",
       "      <td>Post Malone</td>\n",
       "      <td>spotify:track:21jGcNKet2qwijlDFuPiPb</td>\n",
       "      <td>0.695</td>\n",
       "      <td>0.762</td>\n",
       "      <td>0</td>\n",
       "      <td>-3.497</td>\n",
       "      <td>1</td>\n",
       "      <td>0.0395</td>\n",
       "      <td>0.1920</td>\n",
       "      <td>0.002440</td>\n",
       "      <td>0.0863</td>\n",
       "      <td>0.553</td>\n",
       "      <td>120.042</td>\n",
       "      <td>215280</td>\n",
       "      <td>4</td>\n",
       "      <td>52.05235</td>\n",
       "      <td>9</td>\n",
       "      <td>1</td>\n",
       "    </tr>\n",
       "  </tbody>\n",
       "</table>\n",
       "</div>"
      ],
      "text/plain": [
       "                              track                         artist  \\\n",
       "5813                      Take Care        Drake Featuring Rihanna   \n",
       "2838                   Marvins Room                          Drake   \n",
       "2996                     Sure Thing                         Miguel   \n",
       "2823              All I Want Is You       Miguel Featuring J. Cole   \n",
       "2590  It Don't Hurt Like It Used To               Billy Currington   \n",
       "6300                       Don't It               Billy Currington   \n",
       "4477                       Lil Baby                     Young Thug   \n",
       "5127                    Bad Bad Bad  Young Thug Featuring Lil Baby   \n",
       "860                         Circles                    Post Malone   \n",
       "4690           Hollywood's Bleeding                    Post Malone   \n",
       "\n",
       "                                       uri  danceability  energy  key  \\\n",
       "5813  spotify:track:047fCsbO4NdmwCBn8pcUXl         0.492   0.260    9   \n",
       "2838  spotify:track:047fCsbO4NdmwCBn8pcUXl         0.492   0.260    9   \n",
       "2996  spotify:track:0JXXNGljqupsJaZsgSbMZV         0.684   0.603   11   \n",
       "2823  spotify:track:0JXXNGljqupsJaZsgSbMZV         0.684   0.603   11   \n",
       "2590  spotify:track:0iA1unTbTbDOWUSlbwJ1pS         0.558   0.818    8   \n",
       "6300  spotify:track:0iA1unTbTbDOWUSlbwJ1pS         0.558   0.818    8   \n",
       "4477  spotify:track:1GeNui6m825V8jP4uKiIaH         0.974   0.596    6   \n",
       "5127  spotify:track:1GeNui6m825V8jP4uKiIaH         0.974   0.596    6   \n",
       "860   spotify:track:21jGcNKet2qwijlDFuPiPb         0.695   0.762    0   \n",
       "4690  spotify:track:21jGcNKet2qwijlDFuPiPb         0.695   0.762    0   \n",
       "\n",
       "      loudness  mode  speechiness  acousticness  instrumentalness  liveness  \\\n",
       "5813   -17.341     0       0.0921        0.6460          0.001780    0.0705   \n",
       "2838   -17.341     0       0.0921        0.6460          0.001780    0.0705   \n",
       "2996    -8.127     0       0.0989        0.0275          0.000311    0.1910   \n",
       "2823    -8.127     0       0.0989        0.0275          0.000311    0.1910   \n",
       "2590    -4.070     1       0.0403        0.0710          0.000000    0.2100   \n",
       "6300    -4.070     1       0.0403        0.0710          0.000000    0.2100   \n",
       "4477    -8.888     1       0.1840        0.0976          0.000000    0.1510   \n",
       "5127    -8.888     1       0.1840        0.0976          0.000000    0.1510   \n",
       "860     -3.497     1       0.0395        0.1920          0.002440    0.0863   \n",
       "4690    -3.497     1       0.0395        0.1920          0.002440    0.0863   \n",
       "\n",
       "      valence    tempo  duration_ms  time_signature  chorus_hit  sections  \\\n",
       "5813    0.312  111.519       347227               5    28.64767        11   \n",
       "2838    0.312  111.519       347227               5    28.64767        11   \n",
       "2996    0.504   81.000       195373               4    26.39306        10   \n",
       "2823    0.504   81.000       195373               4    26.39306        10   \n",
       "2590    0.453   81.034       184507               4    20.25420         7   \n",
       "6300    0.453   81.034       184507               4    20.25420         7   \n",
       "4477    0.892  111.959       149040               4    32.73631         8   \n",
       "5127    0.892  111.959       149040               4    32.73631         8   \n",
       "860     0.553  120.042       215280               4    52.05235         9   \n",
       "4690    0.553  120.042       215280               4    52.05235         9   \n",
       "\n",
       "      target  \n",
       "5813       1  \n",
       "2838       1  \n",
       "2996       1  \n",
       "2823       1  \n",
       "2590       1  \n",
       "6300       1  \n",
       "4477       1  \n",
       "5127       1  \n",
       "860        1  \n",
       "4690       1  "
      ]
     },
     "execution_count": 14,
     "metadata": {},
     "output_type": "execute_result"
    }
   ],
   "source": [
    "uris_duplicadas = df_spotify[df_spotify['uri'].duplicated()]['uri']\n",
    "\n",
    "df_spotify[df_spotify['uri'].isin(uris_duplicadas)].sort_values('uri').head(10)"
   ]
  },
  {
   "cell_type": "markdown",
   "id": "russian-michigan",
   "metadata": {},
   "source": [
    "Vemos que las URIS duplicadas no son ni de la misma canción, ni del mismo artista. Considerar esto para a futuro decidir que hacer sobre estos casos"
   ]
  },
  {
   "cell_type": "markdown",
   "id": "assisted-brighton",
   "metadata": {},
   "source": [
    "# "
   ]
  },
  {
   "cell_type": "markdown",
   "id": "demanding-briefing",
   "metadata": {},
   "source": [
    "#### Análisis variable danceability"
   ]
  },
  {
   "cell_type": "markdown",
   "id": "excessive-johnston",
   "metadata": {},
   "source": [
    "danceability es la Capacidad de baile. \n",
    "\n",
    "Esta variable pude influir altamente en si una canción es un hit o no, por eso creemos que no va a haber muchas canciones con valores de danceability muy altos ni muy bajos."
   ]
  },
  {
   "cell_type": "code",
   "execution_count": 15,
   "id": "central-position",
   "metadata": {
    "scrolled": false
   },
   "outputs": [
    {
     "name": "stderr",
     "output_type": "stream",
     "text": [
      "c:\\users\\usuario\\appdata\\local\\programs\\python\\python37\\lib\\site-packages\\seaborn\\distributions.py:2557: FutureWarning: `distplot` is a deprecated function and will be removed in a future version. Please adapt your code to use either `displot` (a figure-level function with similar flexibility) or `histplot` (an axes-level function for histograms).\n",
      "  warnings.warn(msg, FutureWarning)\n"
     ]
    },
    {
     "data": {
      "text/plain": [
       "<AxesSubplot:xlabel='danceability', ylabel='Density'>"
      ]
     },
     "execution_count": 15,
     "metadata": {},
     "output_type": "execute_result"
    },
    {
     "data": {
      "image/png": "[encoded data removed]",
      "text/plain": [
       "<Figure size 432x288 with 1 Axes>"
      ]
     },
     "metadata": {
      "needs_background": "light"
     },
     "output_type": "display_data"
    }
   ],
   "source": [
    "sns.distplot(df_spotify['danceability'])"
   ]
  },
  {
   "cell_type": "markdown",
   "id": "ruled-upset",
   "metadata": {},
   "source": [
    "Efectivamente, vemos que no hay muchas canciones con capacidad de baile menor 0.3, ni mayor a 0.8.\n",
    "\n",
    "La capacidad de baile se concentra en torno al 0.6"
   ]
  },
  {
   "cell_type": "markdown",
   "id": "processed-location",
   "metadata": {},
   "source": [
    "# "
   ]
  },
  {
   "cell_type": "markdown",
   "id": "violent-techno",
   "metadata": {},
   "source": [
    "#### Análisis variable loudness"
   ]
  },
  {
   "cell_type": "markdown",
   "id": "tropical-denver",
   "metadata": {},
   "source": [
    "loudness es el volumen general de una pista medido en decibelios.\n",
    "\n",
    "Siendo un promedio de toda la pista, podemos utilizar el redondeo de los mismos.\n",
    "\n",
    "Sabiendo que el rango, es entre -60 y 0, calculemos el mínimo y el máximo de DeciBelios para dibujar 1 barra por DB."
   ]
  },
  {
   "cell_type": "code",
   "execution_count": 16,
   "id": "modular-scott",
   "metadata": {
    "scrolled": true
   },
   "outputs": [
    {
     "data": {
      "text/plain": [
       "<AxesSubplot:xlabel='loudness', ylabel='Count'>"
      ]
     },
     "execution_count": 16,
     "metadata": {},
     "output_type": "execute_result"
    },
    {
     "data": {
      "image/png": "[encoded data removed]",
      "text/plain": [
       "<Figure size 432x288 with 1 Axes>"
      ]
     },
     "metadata": {
      "needs_background": "light"
     },
     "output_type": "display_data"
    }
   ],
   "source": [
    "n_loudness_bins = int(abs(df_spotify['loudness'].round().min() - df_spotify['loudness'].round().max()))\n",
    "\n",
    "sns.histplot(df_spotify['loudness'].round(), kde=False, bins=n_loudness_bins)"
   ]
  },
  {
   "cell_type": "markdown",
   "id": "lined-buffer",
   "metadata": {},
   "source": [
    "Vemos que tiene una distribución asimétrica sesgada a la izquierda"
   ]
  },
  {
   "cell_type": "markdown",
   "id": "located-stupid",
   "metadata": {},
   "source": [
    "# "
   ]
  },
  {
   "cell_type": "markdown",
   "id": "seventh-study",
   "metadata": {},
   "source": [
    "#### Análisis de variable speachiness"
   ]
  },
  {
   "cell_type": "markdown",
   "id": "regional-discussion",
   "metadata": {},
   "source": [
    "speechiness detecta la presencia de palabras habladas en una pista.\n",
    "\n",
    "Sabemos por definición, que podemos dividirlo en 3 categorías:\n",
    "\n",
    " - Menor a 0.33. Representa música y pistas que no se parecen al habla como canciones, o pistas de sólo música. Esta categoría la llamaremos CANCIONES Y PISTAS.\n",
    " - Entre 0.33 y 0.66. Representan pistas con música y habla, como canciones de contenido considerable de habla/relato por ejemplo RAP o TRAP.  Esta categoría la llamaremos CANCIONES HABLADAS.\n",
    " - Mayor a 0.66. Representan pistas totalmente habladas, como por ejemplo entrevistas, audiolibros, podcasts, etc. Esta categoría la llamaremos RELATOS.\n",
    " \n",
    "Veamos la distribución de esta variable, y luego categoricémosla y analicemos las cantidades"
   ]
  },
  {
   "cell_type": "code",
   "execution_count": 17,
   "id": "happy-sheep",
   "metadata": {},
   "outputs": [
    {
     "name": "stderr",
     "output_type": "stream",
     "text": [
      "c:\\users\\usuario\\appdata\\local\\programs\\python\\python37\\lib\\site-packages\\seaborn\\distributions.py:2557: FutureWarning: `distplot` is a deprecated function and will be removed in a future version. Please adapt your code to use either `displot` (a figure-level function with similar flexibility) or `histplot` (an axes-level function for histograms).\n",
      "  warnings.warn(msg, FutureWarning)\n"
     ]
    },
    {
     "data": {
      "text/plain": [
       "<AxesSubplot:xlabel='speechiness', ylabel='Density'>"
      ]
     },
     "execution_count": 17,
     "metadata": {},
     "output_type": "execute_result"
    },
    {
     "data": {
      "image/png": "[encoded data removed]",
      "text/plain": [
       "<Figure size 432x288 with 1 Axes>"
      ]
     },
     "metadata": {
      "needs_background": "light"
     },
     "output_type": "display_data"
    }
   ],
   "source": [
    "sns.distplot(df_spotify['speechiness'])"
   ]
  },
  {
   "cell_type": "markdown",
   "id": "early-ultimate",
   "metadata": {},
   "source": [
    "Vemos que tiene una distribución asimétrica sesgada a la derecha.\n",
    "\n",
    "Esto quiere decir que tenemos muy pocas pistas que son audiolibros, poesías, relatos, entrevistas, etc., y que en su mayoría contamos con canciones, tanto sólo de música (pista) como cantadas por cantantes.\n",
    "\n",
    "Categoricemos la variable, y veamos su distribución."
   ]
  },
  {
   "cell_type": "code",
   "execution_count": 18,
   "id": "together-tribune",
   "metadata": {},
   "outputs": [],
   "source": [
    "df_spotify['categorical_speechiness'] = df_spotify['speechiness'].apply(lambda x: 'CANCIONES Y PISTAS' if x<0.33 \n",
    "                                                                        else('RELATO' if x>0.66 else 'CANCIONES HABLADAS'))"
   ]
  },
  {
   "cell_type": "code",
   "execution_count": 19,
   "id": "bound-reunion",
   "metadata": {},
   "outputs": [
    {
     "data": {
      "text/plain": [
       "[Text(0, 0, '6100'), Text(0, 0, '291'), Text(0, 0, '7')]"
      ]
     },
     "execution_count": 19,
     "metadata": {},
     "output_type": "execute_result"
    },
    {
     "data": {
      "image/png": "[encoded data removed]",
      "text/plain": [
       "<Figure size 432x288 with 1 Axes>"
      ]
     },
     "metadata": {
      "needs_background": "light"
     },
     "output_type": "display_data"
    }
   ],
   "source": [
    "x_speechiness_plot = df_spotify['categorical_speechiness'].unique()\n",
    "y_speechiness_plot = df_spotify['categorical_speechiness'].value_counts()\n",
    "indexes_speechiness_plot = np.arange(len(y_speechiness_plot))\n",
    "\n",
    "fig, ax = plt.subplots()\n",
    "ax.barh(indexes_speechiness_plot, y_speechiness_plot)\n",
    "ax.set_yticks(indexes_speechiness_plot)\n",
    "ax.set_yticklabels(x_speechiness_plot)\n",
    "\n",
    "# new helper method to auto-label bars\n",
    "ax.bar_label(ax.containers[0])\n"
   ]
  },
  {
   "cell_type": "markdown",
   "id": "unlike-brighton",
   "metadata": {},
   "source": [
    "Podemos ver que, tal como es de esperar, tenemos muchas canciones con un contenido moderado del habla. No hay tantas canciones cuasi-relatadas, y practicamente no hay canciones que sean relatos"
   ]
  },
  {
   "cell_type": "markdown",
   "id": "superior-virtue",
   "metadata": {},
   "source": [
    "# "
   ]
  },
  {
   "cell_type": "markdown",
   "id": "atmospheric-shark",
   "metadata": {},
   "source": [
    "#### Análisis de variable valence"
   ]
  },
  {
   "cell_type": "markdown",
   "id": "appreciated-credit",
   "metadata": {},
   "source": [
    "valence describe la positividad musical que transmite una pista, siendo los valores más altos canciones que suenan \"más positivas\".\n",
    "\n",
    "Es de esperar que no sea un distintivo en las canciones, por lo que los valores deberían estar, dentro de todo, distribuidos equitativamente."
   ]
  },
  {
   "cell_type": "code",
   "execution_count": 20,
   "id": "current-claim",
   "metadata": {
    "scrolled": true
   },
   "outputs": [
    {
     "data": {
      "text/plain": [
       "<AxesSubplot:xlabel='valence', ylabel='Count'>"
      ]
     },
     "execution_count": 20,
     "metadata": {},
     "output_type": "execute_result"
    },
    {
     "data": {
      "image/png": "[encoded data removed]",
      "text/plain": [
       "<Figure size 432x288 with 1 Axes>"
      ]
     },
     "metadata": {
      "needs_background": "light"
     },
     "output_type": "display_data"
    }
   ],
   "source": [
    "#Redondeemos a 2 decimales para obtener valores entre 0.00 y 1.00\n",
    "#Agrupemos de a 0.02 \n",
    "\n",
    "sns.histplot(df_spotify['valence'].round(2), bins=50)"
   ]
  },
  {
   "cell_type": "markdown",
   "id": "adaptive-police",
   "metadata": {},
   "source": [
    "Si bien tiende a tener una distribución constante, podemos ver que hay un pico en valores muy bajos de positividad musical, por lo que se puede decir que hay bastante cantidad de pistas con sentimientos como Triste, deprimido, enojado, etc."
   ]
  },
  {
   "cell_type": "markdown",
   "id": "trying-world",
   "metadata": {},
   "source": [
    "# "
   ]
  },
  {
   "cell_type": "markdown",
   "id": "frozen-staff",
   "metadata": {},
   "source": [
    "#### Análisis de variable duration_ms"
   ]
  },
  {
   "cell_type": "markdown",
   "id": "dressed-chile",
   "metadata": {},
   "source": [
    "duration_ms es la duración en milisegundos de las pistas.\n",
    "\n",
    "Se cree que una canción, para ser un hit, tiene que tener una duración entre 3 y 5 minutos.\n",
    "Hay casos que rompen con este esquema, como por ejemplo, Bohemian Rhapsody de Queen.\n",
    "\n",
    "Convertimos esta variable en segundos, y veamos la distribución con un gráfico de cajas para calcular outliers"
   ]
  },
  {
   "cell_type": "code",
   "execution_count": 21,
   "id": "insured-compound",
   "metadata": {},
   "outputs": [
    {
     "name": "stderr",
     "output_type": "stream",
     "text": [
      "c:\\users\\usuario\\appdata\\local\\programs\\python\\python37\\lib\\site-packages\\seaborn\\_decorators.py:43: FutureWarning: Pass the following variable as a keyword arg: x. From version 0.12, the only valid positional argument will be `data`, and passing other arguments without an explicit keyword will result in an error or misinterpretation.\n",
      "  FutureWarning\n"
     ]
    },
    {
     "data": {
      "text/plain": [
       "<AxesSubplot:xlabel='duration_s'>"
      ]
     },
     "execution_count": 21,
     "metadata": {},
     "output_type": "execute_result"
    },
    {
     "data": {
      "image/png": "[encoded data removed]",
      "text/plain": [
       "<Figure size 1080x576 with 1 Axes>"
      ]
     },
     "metadata": {
      "needs_background": "light"
     },
     "output_type": "display_data"
    }
   ],
   "source": [
    "df_spotify['duration_s'] = (df_spotify['duration_ms']/1000).round()\n",
    "\n",
    "#Agrandemos el gráfico\n",
    "plt.figure(figsize=(15,8))\n",
    "\n",
    "sns.boxplot(df_spotify['duration_s'])\n",
    "\n"
   ]
  },
  {
   "cell_type": "markdown",
   "id": "random-syracuse",
   "metadata": {},
   "source": [
    "Tal como creíamos, la mayor cantidad de pistas las tenemos entre 180 y 260 segundos aproximadamente (entre 3 y 4:20 minutos). \n",
    "\n",
    "Podemos observar que hay muchas pistas que están bastante por fuera de este rango de tiempo, siendo su duración menor a 120 segundos y mayor a 360 segundos aproximadamente (2 y 6 minutos respectivamente).\n",
    "\n",
    "Para dejarlo más claro, veamos los valores con un .describe()."
   ]
  },
  {
   "cell_type": "code",
   "execution_count": 22,
   "id": "raising-marine",
   "metadata": {},
   "outputs": [
    {
     "data": {
      "text/plain": [
       "count    6398.000000\n",
       "mean      236.701938\n",
       "std        85.640113\n",
       "min        30.000000\n",
       "25%       193.000000\n",
       "50%       221.000000\n",
       "75%       259.000000\n",
       "max      1734.000000\n",
       "Name: duration_s, dtype: float64"
      ]
     },
     "execution_count": 22,
     "metadata": {},
     "output_type": "execute_result"
    }
   ],
   "source": [
    "df_spotify['duration_s'].describe()"
   ]
  },
  {
   "cell_type": "markdown",
   "id": "entire-makeup",
   "metadata": {},
   "source": [
    "# "
   ]
  },
  {
   "cell_type": "markdown",
   "id": "thousand-fighter",
   "metadata": {},
   "source": [
    "#### Análisis de variable target"
   ]
  },
  {
   "cell_type": "markdown",
   "id": "flexible-mainland",
   "metadata": {},
   "source": [
    "target es la variable que indica si la pista fue un hit o no (HIT o FLOP).\n",
    "\n",
    "Veamos la distribución de esta variable target binaria.\n",
    "\n",
    "Se espera que el dataset esté desbalanceado teniendo menos HITS y más FLOPS. Veámoslo"
   ]
  },
  {
   "cell_type": "code",
   "execution_count": 23,
   "id": "invalid-shape",
   "metadata": {},
   "outputs": [
    {
     "data": {
      "text/plain": [
       "array([1, 0], dtype=int64)"
      ]
     },
     "execution_count": 23,
     "metadata": {},
     "output_type": "execute_result"
    }
   ],
   "source": [
    "#Aseguremos que efectivamente tenemos solo 0's y 1's\n",
    "\n",
    "df_spotify['target'].unique()"
   ]
  },
  {
   "cell_type": "code",
   "execution_count": 24,
   "id": "short-preparation",
   "metadata": {},
   "outputs": [
    {
     "data": {
      "text/plain": [
       "<AxesSubplot:>"
      ]
     },
     "execution_count": 24,
     "metadata": {},
     "output_type": "execute_result"
    },
    {
     "data": {
      "image/png": "[encoded data removed]",
      "text/plain": [
       "<Figure size 432x288 with 1 Axes>"
      ]
     },
     "metadata": {
      "needs_background": "light"
     },
     "output_type": "display_data"
    }
   ],
   "source": [
    "categorical_targets = df_spotify['target'].replace(to_replace=[0,1], value=['FLOP','HIT'])\n",
    "\n",
    "categorical_targets.value_counts().plot.bar()"
   ]
  },
  {
   "cell_type": "markdown",
   "id": "elementary-visibility",
   "metadata": {},
   "source": [
    "Contrario a lo esperado, tenemos un dataset balanceado."
   ]
  },
  {
   "cell_type": "markdown",
   "id": "third-amino",
   "metadata": {},
   "source": [
    "# "
   ]
  }
 ],
 "metadata": {
  "kernelspec": {
   "display_name": "Python 3",
   "language": "python",
   "name": "python3"
  },
  "language_info": {
   "codemirror_mode": {
    "name": "ipython",
    "version": 3
   },
   "file_extension": ".py",
   "mimetype": "text/x-python",
   "name": "python",
   "nbconvert_exporter": "python",
   "pygments_lexer": "ipython3",
   "version": "3.7.7"
  }
 },
 "nbformat": 4,
 "nbformat_minor": 5
}

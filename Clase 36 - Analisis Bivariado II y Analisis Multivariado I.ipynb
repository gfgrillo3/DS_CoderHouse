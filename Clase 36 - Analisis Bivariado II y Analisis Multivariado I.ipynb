{
 "cells": [
  {
   "cell_type": "code",
   "execution_count": null,
   "metadata": {},
   "outputs": [],
   "source": [
    "import warnings\n",
    "warnings.filterwarnings('ignore')\n",
    "import pandas as pd\n",
    "import numpy as np\n",
    "import matplotlib.pyplot as plt\n",
    "import seaborn as sns\n",
    "%matplotlib inline\n",
    "sns.set_style('darkgrid')"
   ]
  },
  {
   "cell_type": "code",
   "execution_count": null,
   "metadata": {},
   "outputs": [],
   "source": [
    "df = pd.read_csv('diabetes.csv')"
   ]
  },
  {
   "cell_type": "code",
   "execution_count": null,
   "metadata": {},
   "outputs": [],
   "source": [
    "df"
   ]
  },
  {
   "cell_type": "code",
   "execution_count": null,
   "metadata": {},
   "outputs": [],
   "source": [
    "df.Outcome = df.Outcome.replace({0:'Non-Diab',1:'Diab'})"
   ]
  },
  {
   "cell_type": "code",
   "execution_count": null,
   "metadata": {},
   "outputs": [],
   "source": [
    "#Renombrar la columna DiabetesPedigreeFunction a DPF\n",
    "df.DiabetesPedigreeFunction = df.rename({'DiabetesPedigreeFunction':'DPF'},inplace = True,axis =1)\n",
    "df.head()"
   ]
  },
  {
   "cell_type": "code",
   "execution_count": null,
   "metadata": {},
   "outputs": [],
   "source": [
    "df.dtypes"
   ]
  },
  {
   "cell_type": "code",
   "execution_count": null,
   "metadata": {},
   "outputs": [],
   "source": [
    "df[\"DPF\"] = pd.to_numeric(df[\"DPF\"])"
   ]
  },
  {
   "cell_type": "code",
   "execution_count": null,
   "metadata": {},
   "outputs": [],
   "source": [
    "df.info()"
   ]
  },
  {
   "cell_type": "code",
   "execution_count": null,
   "metadata": {},
   "outputs": [],
   "source": [
    "df.describe().T"
   ]
  },
  {
   "cell_type": "code",
   "execution_count": null,
   "metadata": {},
   "outputs": [],
   "source": [
    "plt.figure(dpi=200)\n",
    "sns.pairplot(df)\n",
    "plt.show()"
   ]
  },
  {
   "cell_type": "code",
   "execution_count": null,
   "metadata": {},
   "outputs": [],
   "source": [
    "plt.figure(dpi = 200)\n",
    "sns.pairplot(df,hue = 'Outcome',palette = 'plasma')\n",
    "plt.legend(['Non Diabetic','Diabetic'])\n",
    "plt.show()"
   ]
  },
  {
   "cell_type": "code",
   "execution_count": null,
   "metadata": {},
   "outputs": [],
   "source": [
    "plt.figure(dpi = 120,figsize= (5,4))\n",
    "mask = np.triu(np.ones_like(df.corr(),dtype = bool))\n",
    "sns.heatmap(df.corr(),mask = mask, fmt = \".2f\",annot=True,lw=1,cmap = 'plasma')\n",
    "plt.yticks(rotation = 0)\n",
    "plt.xticks(rotation = 90)\n",
    "plt.title('Correlation Heatmap')\n",
    "plt.show()"
   ]
  },
  {
   "cell_type": "code",
   "execution_count": null,
   "metadata": {
    "scrolled": false
   },
   "outputs": [],
   "source": [
    "plt.figure(dpi = 100, figsize = (5,4))\n",
    "print(\"Joint plot de Glucosa con otras variables ==> \\n\")\n",
    "for i in  df.columns:\n",
    "    if i != 'Glucose' and i != 'Outcome':\n",
    "        print(f\"Correlacion entre Glucose y {i} ==> \",df.corr().loc['Glucose'][i])\n",
    "        sns.jointplot(x='Glucose',y=i,data=df,kind = 'reg',color = 'purple')\n",
    "        plt.show()"
   ]
  },
  {
   "cell_type": "markdown",
   "metadata": {},
   "source": [
    "**Insight**: La glucosa muestra una asociación lineal débil positiva con las otras variables del conjunto de datos. Eso significa que al aumentar el nivel de glucosa en los pacientes, también aumentarán las otras variables."
   ]
  },
  {
   "cell_type": "code",
   "execution_count": null,
   "metadata": {},
   "outputs": [],
   "source": [
    "col = list(df.columns)\n",
    "idx = col.index('BloodPressure')\n",
    "\n",
    "plt.figure(dpi = 100, figsize = (5,4))\n",
    "print(\"Joint plot de BloodPressure con otras variables ==> \\n\")\n",
    "for i in  range(idx+1,len(col)-1):\n",
    "    print(f\"Correlacion entre BloodPressure y {col[i]} ==> \",df.corr().loc['BloodPressure'][col[i]])\n",
    "    sns.jointplot(x='BloodPressure',y=col[i],data=df,kind = 'reg',color = 'green')\n",
    "    plt.show()"
   ]
  },
  {
   "cell_type": "markdown",
   "metadata": {},
   "source": [
    "**Insight**: BloodPressure muestra una asociación lineal débil positiva con las otras variables del conjunto de datos dado. Eso significa que al aumentar el nivel de BP en los pacientes, también aumentarán el resto de las variables."
   ]
  },
  {
   "cell_type": "code",
   "execution_count": null,
   "metadata": {},
   "outputs": [],
   "source": [
    "#Crear el join plot entre SkinThickness y el resto de las variables con su correspondiente interpretación.\n",
    "\n",
    "col = list(df.columns)\n",
    "idx = col.index('SkinThickness')\n",
    "\n",
    "plt.figure(dpi = 100, figsize = (5,4))\n",
    "print(\"Joint plot de SkinThickness con otras variables ==> \\n\")\n",
    "for i in  range(idx+1,len(col)-1):\n",
    "    print(f\"Correlacion entre SkinThickness y {col[i]} ==> \",df.corr().loc['SkinThickness'][col[i]])\n",
    "    sns.jointplot(x='SkinThickness',y=col[i],data=df,kind = 'reg',color = 'blue')\n",
    "    plt.show()"
   ]
  },
  {
   "cell_type": "markdown",
   "metadata": {},
   "source": [
    "**Insight**: SkinThickness muestra una asociación lineal débil positiva con el resto de las variables, excepto con la edad. Eso significa que al aumentar el SkinThickness en los pacientes, las otras variables también aumentarán. SkinThickness con la edad muestran una correlación negativa débil es decir, al aumentar SkinThickness, la edad disminuirá."
   ]
  }
 ],
 "metadata": {
  "kernelspec": {
   "display_name": "Python 3",
   "language": "python",
   "name": "python3"
  },
  "language_info": {
   "codemirror_mode": {
    "name": "ipython",
    "version": 3
   },
   "file_extension": ".py",
   "mimetype": "text/x-python",
   "name": "python",
   "nbconvert_exporter": "python",
   "pygments_lexer": "ipython3",
   "version": "3.7.8"
  },
  "varInspector": {
   "cols": {
    "lenName": 16,
    "lenType": 16,
    "lenVar": 40
   },
   "kernels_config": {
    "python": {
     "delete_cmd_postfix": "",
     "delete_cmd_prefix": "del ",
     "library": "var_list.py",
     "varRefreshCmd": "print(var_dic_list())"
    },
    "r": {
     "delete_cmd_postfix": ") ",
     "delete_cmd_prefix": "rm(",
     "library": "var_list.r",
     "varRefreshCmd": "cat(var_dic_list()) "
    }
   },
   "types_to_exclude": [
    "module",
    "function",
    "builtin_function_or_method",
    "instance",
    "_Feature"
   ],
   "window_display": false
  }
 },
 "nbformat": 4,
 "nbformat_minor": 4
}
